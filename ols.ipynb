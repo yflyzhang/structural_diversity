{
 "cells": [
  {
   "cell_type": "code",
   "execution_count": 2,
   "metadata": {},
   "outputs": [],
   "source": [
    "library(dplyr)"
   ]
  },
  {
   "cell_type": "markdown",
   "metadata": {},
   "source": [
    "#### load data"
   ]
  },
  {
   "cell_type": "code",
   "execution_count": 3,
   "metadata": {},
   "outputs": [],
   "source": [
    "data <- read.csv('../data_others/ego_features.csv')"
   ]
  },
  {
   "cell_type": "code",
   "execution_count": 4,
   "metadata": {},
   "outputs": [
    {
     "data": {
      "text/html": [
       "<ol class=list-inline>\n",
       "\t<li>234834</li>\n",
       "\t<li>35</li>\n",
       "</ol>\n"
      ],
      "text/latex": [
       "\\begin{enumerate*}\n",
       "\\item 234834\n",
       "\\item 35\n",
       "\\end{enumerate*}\n"
      ],
      "text/markdown": [
       "1. 234834\n",
       "2. 35\n",
       "\n",
       "\n"
      ],
      "text/plain": [
       "[1] 234834     35"
      ]
     },
     "metadata": {},
     "output_type": "display_data"
    }
   ],
   "source": [
    "dim(data)"
   ]
  },
  {
   "cell_type": "code",
   "execution_count": null,
   "metadata": {},
   "outputs": [],
   "source": []
  },
  {
   "cell_type": "markdown",
   "metadata": {},
   "source": [
    "---\n",
    "### OLS regression"
   ]
  },
  {
   "cell_type": "markdown",
   "metadata": {},
   "source": [
    "----\n",
    "#### 1. weak and strong diversity"
   ]
  },
  {
   "cell_type": "code",
   "execution_count": 6,
   "metadata": {},
   "outputs": [
    {
     "data": {
      "text/html": [
       "<ol class=list-inline>\n",
       "\t<li>234834</li>\n",
       "\t<li>5</li>\n",
       "</ol>\n"
      ],
      "text/latex": [
       "\\begin{enumerate*}\n",
       "\\item 234834\n",
       "\\item 5\n",
       "\\end{enumerate*}\n"
      ],
      "text/markdown": [
       "1. 234834\n",
       "2. 5\n",
       "\n",
       "\n"
      ],
      "text/plain": [
       "[1] 234834      5"
      ]
     },
     "metadata": {},
     "output_type": "display_data"
    },
    {
     "data": {
      "text/plain": [
       " log_in_degree      log_weak_SD      log_strong_SD     log_answerCount  \n",
       " Min.   :0.00000   Min.   :0.00000   Min.   :0.00000   Min.   :0.00000  \n",
       " 1st Qu.:0.00000   1st Qu.:0.00000   1st Qu.:0.00000   1st Qu.:0.00000  \n",
       " Median :0.05176   Median :0.05794   Median :0.05316   Median :0.00000  \n",
       " Mean   :0.07142   Mean   :0.07586   Mean   :0.07195   Mean   :0.09097  \n",
       " 3rd Qu.:0.10352   3rd Qu.:0.11588   3rd Qu.:0.10633   3rd Qu.:0.15315  \n",
       " Max.   :1.00000   Max.   :1.00000   Max.   :1.00000   Max.   :1.00000  \n",
       " social_reputation_100\n",
       " Min.   :0.00000      \n",
       " 1st Qu.:0.00000      \n",
       " Median :0.00000      \n",
       " Mean   :0.05670      \n",
       " 3rd Qu.:0.04948      \n",
       " Max.   :1.00000      "
      ]
     },
     "metadata": {},
     "output_type": "display_data"
    }
   ],
   "source": [
    "dat <-\n",
    "data %>%\n",
    "  mutate(log_in_degree = (log_in_degree-min(log_in_degree))/(max(log_in_degree)-min(log_in_degree))) %>%\n",
    "  mutate(log_weak_SD = (log_weak_SD-min(log_weak_SD))/(max(log_weak_SD)-min(log_weak_SD))) %>%\n",
    "  mutate(log_strong_SD = (log_strong_SD-min(log_strong_SD))/(max(log_strong_SD)-min(log_strong_SD))) %>%\n",
    "  mutate(log_answerCount = (log_answerCount-min(log_answerCount))/(max(log_answerCount)-min(log_answerCount))) %>%\n",
    "  mutate(social_reputation_100 = (social_reputation_100-min(social_reputation_100))/(max(social_reputation_100)-min(social_reputation_100))) %>%\n",
    "  select(log_in_degree, log_weak_SD, \n",
    "    log_strong_SD, log_answerCount, \n",
    "    social_reputation_100) \n",
    "  # %>% summary()\n",
    "\n",
    "dim(dat)\n",
    "summary(dat)"
   ]
  },
  {
   "cell_type": "code",
   "execution_count": 7,
   "metadata": {
    "scrolled": false
   },
   "outputs": [
    {
     "data": {
      "text/plain": [
       "\n",
       "Call:\n",
       "lm(formula = social_reputation_100 ~ log_in_degree, data = dat)\n",
       "\n",
       "Residuals:\n",
       "     Min       1Q   Median       3Q      Max \n",
       "-0.59993 -0.03838  0.00985  0.00985  0.44596 \n",
       "\n",
       "Coefficients:\n",
       "                Estimate Std. Error t value Pr(>|t|)    \n",
       "(Intercept)   -0.0098470  0.0001632  -60.34   <2e-16 ***\n",
       "log_in_degree  0.9317617  0.0012865  724.28   <2e-16 ***\n",
       "---\n",
       "Signif. codes:  0 '***' 0.001 '**' 0.01 '*' 0.05 '.' 0.1 ' ' 1\n",
       "\n",
       "Residual standard error: 0.06536 on 234832 degrees of freedom\n",
       "Multiple R-squared:  0.6908,\tAdjusted R-squared:  0.6908 \n",
       "F-statistic: 5.246e+05 on 1 and 234832 DF,  p-value: < 2.2e-16\n"
      ]
     },
     "metadata": {},
     "output_type": "display_data"
    },
    {
     "name": "stdout",
     "output_type": "stream",
     "text": [
      "\n"
     ]
    },
    {
     "data": {
      "text/plain": [
       "\n",
       "Call:\n",
       "lm(formula = social_reputation_100 ~ log_weak_SD, data = dat)\n",
       "\n",
       "Residuals:\n",
       "     Min       1Q   Median       3Q      Max \n",
       "-0.59976 -0.04061  0.01143  0.01143  0.44373 \n",
       "\n",
       "Coefficients:\n",
       "             Estimate Std. Error t value Pr(>|t|)    \n",
       "(Intercept) -0.011433   0.000162  -70.59   <2e-16 ***\n",
       "log_weak_SD  0.898181   0.001217  738.30   <2e-16 ***\n",
       "---\n",
       "Signif. codes:  0 '***' 0.001 '**' 0.01 '*' 0.05 '.' 0.1 ' ' 1\n",
       "\n",
       "Residual standard error: 0.0645 on 234832 degrees of freedom\n",
       "Multiple R-squared:  0.6989,\tAdjusted R-squared:  0.6989 \n",
       "F-statistic: 5.451e+05 on 1 and 234832 DF,  p-value: < 2.2e-16\n"
      ]
     },
     "metadata": {},
     "output_type": "display_data"
    },
    {
     "name": "stdout",
     "output_type": "stream",
     "text": [
      "\n"
     ]
    },
    {
     "data": {
      "text/plain": [
       "\n",
       "Call:\n",
       "lm(formula = social_reputation_100 ~ log_in_degree + log_weak_SD, \n",
       "    data = dat)\n",
       "\n",
       "Residuals:\n",
       "     Min       1Q   Median       3Q      Max \n",
       "-0.59675 -0.04025  0.01134  0.01134  0.44409 \n",
       "\n",
       "Coefficients:\n",
       "               Estimate Std. Error t value Pr(>|t|)    \n",
       "(Intercept)   -0.011341   0.000162  -69.99   <2e-16 ***\n",
       "log_in_degree  0.136114   0.009926   13.71   <2e-16 ***\n",
       "log_weak_SD    0.768808   0.009513   80.82   <2e-16 ***\n",
       "---\n",
       "Signif. codes:  0 '***' 0.001 '**' 0.01 '*' 0.05 '.' 0.1 ' ' 1\n",
       "\n",
       "Residual standard error: 0.06447 on 234831 degrees of freedom\n",
       "Multiple R-squared:  0.6991,\tAdjusted R-squared:  0.6991 \n",
       "F-statistic: 2.729e+05 on 2 and 234831 DF,  p-value: < 2.2e-16\n"
      ]
     },
     "metadata": {},
     "output_type": "display_data"
    },
    {
     "name": "stdout",
     "output_type": "stream",
     "text": [
      "\n"
     ]
    },
    {
     "data": {
      "text/plain": [
       "\n",
       "Call:\n",
       "lm(formula = social_reputation_100 ~ log_strong_SD, data = dat)\n",
       "\n",
       "Residuals:\n",
       "     Min       1Q   Median       3Q      Max \n",
       "-0.60760 -0.03924  0.01015  0.01015  0.44510 \n",
       "\n",
       "Coefficients:\n",
       "                Estimate Std. Error t value Pr(>|t|)    \n",
       "(Intercept)   -0.0101463  0.0001611  -62.98   <2e-16 ***\n",
       "log_strong_SD  0.9289972  0.0012597  737.49   <2e-16 ***\n",
       "---\n",
       "Signif. codes:  0 '***' 0.001 '**' 0.01 '*' 0.05 '.' 0.1 ' ' 1\n",
       "\n",
       "Residual standard error: 0.06455 on 234832 degrees of freedom\n",
       "Multiple R-squared:  0.6984,\tAdjusted R-squared:  0.6984 \n",
       "F-statistic: 5.439e+05 on 1 and 234832 DF,  p-value: < 2.2e-16\n"
      ]
     },
     "metadata": {},
     "output_type": "display_data"
    },
    {
     "name": "stdout",
     "output_type": "stream",
     "text": [
      "\n"
     ]
    },
    {
     "data": {
      "text/plain": [
       "\n",
       "Call:\n",
       "lm(formula = social_reputation_100 ~ log_in_degree + log_strong_SD, \n",
       "    data = dat)\n",
       "\n",
       "Residuals:\n",
       "     Min       1Q   Median       3Q      Max \n",
       "-0.61042 -0.04004  0.00998  0.00998  0.44430 \n",
       "\n",
       "Coefficients:\n",
       "                Estimate Std. Error t value Pr(>|t|)    \n",
       "(Intercept)   -0.0099776  0.0001607  -62.10   <2e-16 ***\n",
       "log_in_degree -0.7511762  0.0194809  -38.56   <2e-16 ***\n",
       "log_strong_SD  1.6722472  0.0193162   86.57   <2e-16 ***\n",
       "---\n",
       "Signif. codes:  0 '***' 0.001 '**' 0.01 '*' 0.05 '.' 0.1 ' ' 1\n",
       "\n",
       "Residual standard error: 0.06434 on 234831 degrees of freedom\n",
       "Multiple R-squared:  0.7003,\tAdjusted R-squared:  0.7003 \n",
       "F-statistic: 2.744e+05 on 2 and 234831 DF,  p-value: < 2.2e-16\n"
      ]
     },
     "metadata": {},
     "output_type": "display_data"
    },
    {
     "name": "stdout",
     "output_type": "stream",
     "text": [
      "\n"
     ]
    },
    {
     "data": {
      "text/plain": [
       "\n",
       "Call:\n",
       "lm(formula = social_reputation_100 ~ log_weak_SD + log_strong_SD, \n",
       "    data = dat)\n",
       "\n",
       "Residuals:\n",
       "     Min       1Q   Median       3Q      Max \n",
       "-0.59338 -0.03994  0.01098  0.01098  0.44440 \n",
       "\n",
       "Coefficients:\n",
       "                Estimate Std. Error t value Pr(>|t|)    \n",
       "(Intercept)   -0.0109822  0.0001623  -67.69   <2e-16 ***\n",
       "log_weak_SD    0.4849492  0.0132031   36.73   <2e-16 ***\n",
       "log_strong_SD  0.4293698  0.0136606   31.43   <2e-16 ***\n",
       "---\n",
       "Signif. codes:  0 '***' 0.001 '**' 0.01 '*' 0.05 '.' 0.1 ' ' 1\n",
       "\n",
       "Residual standard error: 0.06436 on 234831 degrees of freedom\n",
       "Multiple R-squared:  0.7002,\tAdjusted R-squared:  0.7002 \n",
       "F-statistic: 2.742e+05 on 2 and 234831 DF,  p-value: < 2.2e-16\n"
      ]
     },
     "metadata": {},
     "output_type": "display_data"
    },
    {
     "name": "stdout",
     "output_type": "stream",
     "text": [
      "\n"
     ]
    },
    {
     "data": {
      "text/plain": [
       "\n",
       "Call:\n",
       "lm(formula = social_reputation_100 ~ log_in_degree + log_weak_SD + \n",
       "    log_strong_SD, data = dat)\n",
       "\n",
       "Residuals:\n",
       "     Min       1Q   Median       3Q      Max \n",
       "-0.59584 -0.04039  0.01064  0.01064  0.44395 \n",
       "\n",
       "Coefficients:\n",
       "                Estimate Std. Error t value Pr(>|t|)    \n",
       "(Intercept)   -0.0106379  0.0001624  -65.50   <2e-16 ***\n",
       "log_in_degree -0.5849440  0.0204721  -28.57   <2e-16 ***\n",
       "log_weak_SD    0.3614506  0.0138709   26.06   <2e-16 ***\n",
       "log_strong_SD  1.1353783  0.0282225   40.23   <2e-16 ***\n",
       "---\n",
       "Signif. codes:  0 '***' 0.001 '**' 0.01 '*' 0.05 '.' 0.1 ' ' 1\n",
       "\n",
       "Residual standard error: 0.06425 on 234830 degrees of freedom\n",
       "Multiple R-squared:  0.7012,\tAdjusted R-squared:  0.7012 \n",
       "F-statistic: 1.837e+05 on 3 and 234830 DF,  p-value: < 2.2e-16\n"
      ]
     },
     "metadata": {},
     "output_type": "display_data"
    }
   ],
   "source": [
    "\n",
    "model1 = lm(social_reputation_100 ~ log_in_degree,\n",
    "           data = dat)\n",
    "summary(model1)\n",
    "\n",
    "cat('\\n')\n",
    "\n",
    "model2 = lm(social_reputation_100 ~ log_weak_SD,\n",
    "           data = dat)\n",
    "summary(model2)\n",
    "\n",
    "cat('\\n')\n",
    "\n",
    "model2.1 = lm(social_reputation_100 ~ log_in_degree + log_weak_SD,\n",
    "           data = dat)\n",
    "summary(model2.1)\n",
    "\n",
    "cat('\\n')\n",
    "\n",
    "model3 = lm(social_reputation_100 ~ log_strong_SD,\n",
    "           data = dat)\n",
    "summary(model3)\n",
    "\n",
    "cat('\\n')\n",
    "\n",
    "model3.1 = lm(social_reputation_100 ~ log_in_degree + log_strong_SD,\n",
    "           data = dat)\n",
    "summary(model3.1)\n",
    "\n",
    "cat('\\n')\n",
    "\n",
    "model3.2 = lm(social_reputation_100 ~  log_weak_SD + log_strong_SD,\n",
    "           data = dat)\n",
    "summary(model3.2)\n",
    "\n",
    "cat('\\n')\n",
    "\n",
    "model4 = lm(social_reputation_100 ~ log_in_degree + log_weak_SD + log_strong_SD,\n",
    "           data = dat)\n",
    "summary(model4)\n"
   ]
  },
  {
   "cell_type": "markdown",
   "metadata": {},
   "source": [
    "---\n",
    "*on top 5% ego users*"
   ]
  },
  {
   "cell_type": "code",
   "execution_count": 8,
   "metadata": {},
   "outputs": [
    {
     "data": {
      "text/html": [
       "<strong>95%:</strong> 33.3620129500335"
      ],
      "text/latex": [
       "\\textbf{95\\textbackslash{}\\%:} 33.3620129500335"
      ],
      "text/markdown": [
       "**95%:** 33.3620129500335"
      ],
      "text/plain": [
       "     95% \n",
       "33.36201 "
      ]
     },
     "metadata": {},
     "output_type": "display_data"
    }
   ],
   "source": [
    "quantile(data$social_reputation_100, probs=0.95)"
   ]
  },
  {
   "cell_type": "code",
   "execution_count": 9,
   "metadata": {},
   "outputs": [
    {
     "data": {
      "text/html": [
       "<ol class=list-inline>\n",
       "\t<li>11742</li>\n",
       "\t<li>5</li>\n",
       "</ol>\n"
      ],
      "text/latex": [
       "\\begin{enumerate*}\n",
       "\\item 11742\n",
       "\\item 5\n",
       "\\end{enumerate*}\n"
      ],
      "text/markdown": [
       "1. 11742\n",
       "2. 5\n",
       "\n",
       "\n"
      ],
      "text/plain": [
       "[1] 11742     5"
      ]
     },
     "metadata": {},
     "output_type": "display_data"
    },
    {
     "data": {
      "text/plain": [
       " log_in_degree     log_weak_SD     log_strong_SD    log_answerCount \n",
       " Min.   :0.0000   Min.   :0.0000   Min.   :0.0000   Min.   :0.0000  \n",
       " 1st Qu.:0.2826   1st Qu.:0.3041   1st Qu.:0.2885   1st Qu.:0.2834  \n",
       " Median :0.3537   Median :0.3743   Median :0.3591   Median :0.3863  \n",
       " Mean   :0.3698   Mean   :0.3887   Mean   :0.3754   Mean   :0.3857  \n",
       " 3rd Qu.:0.4389   3rd Qu.:0.4585   3rd Qu.:0.4450   3rd Qu.:0.4813  \n",
       " Max.   :1.0000   Max.   :1.0000   Max.   :1.0000   Max.   :1.0000  \n",
       " social_reputation_100\n",
       " Min.   :0.00000      \n",
       " 1st Qu.:0.06309      \n",
       " Median :0.14539      \n",
       " Mean   :0.18020      \n",
       " 3rd Qu.:0.26251      \n",
       " Max.   :1.00000      "
      ]
     },
     "metadata": {},
     "output_type": "display_data"
    }
   ],
   "source": [
    "dat <-\n",
    "data %>%\n",
    "  filter(social_reputation_100>=33.3620129500335) %>%    # top 5%\n",
    "  mutate(log_in_degree = (log_in_degree-min(log_in_degree))/(max(log_in_degree)-min(log_in_degree))) %>%\n",
    "  mutate(log_weak_SD = (log_weak_SD-min(log_weak_SD))/(max(log_weak_SD)-min(log_weak_SD))) %>%\n",
    "  mutate(log_strong_SD = (log_strong_SD-min(log_strong_SD))/(max(log_strong_SD)-min(log_strong_SD))) %>%\n",
    "  mutate(log_answerCount = (log_answerCount-min(log_answerCount))/(max(log_answerCount)-min(log_answerCount))) %>%\n",
    "  mutate(social_reputation_100 = (social_reputation_100-min(social_reputation_100))/(max(social_reputation_100)-min(social_reputation_100))) %>%\n",
    "  select(log_in_degree, log_weak_SD, \n",
    "    log_strong_SD, log_answerCount, \n",
    "    social_reputation_100) \n",
    "  # %>% summary()\n",
    "\n",
    "dim(dat)\n",
    "summary(dat)"
   ]
  },
  {
   "cell_type": "code",
   "execution_count": 10,
   "metadata": {
    "scrolled": false
   },
   "outputs": [
    {
     "data": {
      "text/plain": [
       "\n",
       "Call:\n",
       "lm(formula = social_reputation_100 ~ log_in_degree, data = dat)\n",
       "\n",
       "Residuals:\n",
       "     Min       1Q   Median       3Q      Max \n",
       "-0.48860 -0.06007 -0.00131  0.06303  0.35440 \n",
       "\n",
       "Coefficients:\n",
       "               Estimate Std. Error t value Pr(>|t|)    \n",
       "(Intercept)   -0.161773   0.002795  -57.88   <2e-16 ***\n",
       "log_in_degree  0.924634   0.007177  128.84   <2e-16 ***\n",
       "---\n",
       "Signif. codes:  0 '***' 0.001 '**' 0.01 '*' 0.05 '.' 0.1 ' ' 1\n",
       "\n",
       "Residual standard error: 0.09492 on 11740 degrees of freedom\n",
       "Multiple R-squared:  0.5857,\tAdjusted R-squared:  0.5857 \n",
       "F-statistic: 1.66e+04 on 1 and 11740 DF,  p-value: < 2.2e-16\n"
      ]
     },
     "metadata": {},
     "output_type": "display_data"
    },
    {
     "name": "stdout",
     "output_type": "stream",
     "text": [
      "\n"
     ]
    },
    {
     "data": {
      "text/plain": [
       "\n",
       "Call:\n",
       "lm(formula = social_reputation_100 ~ log_weak_SD, data = dat)\n",
       "\n",
       "Residuals:\n",
       "     Min       1Q   Median       3Q      Max \n",
       "-0.49924 -0.05801 -0.00068  0.06056  0.40696 \n",
       "\n",
       "Coefficients:\n",
       "             Estimate Std. Error t value Pr(>|t|)    \n",
       "(Intercept) -0.197113   0.002961  -66.56   <2e-16 ***\n",
       "log_weak_SD  0.970670   0.007290  133.14   <2e-16 ***\n",
       "---\n",
       "Signif. codes:  0 '***' 0.001 '**' 0.01 '*' 0.05 '.' 0.1 ' ' 1\n",
       "\n",
       "Residual standard error: 0.09309 on 11740 degrees of freedom\n",
       "Multiple R-squared:  0.6016,\tAdjusted R-squared:  0.6016 \n",
       "F-statistic: 1.773e+04 on 1 and 11740 DF,  p-value: < 2.2e-16\n"
      ]
     },
     "metadata": {},
     "output_type": "display_data"
    },
    {
     "name": "stdout",
     "output_type": "stream",
     "text": [
      "\n"
     ]
    },
    {
     "data": {
      "text/plain": [
       "\n",
       "Call:\n",
       "lm(formula = social_reputation_100 ~ log_in_degree + log_weak_SD, \n",
       "    data = dat)\n",
       "\n",
       "Residuals:\n",
       "     Min       1Q   Median       3Q      Max \n",
       "-0.49203 -0.05865 -0.00090  0.06152  0.36339 \n",
       "\n",
       "Coefficients:\n",
       "               Estimate Std. Error t value Pr(>|t|)    \n",
       "(Intercept)   -0.191613   0.002982  -64.25   <2e-16 ***\n",
       "log_in_degree  0.303664   0.026144   11.62   <2e-16 ***\n",
       "log_weak_SD    0.667597   0.027081   24.65   <2e-16 ***\n",
       "---\n",
       "Signif. codes:  0 '***' 0.001 '**' 0.01 '*' 0.05 '.' 0.1 ' ' 1\n",
       "\n",
       "Residual standard error: 0.09256 on 11739 degrees of freedom\n",
       "Multiple R-squared:  0.6061,\tAdjusted R-squared:  0.6061 \n",
       "F-statistic:  9032 on 2 and 11739 DF,  p-value: < 2.2e-16\n"
      ]
     },
     "metadata": {},
     "output_type": "display_data"
    },
    {
     "name": "stdout",
     "output_type": "stream",
     "text": [
      "\n"
     ]
    },
    {
     "data": {
      "text/plain": [
       "\n",
       "Call:\n",
       "lm(formula = social_reputation_100 ~ log_strong_SD, data = dat)\n",
       "\n",
       "Residuals:\n",
       "     Min       1Q   Median       3Q      Max \n",
       "-0.48271 -0.05918 -0.00134  0.06209  0.35606 \n",
       "\n",
       "Coefficients:\n",
       "               Estimate Std. Error t value Pr(>|t|)    \n",
       "(Intercept)   -0.167404   0.002781   -60.2   <2e-16 ***\n",
       "log_strong_SD  0.925872   0.007039   131.5   <2e-16 ***\n",
       "---\n",
       "Signif. codes:  0 '***' 0.001 '**' 0.01 '*' 0.05 '.' 0.1 ' ' 1\n",
       "\n",
       "Residual standard error: 0.09377 on 11740 degrees of freedom\n",
       "Multiple R-squared:  0.5957,\tAdjusted R-squared:  0.5957 \n",
       "F-statistic: 1.73e+04 on 1 and 11740 DF,  p-value: < 2.2e-16\n"
      ]
     },
     "metadata": {},
     "output_type": "display_data"
    },
    {
     "name": "stdout",
     "output_type": "stream",
     "text": [
      "\n"
     ]
    },
    {
     "data": {
      "text/plain": [
       "\n",
       "Call:\n",
       "lm(formula = social_reputation_100 ~ log_in_degree + log_strong_SD, \n",
       "    data = dat)\n",
       "\n",
       "Residuals:\n",
       "     Min       1Q   Median       3Q      Max \n",
       "-0.48095 -0.05852 -0.00091  0.06163  0.35661 \n",
       "\n",
       "Coefficients:\n",
       "               Estimate Std. Error t value Pr(>|t|)    \n",
       "(Intercept)   -0.169779   0.002773  -61.23   <2e-16 ***\n",
       "log_in_degree -1.174918   0.101793  -11.54   <2e-16 ***\n",
       "log_strong_SD  2.089626   0.101068   20.68   <2e-16 ***\n",
       "---\n",
       "Signif. codes:  0 '***' 0.001 '**' 0.01 '*' 0.05 '.' 0.1 ' ' 1\n",
       "\n",
       "Residual standard error: 0.09324 on 11739 degrees of freedom\n",
       "Multiple R-squared:  0.6003,\tAdjusted R-squared:  0.6002 \n",
       "F-statistic:  8815 on 2 and 11739 DF,  p-value: < 2.2e-16\n"
      ]
     },
     "metadata": {},
     "output_type": "display_data"
    },
    {
     "name": "stdout",
     "output_type": "stream",
     "text": [
      "\n"
     ]
    },
    {
     "data": {
      "text/plain": [
       "\n",
       "Call:\n",
       "lm(formula = social_reputation_100 ~ log_weak_SD + log_strong_SD, \n",
       "    data = dat)\n",
       "\n",
       "Residuals:\n",
       "     Min       1Q   Median       3Q      Max \n",
       "-0.49209 -0.05841 -0.00086  0.06146  0.36163 \n",
       "\n",
       "Coefficients:\n",
       "               Estimate Std. Error t value Pr(>|t|)    \n",
       "(Intercept)   -0.189505   0.003011  -62.93   <2e-16 ***\n",
       "log_weak_SD    0.586492   0.032917   17.82   <2e-16 ***\n",
       "log_strong_SD  0.377502   0.031552   11.96   <2e-16 ***\n",
       "---\n",
       "Signif. codes:  0 '***' 0.001 '**' 0.01 '*' 0.05 '.' 0.1 ' ' 1\n",
       "\n",
       "Residual standard error: 0.09253 on 11739 degrees of freedom\n",
       "Multiple R-squared:  0.6064,\tAdjusted R-squared:  0.6063 \n",
       "F-statistic:  9043 on 2 and 11739 DF,  p-value: < 2.2e-16\n"
      ]
     },
     "metadata": {},
     "output_type": "display_data"
    },
    {
     "name": "stdout",
     "output_type": "stream",
     "text": [
      "\n"
     ]
    },
    {
     "data": {
      "text/plain": [
       "\n",
       "Call:\n",
       "lm(formula = social_reputation_100 ~ log_in_degree + log_weak_SD + \n",
       "    log_strong_SD, data = dat)\n",
       "\n",
       "Residuals:\n",
       "     Min       1Q   Median       3Q      Max \n",
       "-0.49218 -0.05838 -0.00079  0.06146  0.36130 \n",
       "\n",
       "Coefficients:\n",
       "               Estimate Std. Error t value Pr(>|t|)    \n",
       "(Intercept)   -0.189127   0.003102 -60.964  < 2e-16 ***\n",
       "log_in_degree -0.066052   0.130173  -0.507  0.61187    \n",
       "log_weak_SD    0.572916   0.042420  13.506  < 2e-16 ***\n",
       "log_strong_SD  0.455619   0.157152   2.899  0.00375 ** \n",
       "---\n",
       "Signif. codes:  0 '***' 0.001 '**' 0.01 '*' 0.05 '.' 0.1 ' ' 1\n",
       "\n",
       "Residual standard error: 0.09253 on 11738 degrees of freedom\n",
       "Multiple R-squared:  0.6064,\tAdjusted R-squared:  0.6063 \n",
       "F-statistic:  6028 on 3 and 11738 DF,  p-value: < 2.2e-16\n"
      ]
     },
     "metadata": {},
     "output_type": "display_data"
    }
   ],
   "source": [
    "\n",
    "model1 = lm(social_reputation_100 ~ log_in_degree,\n",
    "           data = dat)\n",
    "summary(model1)\n",
    "\n",
    "cat('\\n')\n",
    "\n",
    "model2 = lm(social_reputation_100 ~ log_weak_SD,\n",
    "           data = dat)\n",
    "summary(model2)\n",
    "\n",
    "cat('\\n')\n",
    "\n",
    "model2.1 = lm(social_reputation_100 ~ log_in_degree + log_weak_SD,\n",
    "           data = dat)\n",
    "summary(model2.1)\n",
    "\n",
    "cat('\\n')\n",
    "\n",
    "model3 = lm(social_reputation_100 ~ log_strong_SD,\n",
    "           data = dat)\n",
    "summary(model3)\n",
    "\n",
    "cat('\\n')\n",
    "\n",
    "model3.1 = lm(social_reputation_100 ~ log_in_degree + log_strong_SD,\n",
    "           data = dat)\n",
    "summary(model3.1)\n",
    "\n",
    "cat('\\n')\n",
    "\n",
    "model3.2 = lm(social_reputation_100 ~  log_weak_SD + log_strong_SD,\n",
    "           data = dat)\n",
    "summary(model3.2)\n",
    "\n",
    "cat('\\n')\n",
    "\n",
    "model4 = lm(social_reputation_100 ~ log_in_degree + log_weak_SD + log_strong_SD,\n",
    "           data = dat)\n",
    "summary(model4)\n"
   ]
  },
  {
   "cell_type": "code",
   "execution_count": null,
   "metadata": {},
   "outputs": [],
   "source": []
  },
  {
   "cell_type": "markdown",
   "metadata": {},
   "source": [
    "----\n",
    "#### 2. k-clip diversity measure"
   ]
  },
  {
   "cell_type": "code",
   "execution_count": 11,
   "metadata": {},
   "outputs": [
    {
     "data": {
      "text/html": [
       "<ol class=list-inline>\n",
       "\t<li>234834</li>\n",
       "\t<li>6</li>\n",
       "</ol>\n"
      ],
      "text/latex": [
       "\\begin{enumerate*}\n",
       "\\item 234834\n",
       "\\item 6\n",
       "\\end{enumerate*}\n"
      ],
      "text/markdown": [
       "1. 234834\n",
       "2. 6\n",
       "\n",
       "\n"
      ],
      "text/plain": [
       "[1] 234834      6"
      ]
     },
     "metadata": {},
     "output_type": "display_data"
    },
    {
     "data": {
      "text/plain": [
       " log_in_degree      log_weak_SD      log_strong_SD     log_sd_kclip_5   \n",
       " Min.   :0.00000   Min.   :0.00000   Min.   :0.00000   Min.   :0.00000  \n",
       " 1st Qu.:0.00000   1st Qu.:0.00000   1st Qu.:0.00000   1st Qu.:0.00000  \n",
       " Median :0.05176   Median :0.05794   Median :0.05316   Median :0.05571  \n",
       " Mean   :0.07142   Mean   :0.07586   Mean   :0.07195   Mean   :0.07337  \n",
       " 3rd Qu.:0.10352   3rd Qu.:0.11588   3rd Qu.:0.10633   3rd Qu.:0.11141  \n",
       " Max.   :1.00000   Max.   :1.00000   Max.   :1.00000   Max.   :1.00000  \n",
       " log_answerCount   social_reputation_100\n",
       " Min.   :0.00000   Min.   :0.00000      \n",
       " 1st Qu.:0.00000   1st Qu.:0.00000      \n",
       " Median :0.00000   Median :0.00000      \n",
       " Mean   :0.09097   Mean   :0.05670      \n",
       " 3rd Qu.:0.15315   3rd Qu.:0.04948      \n",
       " Max.   :1.00000   Max.   :1.00000      "
      ]
     },
     "metadata": {},
     "output_type": "display_data"
    }
   ],
   "source": [
    "\n",
    "dat <-\n",
    "data %>%\n",
    "#   filter(social_reputation_100>=33.3620129500335) %>%    # top 5%\n",
    "  mutate(log_in_degree = (log_in_degree-min(log_in_degree))/(max(log_in_degree)-min(log_in_degree))) %>%\n",
    "  mutate(log_weak_SD = (log_weak_SD-min(log_weak_SD))/(max(log_weak_SD)-min(log_weak_SD))) %>%\n",
    "  mutate(log_strong_SD = (log_strong_SD-min(log_strong_SD))/(max(log_strong_SD)-min(log_strong_SD))) %>%\n",
    "  mutate(log_sd_kclip_5 = (log_sd_kclip_5-min(log_sd_kclip_5))/(max(log_sd_kclip_5)-min(log_sd_kclip_5))) %>%\n",
    "  mutate(log_answerCount = (log_answerCount-min(log_answerCount))/(max(log_answerCount)-min(log_answerCount))) %>%\n",
    "  mutate(social_reputation_100 = (social_reputation_100-min(social_reputation_100))/(max(social_reputation_100)-min(social_reputation_100))) %>%\n",
    "  select(log_in_degree, \n",
    "         log_weak_SD, \n",
    "         log_strong_SD, \n",
    "         log_sd_kclip_5,\n",
    "         log_answerCount, \n",
    "         social_reputation_100) \n",
    "  # %>% summary()\n",
    "\n",
    "dim(dat)\n",
    "summary(dat)\n"
   ]
  },
  {
   "cell_type": "code",
   "execution_count": 12,
   "metadata": {},
   "outputs": [
    {
     "data": {
      "text/plain": [
       "\n",
       "Call:\n",
       "lm(formula = social_reputation_100 ~ log_sd_kclip_5, data = dat)\n",
       "\n",
       "Residuals:\n",
       "     Min       1Q   Median       3Q      Max \n",
       "-0.59359 -0.04038  0.01108  0.01108  0.44396 \n",
       "\n",
       "Coefficients:\n",
       "                 Estimate Std. Error t value Pr(>|t|)    \n",
       "(Intercept)    -0.0110846  0.0001612  -68.78   <2e-16 ***\n",
       "log_sd_kclip_5  0.9237983  0.0012463  741.26   <2e-16 ***\n",
       "---\n",
       "Signif. codes:  0 '***' 0.001 '**' 0.01 '*' 0.05 '.' 0.1 ' ' 1\n",
       "\n",
       "Residual standard error: 0.06432 on 234832 degrees of freedom\n",
       "Multiple R-squared:  0.7006,\tAdjusted R-squared:  0.7006 \n",
       "F-statistic: 5.495e+05 on 1 and 234832 DF,  p-value: < 2.2e-16\n"
      ]
     },
     "metadata": {},
     "output_type": "display_data"
    },
    {
     "name": "stdout",
     "output_type": "stream",
     "text": [
      "\n"
     ]
    },
    {
     "data": {
      "text/plain": [
       "\n",
       "Call:\n",
       "lm(formula = social_reputation_100 ~ log_in_degree + log_sd_kclip_5, \n",
       "    data = dat)\n",
       "\n",
       "Residuals:\n",
       "     Min       1Q   Median       3Q      Max \n",
       "-0.59584 -0.04070  0.01114  0.01114  0.44364 \n",
       "\n",
       "Coefficients:\n",
       "                 Estimate Std. Error t value Pr(>|t|)    \n",
       "(Intercept)    -0.0111422  0.0001612  -69.12   <2e-16 ***\n",
       "log_in_degree  -0.1360127  0.0121388  -11.21   <2e-16 ***\n",
       "log_sd_kclip_5  1.0569714  0.0119505   88.45   <2e-16 ***\n",
       "---\n",
       "Signif. codes:  0 '***' 0.001 '**' 0.01 '*' 0.05 '.' 0.1 ' ' 1\n",
       "\n",
       "Residual standard error: 0.0643 on 234831 degrees of freedom\n",
       "Multiple R-squared:  0.7007,\tAdjusted R-squared:  0.7007 \n",
       "F-statistic: 2.749e+05 on 2 and 234831 DF,  p-value: < 2.2e-16\n"
      ]
     },
     "metadata": {},
     "output_type": "display_data"
    },
    {
     "name": "stdout",
     "output_type": "stream",
     "text": [
      "\n"
     ]
    },
    {
     "data": {
      "text/plain": [
       "\n",
       "Call:\n",
       "lm(formula = social_reputation_100 ~ log_weak_SD + log_sd_kclip_5, \n",
       "    data = dat)\n",
       "\n",
       "Residuals:\n",
       "     Min       1Q   Median       3Q      Max \n",
       "-0.59198 -0.04033  0.01098  0.01098  0.44401 \n",
       "\n",
       "Coefficients:\n",
       "                Estimate Std. Error t value Pr(>|t|)    \n",
       "(Intercept)    -0.010977   0.000162  -67.78  < 2e-16 ***\n",
       "log_weak_SD    -0.198587   0.029728   -6.68 2.39e-11 ***\n",
       "log_sd_kclip_5  1.127634   0.030539   36.92  < 2e-16 ***\n",
       "---\n",
       "Signif. codes:  0 '***' 0.001 '**' 0.01 '*' 0.05 '.' 0.1 ' ' 1\n",
       "\n",
       "Residual standard error: 0.06431 on 234831 degrees of freedom\n",
       "Multiple R-squared:  0.7006,\tAdjusted R-squared:  0.7006 \n",
       "F-statistic: 2.748e+05 on 2 and 234831 DF,  p-value: < 2.2e-16\n"
      ]
     },
     "metadata": {},
     "output_type": "display_data"
    },
    {
     "name": "stdout",
     "output_type": "stream",
     "text": [
      "\n"
     ]
    },
    {
     "data": {
      "text/plain": [
       "\n",
       "Call:\n",
       "lm(formula = social_reputation_100 ~ log_strong_SD + log_sd_kclip_5, \n",
       "    data = dat)\n",
       "\n",
       "Residuals:\n",
       "     Min       1Q   Median       3Q      Max \n",
       "-0.59200 -0.04014  0.01095  0.01095  0.44420 \n",
       "\n",
       "Coefficients:\n",
       "                 Estimate Std. Error t value Pr(>|t|)    \n",
       "(Intercept)    -0.0109518  0.0001616  -67.76   <2e-16 ***\n",
       "log_strong_SD   0.1863148  0.0175829   10.60   <2e-16 ***\n",
       "log_sd_kclip_5  0.7392813  0.0174577   42.35   <2e-16 ***\n",
       "---\n",
       "Signif. codes:  0 '***' 0.001 '**' 0.01 '*' 0.05 '.' 0.1 ' ' 1\n",
       "\n",
       "Residual standard error: 0.0643 on 234831 degrees of freedom\n",
       "Multiple R-squared:  0.7007,\tAdjusted R-squared:  0.7007 \n",
       "F-statistic: 2.749e+05 on 2 and 234831 DF,  p-value: < 2.2e-16\n"
      ]
     },
     "metadata": {},
     "output_type": "display_data"
    }
   ],
   "source": [
    "model0 = lm(social_reputation_100 ~  log_sd_kclip_5,\n",
    "           data = dat)\n",
    "summary(model0)\n",
    "\n",
    "cat('\\n')\n",
    "\n",
    "model1 = lm(social_reputation_100 ~ log_in_degree + log_sd_kclip_5,\n",
    "           data = dat)\n",
    "summary(model1)\n",
    "\n",
    "cat('\\n')\n",
    "\n",
    "model2 = lm(social_reputation_100 ~ log_weak_SD + log_sd_kclip_5,\n",
    "           data = dat)\n",
    "summary(model2)\n",
    "\n",
    "cat('\\n')\n",
    "\n",
    "model3 = lm(social_reputation_100 ~ log_strong_SD + log_sd_kclip_5,\n",
    "           data = dat)\n",
    "summary(model3)"
   ]
  },
  {
   "cell_type": "markdown",
   "metadata": {},
   "source": [
    "---\n",
    "*on top 5% ego users*"
   ]
  },
  {
   "cell_type": "code",
   "execution_count": 13,
   "metadata": {},
   "outputs": [
    {
     "data": {
      "text/html": [
       "<ol class=list-inline>\n",
       "\t<li>11742</li>\n",
       "\t<li>6</li>\n",
       "</ol>\n"
      ],
      "text/latex": [
       "\\begin{enumerate*}\n",
       "\\item 11742\n",
       "\\item 6\n",
       "\\end{enumerate*}\n"
      ],
      "text/markdown": [
       "1. 11742\n",
       "2. 6\n",
       "\n",
       "\n"
      ],
      "text/plain": [
       "[1] 11742     6"
      ]
     },
     "metadata": {},
     "output_type": "display_data"
    },
    {
     "data": {
      "text/plain": [
       " log_in_degree     log_weak_SD     log_strong_SD    log_sd_kclip_5  \n",
       " Min.   :0.0000   Min.   :0.0000   Min.   :0.0000   Min.   :0.0000  \n",
       " 1st Qu.:0.2826   1st Qu.:0.3041   1st Qu.:0.2885   1st Qu.:0.2944  \n",
       " Median :0.3537   Median :0.3743   Median :0.3591   Median :0.3634  \n",
       " Mean   :0.3698   Mean   :0.3887   Mean   :0.3754   Mean   :0.3787  \n",
       " 3rd Qu.:0.4389   3rd Qu.:0.4585   3rd Qu.:0.4450   3rd Qu.:0.4469  \n",
       " Max.   :1.0000   Max.   :1.0000   Max.   :1.0000   Max.   :1.0000  \n",
       " log_answerCount  social_reputation_100\n",
       " Min.   :0.0000   Min.   :0.00000      \n",
       " 1st Qu.:0.2834   1st Qu.:0.06309      \n",
       " Median :0.3863   Median :0.14539      \n",
       " Mean   :0.3857   Mean   :0.18020      \n",
       " 3rd Qu.:0.4813   3rd Qu.:0.26251      \n",
       " Max.   :1.0000   Max.   :1.00000      "
      ]
     },
     "metadata": {},
     "output_type": "display_data"
    }
   ],
   "source": [
    "\n",
    "dat <-\n",
    "data %>%\n",
    "  filter(social_reputation_100>=33.3620129500335) %>%    # top 5%\n",
    "  mutate(log_in_degree = (log_in_degree-min(log_in_degree))/(max(log_in_degree)-min(log_in_degree))) %>%\n",
    "  mutate(log_weak_SD = (log_weak_SD-min(log_weak_SD))/(max(log_weak_SD)-min(log_weak_SD))) %>%\n",
    "  mutate(log_strong_SD = (log_strong_SD-min(log_strong_SD))/(max(log_strong_SD)-min(log_strong_SD))) %>%\n",
    "  mutate(log_sd_kclip_5 = (log_sd_kclip_5-min(log_sd_kclip_5))/(max(log_sd_kclip_5)-min(log_sd_kclip_5))) %>%\n",
    "  mutate(log_answerCount = (log_answerCount-min(log_answerCount))/(max(log_answerCount)-min(log_answerCount))) %>%\n",
    "  mutate(social_reputation_100 = (social_reputation_100-min(social_reputation_100))/(max(social_reputation_100)-min(social_reputation_100))) %>%\n",
    "  select(log_in_degree, \n",
    "         log_weak_SD, \n",
    "         log_strong_SD, \n",
    "         log_sd_kclip_5,\n",
    "         log_answerCount, \n",
    "         social_reputation_100) \n",
    "  # %>% summary()\n",
    "\n",
    "dim(dat)\n",
    "summary(dat)\n"
   ]
  },
  {
   "cell_type": "code",
   "execution_count": 14,
   "metadata": {},
   "outputs": [
    {
     "data": {
      "text/plain": [
       "\n",
       "Call:\n",
       "lm(formula = social_reputation_100 ~ log_sd_kclip_5, data = dat)\n",
       "\n",
       "Residuals:\n",
       "     Min       1Q   Median       3Q      Max \n",
       "-0.48698 -0.05808 -0.00060  0.06094  0.35915 \n",
       "\n",
       "Coefficients:\n",
       "                Estimate Std. Error t value Pr(>|t|)    \n",
       "(Intercept)    -0.186977   0.002847  -65.67   <2e-16 ***\n",
       "log_sd_kclip_5  0.969450   0.007174  135.14   <2e-16 ***\n",
       "---\n",
       "Signif. codes:  0 '***' 0.001 '**' 0.01 '*' 0.05 '.' 0.1 ' ' 1\n",
       "\n",
       "Residual standard error: 0.09225 on 11740 degrees of freedom\n",
       "Multiple R-squared:  0.6087,\tAdjusted R-squared:  0.6087 \n",
       "F-statistic: 1.826e+04 on 1 and 11740 DF,  p-value: < 2.2e-16\n"
      ]
     },
     "metadata": {},
     "output_type": "display_data"
    },
    {
     "name": "stdout",
     "output_type": "stream",
     "text": [
      "\n"
     ]
    },
    {
     "data": {
      "text/plain": [
       "\n",
       "Call:\n",
       "lm(formula = social_reputation_100 ~ log_in_degree + log_sd_kclip_5, \n",
       "    data = dat)\n",
       "\n",
       "Residuals:\n",
       "     Min       1Q   Median       3Q      Max \n",
       "-0.48804 -0.05784 -0.00082  0.06086  0.35969 \n",
       "\n",
       "Coefficients:\n",
       "                Estimate Std. Error t value Pr(>|t|)    \n",
       "(Intercept)    -0.187808   0.002891 -64.963   <2e-16 ***\n",
       "log_in_degree  -0.063223   0.038193  -1.655   0.0979 .  \n",
       "log_sd_kclip_5  1.033382   0.039281  26.307   <2e-16 ***\n",
       "---\n",
       "Signif. codes:  0 '***' 0.001 '**' 0.01 '*' 0.05 '.' 0.1 ' ' 1\n",
       "\n",
       "Residual standard error: 0.09225 on 11739 degrees of freedom\n",
       "Multiple R-squared:  0.6088,\tAdjusted R-squared:  0.6087 \n",
       "F-statistic:  9134 on 2 and 11739 DF,  p-value: < 2.2e-16\n"
      ]
     },
     "metadata": {},
     "output_type": "display_data"
    },
    {
     "name": "stdout",
     "output_type": "stream",
     "text": [
      "\n"
     ]
    },
    {
     "data": {
      "text/plain": [
       "\n",
       "Call:\n",
       "lm(formula = social_reputation_100 ~ log_weak_SD + log_sd_kclip_5, \n",
       "    data = dat)\n",
       "\n",
       "Residuals:\n",
       "     Min       1Q   Median       3Q      Max \n",
       "-0.48765 -0.05810 -0.00065  0.06095  0.35962 \n",
       "\n",
       "Coefficients:\n",
       "                Estimate Std. Error t value Pr(>|t|)    \n",
       "(Intercept)    -0.187561   0.003007 -62.383   <2e-16 ***\n",
       "log_weak_SD     0.038822   0.064162   0.605    0.545    \n",
       "log_sd_kclip_5  0.931149   0.063706  14.616   <2e-16 ***\n",
       "---\n",
       "Signif. codes:  0 '***' 0.001 '**' 0.01 '*' 0.05 '.' 0.1 ' ' 1\n",
       "\n",
       "Residual standard error: 0.09226 on 11739 degrees of freedom\n",
       "Multiple R-squared:  0.6087,\tAdjusted R-squared:  0.6086 \n",
       "F-statistic:  9131 on 2 and 11739 DF,  p-value: < 2.2e-16\n"
      ]
     },
     "metadata": {},
     "output_type": "display_data"
    },
    {
     "name": "stdout",
     "output_type": "stream",
     "text": [
      "\n"
     ]
    },
    {
     "data": {
      "text/plain": [
       "\n",
       "Call:\n",
       "lm(formula = social_reputation_100 ~ log_strong_SD + log_sd_kclip_5, \n",
       "    data = dat)\n",
       "\n",
       "Residuals:\n",
       "     Min       1Q   Median       3Q      Max \n",
       "-0.48727 -0.05808 -0.00065  0.06104  0.35942 \n",
       "\n",
       "Coefficients:\n",
       "                Estimate Std. Error t value Pr(>|t|)    \n",
       "(Intercept)    -0.187367   0.002917 -64.230   <2e-16 ***\n",
       "log_strong_SD  -0.030120   0.048964  -0.615    0.538    \n",
       "log_sd_kclip_5  1.000337   0.050720  19.723   <2e-16 ***\n",
       "---\n",
       "Signif. codes:  0 '***' 0.001 '**' 0.01 '*' 0.05 '.' 0.1 ' ' 1\n",
       "\n",
       "Residual standard error: 0.09226 on 11739 degrees of freedom\n",
       "Multiple R-squared:  0.6087,\tAdjusted R-squared:  0.6086 \n",
       "F-statistic:  9131 on 2 and 11739 DF,  p-value: < 2.2e-16\n"
      ]
     },
     "metadata": {},
     "output_type": "display_data"
    }
   ],
   "source": [
    "model0 = lm(social_reputation_100 ~  log_sd_kclip_5,\n",
    "           data = dat)\n",
    "summary(model0)\n",
    "\n",
    "cat('\\n')\n",
    "\n",
    "model1 = lm(social_reputation_100 ~ log_in_degree + log_sd_kclip_5,\n",
    "           data = dat)\n",
    "summary(model1)\n",
    "\n",
    "cat('\\n')\n",
    "\n",
    "model2 = lm(social_reputation_100 ~ log_weak_SD + log_sd_kclip_5,\n",
    "           data = dat)\n",
    "summary(model2)\n",
    "\n",
    "cat('\\n')\n",
    "\n",
    "model3 = lm(social_reputation_100 ~ log_strong_SD + log_sd_kclip_5,\n",
    "           data = dat)\n",
    "summary(model3)"
   ]
  },
  {
   "cell_type": "code",
   "execution_count": null,
   "metadata": {},
   "outputs": [],
   "source": []
  },
  {
   "cell_type": "markdown",
   "metadata": {},
   "source": [
    "----\n",
    "#### 3. Robustness: controlling answer count"
   ]
  },
  {
   "cell_type": "markdown",
   "metadata": {},
   "source": [
    "---\n",
    "*conditioning on answer count*"
   ]
  },
  {
   "cell_type": "code",
   "execution_count": 15,
   "metadata": {},
   "outputs": [
    {
     "data": {
      "text/html": [
       "<ol class=list-inline>\n",
       "\t<li>234834</li>\n",
       "\t<li>6</li>\n",
       "</ol>\n"
      ],
      "text/latex": [
       "\\begin{enumerate*}\n",
       "\\item 234834\n",
       "\\item 6\n",
       "\\end{enumerate*}\n"
      ],
      "text/markdown": [
       "1. 234834\n",
       "2. 6\n",
       "\n",
       "\n"
      ],
      "text/plain": [
       "[1] 234834      6"
      ]
     },
     "metadata": {},
     "output_type": "display_data"
    },
    {
     "data": {
      "text/plain": [
       " log_in_degree      log_weak_SD      log_strong_SD     log_sd_kclip_5   \n",
       " Min.   :0.00000   Min.   :0.00000   Min.   :0.00000   Min.   :0.00000  \n",
       " 1st Qu.:0.00000   1st Qu.:0.00000   1st Qu.:0.00000   1st Qu.:0.00000  \n",
       " Median :0.05176   Median :0.05794   Median :0.05316   Median :0.05571  \n",
       " Mean   :0.07142   Mean   :0.07586   Mean   :0.07195   Mean   :0.07337  \n",
       " 3rd Qu.:0.10352   3rd Qu.:0.11588   3rd Qu.:0.10633   3rd Qu.:0.11141  \n",
       " Max.   :1.00000   Max.   :1.00000   Max.   :1.00000   Max.   :1.00000  \n",
       " log_answerCount   social_reputation_100\n",
       " Min.   :0.00000   Min.   :0.00000      \n",
       " 1st Qu.:0.00000   1st Qu.:0.00000      \n",
       " Median :0.00000   Median :0.00000      \n",
       " Mean   :0.09097   Mean   :0.05670      \n",
       " 3rd Qu.:0.15315   3rd Qu.:0.04948      \n",
       " Max.   :1.00000   Max.   :1.00000      "
      ]
     },
     "metadata": {},
     "output_type": "display_data"
    }
   ],
   "source": [
    "\n",
    "dat <-\n",
    "data %>%\n",
    "#   filter(social_reputation_100>=33.3620129500335) %>%    # top 5%\n",
    "  mutate(log_in_degree = (log_in_degree-min(log_in_degree))/(max(log_in_degree)-min(log_in_degree))) %>%\n",
    "  mutate(log_weak_SD = (log_weak_SD-min(log_weak_SD))/(max(log_weak_SD)-min(log_weak_SD))) %>%\n",
    "  mutate(log_strong_SD = (log_strong_SD-min(log_strong_SD))/(max(log_strong_SD)-min(log_strong_SD))) %>%\n",
    "  mutate(log_sd_kclip_5 = (log_sd_kclip_5-min(log_sd_kclip_5))/(max(log_sd_kclip_5)-min(log_sd_kclip_5))) %>%\n",
    "  mutate(log_answerCount = (log_answerCount-min(log_answerCount))/(max(log_answerCount)-min(log_answerCount))) %>%\n",
    "  mutate(social_reputation_100 = (social_reputation_100-min(social_reputation_100))/(max(social_reputation_100)-min(social_reputation_100))) %>%\n",
    "  select(log_in_degree, log_weak_SD, \n",
    "    log_strong_SD,\n",
    "    log_sd_kclip_5,\n",
    "    log_answerCount,\n",
    "    social_reputation_100)\n",
    "  # %>% summary()\n",
    "\n",
    "dim(dat)\n",
    "summary(dat)\n"
   ]
  },
  {
   "cell_type": "code",
   "execution_count": 16,
   "metadata": {
    "scrolled": false
   },
   "outputs": [
    {
     "data": {
      "text/plain": [
       "\n",
       "Call:\n",
       "lm(formula = social_reputation_100 ~ log_answerCount, data = dat)\n",
       "\n",
       "Residuals:\n",
       "     Min       1Q   Median       3Q      Max \n",
       "-0.32660 -0.03063  0.00762  0.00762  0.69728 \n",
       "\n",
       "Coefficients:\n",
       "                  Estimate Std. Error t value Pr(>|t|)    \n",
       "(Intercept)     -0.0076170  0.0001762  -43.23   <2e-16 ***\n",
       "log_answerCount  0.7070294  0.0010933  646.71   <2e-16 ***\n",
       "---\n",
       "Signif. codes:  0 '***' 0.001 '**' 0.01 '*' 0.05 '.' 0.1 ' ' 1\n",
       "\n",
       "Residual standard error: 0.07048 on 234832 degrees of freedom\n",
       "Multiple R-squared:  0.6404,\tAdjusted R-squared:  0.6404 \n",
       "F-statistic: 4.182e+05 on 1 and 234832 DF,  p-value: < 2.2e-16\n"
      ]
     },
     "metadata": {},
     "output_type": "display_data"
    },
    {
     "name": "stdout",
     "output_type": "stream",
     "text": [
      "\n"
     ]
    },
    {
     "data": {
      "text/plain": [
       "\n",
       "Call:\n",
       "lm(formula = social_reputation_100 ~ log_in_degree + log_answerCount, \n",
       "    data = dat)\n",
       "\n",
       "Residuals:\n",
       "     Min       1Q   Median       3Q      Max \n",
       "-0.37037 -0.02794  0.02114  0.02114  0.44496 \n",
       "\n",
       "Coefficients:\n",
       "                  Estimate Std. Error t value Pr(>|t|)    \n",
       "(Intercept)     -0.0211404  0.0001375  -153.7   <2e-16 ***\n",
       "log_in_degree    0.5982474  0.0014367   416.4   <2e-16 ***\n",
       "log_answerCount  0.3859981  0.0011322   340.9   <2e-16 ***\n",
       "---\n",
       "Signif. codes:  0 '***' 0.001 '**' 0.01 '*' 0.05 '.' 0.1 ' ' 1\n",
       "\n",
       "Residual standard error: 0.05346 on 234831 degrees of freedom\n",
       "Multiple R-squared:  0.7931,\tAdjusted R-squared:  0.7931 \n",
       "F-statistic: 4.502e+05 on 2 and 234831 DF,  p-value: < 2.2e-16\n"
      ]
     },
     "metadata": {},
     "output_type": "display_data"
    },
    {
     "name": "stdout",
     "output_type": "stream",
     "text": [
      "\n"
     ]
    },
    {
     "data": {
      "text/plain": [
       "\n",
       "Call:\n",
       "lm(formula = social_reputation_100 ~ log_weak_SD + log_answerCount, \n",
       "    data = dat)\n",
       "\n",
       "Residuals:\n",
       "     Min       1Q   Median       3Q      Max \n",
       "-0.37443 -0.03162  0.02187  0.02187  0.44351 \n",
       "\n",
       "Coefficients:\n",
       "                  Estimate Std. Error t value Pr(>|t|)    \n",
       "(Intercept)     -0.0218672  0.0001371  -159.5   <2e-16 ***\n",
       "log_weak_SD      0.5823806  0.0013793   422.2   <2e-16 ***\n",
       "log_answerCount  0.3780435  0.0011343   333.3   <2e-16 ***\n",
       "---\n",
       "Signif. codes:  0 '***' 0.001 '**' 0.01 '*' 0.05 '.' 0.1 ' ' 1\n",
       "\n",
       "Residual standard error: 0.05314 on 234831 degrees of freedom\n",
       "Multiple R-squared:  0.7956,\tAdjusted R-squared:  0.7956 \n",
       "F-statistic: 4.57e+05 on 2 and 234831 DF,  p-value: < 2.2e-16\n"
      ]
     },
     "metadata": {},
     "output_type": "display_data"
    },
    {
     "name": "stdout",
     "output_type": "stream",
     "text": [
      "\n"
     ]
    },
    {
     "data": {
      "text/plain": [
       "\n",
       "Call:\n",
       "lm(formula = social_reputation_100 ~ log_strong_SD + log_answerCount, \n",
       "    data = dat)\n",
       "\n",
       "Residuals:\n",
       "     Min       1Q   Median       3Q      Max \n",
       "-0.37938 -0.02957  0.02119  0.02119  0.44443 \n",
       "\n",
       "Coefficients:\n",
       "                  Estimate Std. Error t value Pr(>|t|)    \n",
       "(Intercept)     -0.0211907  0.0001362  -155.6   <2e-16 ***\n",
       "log_strong_SD    0.6023901  0.0014164   425.3   <2e-16 ***\n",
       "log_answerCount  0.3797577  0.0011258   337.3   <2e-16 ***\n",
       "---\n",
       "Signif. codes:  0 '***' 0.001 '**' 0.01 '*' 0.05 '.' 0.1 ' ' 1\n",
       "\n",
       "Residual standard error: 0.05297 on 234831 degrees of freedom\n",
       "Multiple R-squared:  0.7969,\tAdjusted R-squared:  0.7969 \n",
       "F-statistic: 4.606e+05 on 2 and 234831 DF,  p-value: < 2.2e-16\n"
      ]
     },
     "metadata": {},
     "output_type": "display_data"
    },
    {
     "name": "stdout",
     "output_type": "stream",
     "text": [
      "\n"
     ]
    },
    {
     "data": {
      "text/plain": [
       "\n",
       "Call:\n",
       "lm(formula = social_reputation_100 ~ log_sd_kclip_5 + log_answerCount, \n",
       "    data = dat)\n",
       "\n",
       "Residuals:\n",
       "     Min       1Q   Median       3Q      Max \n",
       "-0.37135 -0.03135  0.02166  0.02166  0.44368 \n",
       "\n",
       "Coefficients:\n",
       "                  Estimate Std. Error t value Pr(>|t|)    \n",
       "(Intercept)     -0.0216571  0.0001365  -158.7   <2e-16 ***\n",
       "log_sd_kclip_5   0.6004188  0.0014117   425.3   <2e-16 ***\n",
       "log_answerCount  0.3770673  0.0011301   333.7   <2e-16 ***\n",
       "---\n",
       "Signif. codes:  0 '***' 0.001 '**' 0.01 '*' 0.05 '.' 0.1 ' ' 1\n",
       "\n",
       "Residual standard error: 0.05297 on 234831 degrees of freedom\n",
       "Multiple R-squared:  0.7969,\tAdjusted R-squared:  0.7969 \n",
       "F-statistic: 4.607e+05 on 2 and 234831 DF,  p-value: < 2.2e-16\n"
      ]
     },
     "metadata": {},
     "output_type": "display_data"
    },
    {
     "name": "stdout",
     "output_type": "stream",
     "text": [
      "\n"
     ]
    },
    {
     "data": {
      "text/plain": [
       "\n",
       "Call:\n",
       "lm(formula = social_reputation_100 ~ log_in_degree + log_weak_SD + \n",
       "    log_answerCount, data = dat)\n",
       "\n",
       "Residuals:\n",
       "     Min       1Q   Median       3Q      Max \n",
       "-0.37111 -0.03093  0.02177  0.02177  0.44390 \n",
       "\n",
       "Coefficients:\n",
       "                  Estimate Std. Error t value Pr(>|t|)    \n",
       "(Intercept)     -0.0217694  0.0001371 -158.81   <2e-16 ***\n",
       "log_in_degree    0.1473838  0.0081761   18.03   <2e-16 ***\n",
       "log_weak_SD      0.4422254  0.0078963   56.00   <2e-16 ***\n",
       "log_answerCount  0.3781279  0.0011335  333.60   <2e-16 ***\n",
       "---\n",
       "Signif. codes:  0 '***' 0.001 '**' 0.01 '*' 0.05 '.' 0.1 ' ' 1\n",
       "\n",
       "Residual standard error: 0.0531 on 234830 degrees of freedom\n",
       "Multiple R-squared:  0.7959,\tAdjusted R-squared:  0.7959 \n",
       "F-statistic: 3.052e+05 on 3 and 234830 DF,  p-value: < 2.2e-16\n"
      ]
     },
     "metadata": {},
     "output_type": "display_data"
    },
    {
     "name": "stdout",
     "output_type": "stream",
     "text": [
      "\n"
     ]
    },
    {
     "data": {
      "text/plain": [
       "\n",
       "Call:\n",
       "lm(formula = social_reputation_100 ~ log_in_degree + log_strong_SD + \n",
       "    log_answerCount, data = dat)\n",
       "\n",
       "Residuals:\n",
       "     Min       1Q   Median       3Q      Max \n",
       "-0.38265 -0.03064  0.02102  0.02102  0.44377 \n",
       "\n",
       "Coefficients:\n",
       "                  Estimate Std. Error t value Pr(>|t|)    \n",
       "(Intercept)     -0.0210209  0.0001359 -154.72   <2e-16 ***\n",
       "log_in_degree   -0.6160846  0.0159937  -38.52   <2e-16 ***\n",
       "log_strong_SD    1.2129053  0.0159119   76.23   <2e-16 ***\n",
       "log_answerCount  0.3786749  0.0011226  337.32   <2e-16 ***\n",
       "---\n",
       "Signif. codes:  0 '***' 0.001 '**' 0.01 '*' 0.05 '.' 0.1 ' ' 1\n",
       "\n",
       "Residual standard error: 0.05281 on 234830 degrees of freedom\n",
       "Multiple R-squared:  0.7981,\tAdjusted R-squared:  0.7981 \n",
       "F-statistic: 3.095e+05 on 3 and 234830 DF,  p-value: < 2.2e-16\n"
      ]
     },
     "metadata": {},
     "output_type": "display_data"
    },
    {
     "name": "stdout",
     "output_type": "stream",
     "text": [
      "\n"
     ]
    },
    {
     "data": {
      "text/plain": [
       "\n",
       "Call:\n",
       "lm(formula = social_reputation_100 ~ log_in_degree + log_sd_kclip_5 + \n",
       "    log_answerCount, data = dat)\n",
       "\n",
       "Residuals:\n",
       "     Min       1Q   Median       3Q      Max \n",
       "-0.37234 -0.03159  0.02168  0.02168  0.44355 \n",
       "\n",
       "Coefficients:\n",
       "                  Estimate Std. Error  t value Pr(>|t|)    \n",
       "(Intercept)     -0.0216760  0.0001365 -158.784  < 2e-16 ***\n",
       "log_in_degree   -0.0544589  0.0100030   -5.444 5.21e-08 ***\n",
       "log_sd_kclip_5   0.6538698  0.0099188   65.922  < 2e-16 ***\n",
       "log_answerCount  0.3769168  0.0011303  333.459  < 2e-16 ***\n",
       "---\n",
       "Signif. codes:  0 '***' 0.001 '**' 0.01 '*' 0.05 '.' 0.1 ' ' 1\n",
       "\n",
       "Residual standard error: 0.05297 on 234830 degrees of freedom\n",
       "Multiple R-squared:  0.7969,\tAdjusted R-squared:  0.7969 \n",
       "F-statistic: 3.071e+05 on 3 and 234830 DF,  p-value: < 2.2e-16\n"
      ]
     },
     "metadata": {},
     "output_type": "display_data"
    },
    {
     "name": "stdout",
     "output_type": "stream",
     "text": [
      "\n"
     ]
    },
    {
     "data": {
      "text/plain": [
       "\n",
       "Call:\n",
       "lm(formula = social_reputation_100 ~ log_weak_SD + log_sd_kclip_5 + \n",
       "    log_answerCount, data = dat)\n",
       "\n",
       "Residuals:\n",
       "     Min       1Q   Median       3Q      Max \n",
       "-0.36708 -0.03096  0.02142  0.02142  0.44378 \n",
       "\n",
       "Coefficients:\n",
       "                  Estimate Std. Error t value Pr(>|t|)    \n",
       "(Intercept)     -0.0214212  0.0001369 -156.46   <2e-16 ***\n",
       "log_weak_SD     -0.4737883  0.0244819  -19.35   <2e-16 ***\n",
       "log_sd_kclip_5   1.0860992  0.0251360   43.21   <2e-16 ***\n",
       "log_answerCount  0.3778023  0.0011298  334.40   <2e-16 ***\n",
       "---\n",
       "Signif. codes:  0 '***' 0.001 '**' 0.01 '*' 0.05 '.' 0.1 ' ' 1\n",
       "\n",
       "Residual standard error: 0.05293 on 234830 degrees of freedom\n",
       "Multiple R-squared:  0.7972,\tAdjusted R-squared:  0.7972 \n",
       "F-statistic: 3.077e+05 on 3 and 234830 DF,  p-value: < 2.2e-16\n"
      ]
     },
     "metadata": {},
     "output_type": "display_data"
    },
    {
     "name": "stdout",
     "output_type": "stream",
     "text": [
      "\n"
     ]
    },
    {
     "data": {
      "text/plain": [
       "\n",
       "Call:\n",
       "lm(formula = social_reputation_100 ~ log_strong_SD + log_sd_kclip_5 + \n",
       "    log_answerCount, data = dat)\n",
       "\n",
       "Residuals:\n",
       "     Min       1Q   Median       3Q      Max \n",
       "-0.36847 -0.03056  0.02146  0.02146  0.44406 \n",
       "\n",
       "Coefficients:\n",
       "                  Estimate Std. Error t value Pr(>|t|)    \n",
       "(Intercept)     -0.0214592  0.0001367 -156.99   <2e-16 ***\n",
       "log_strong_SD    0.2991757  0.0144761   20.67   <2e-16 ***\n",
       "log_sd_kclip_5   0.3036634  0.0144281   21.05   <2e-16 ***\n",
       "log_answerCount  0.3776115  0.0011293  334.37   <2e-16 ***\n",
       "---\n",
       "Signif. codes:  0 '***' 0.001 '**' 0.01 '*' 0.05 '.' 0.1 ' ' 1\n",
       "\n",
       "Residual standard error: 0.05292 on 234830 degrees of freedom\n",
       "Multiple R-squared:  0.7973,\tAdjusted R-squared:  0.7972 \n",
       "F-statistic: 3.078e+05 on 3 and 234830 DF,  p-value: < 2.2e-16\n"
      ]
     },
     "metadata": {},
     "output_type": "display_data"
    }
   ],
   "source": [
    "\n",
    "model0.0 = lm(social_reputation_100 ~  log_answerCount,\n",
    "           data = dat)\n",
    "summary(model0.0)\n",
    "cat('\\n')\n",
    "\n",
    "model0 = lm(social_reputation_100 ~  log_in_degree + log_answerCount,\n",
    "           data = dat)\n",
    "summary(model0)\n",
    "cat('\\n')\n",
    "\n",
    "model1 = lm(social_reputation_100 ~ log_weak_SD + log_answerCount,\n",
    "           data = dat)\n",
    "summary(model1)\n",
    "cat('\\n')\n",
    "\n",
    "model2 = lm(social_reputation_100 ~ log_strong_SD + log_answerCount,\n",
    "           data = dat)\n",
    "summary(model2)\n",
    "cat('\\n')\n",
    "\n",
    "model3 = lm(social_reputation_100 ~ log_sd_kclip_5 + log_answerCount,\n",
    "           data = dat)\n",
    "summary(model3)\n",
    "cat('\\n')\n",
    "\n",
    "\n",
    "model4 = lm(social_reputation_100 ~ log_in_degree + log_weak_SD + log_answerCount,\n",
    "           data = dat)\n",
    "summary(model4)\n",
    "cat('\\n')\n",
    "\n",
    "model5 = lm(social_reputation_100 ~ log_in_degree + log_strong_SD + log_answerCount,\n",
    "           data = dat)\n",
    "summary(model5)\n",
    "cat('\\n')\n",
    "\n",
    "model6 = lm(social_reputation_100 ~ log_in_degree + log_sd_kclip_5 + log_answerCount,\n",
    "           data = dat)\n",
    "summary(model6)\n",
    "cat('\\n')\n",
    "\n",
    "model7 = lm(social_reputation_100 ~ log_weak_SD + log_sd_kclip_5 + log_answerCount,\n",
    "           data = dat)\n",
    "summary(model7)\n",
    "cat('\\n')\n",
    "\n",
    "model8 = lm(social_reputation_100 ~ log_strong_SD + log_sd_kclip_5 + log_answerCount,\n",
    "           data = dat)\n",
    "summary(model8)\n",
    "\n"
   ]
  },
  {
   "cell_type": "code",
   "execution_count": null,
   "metadata": {},
   "outputs": [],
   "source": []
  },
  {
   "cell_type": "markdown",
   "metadata": {},
   "source": [
    "---\n",
    "on top 5% ego users"
   ]
  },
  {
   "cell_type": "code",
   "execution_count": 17,
   "metadata": {},
   "outputs": [
    {
     "data": {
      "text/html": [
       "<ol class=list-inline>\n",
       "\t<li>11742</li>\n",
       "\t<li>6</li>\n",
       "</ol>\n"
      ],
      "text/latex": [
       "\\begin{enumerate*}\n",
       "\\item 11742\n",
       "\\item 6\n",
       "\\end{enumerate*}\n"
      ],
      "text/markdown": [
       "1. 11742\n",
       "2. 6\n",
       "\n",
       "\n"
      ],
      "text/plain": [
       "[1] 11742     6"
      ]
     },
     "metadata": {},
     "output_type": "display_data"
    },
    {
     "data": {
      "text/plain": [
       " log_in_degree     log_weak_SD     log_strong_SD    log_sd_kclip_5  \n",
       " Min.   :0.0000   Min.   :0.0000   Min.   :0.0000   Min.   :0.0000  \n",
       " 1st Qu.:0.2826   1st Qu.:0.3041   1st Qu.:0.2885   1st Qu.:0.2944  \n",
       " Median :0.3537   Median :0.3743   Median :0.3591   Median :0.3634  \n",
       " Mean   :0.3698   Mean   :0.3887   Mean   :0.3754   Mean   :0.3787  \n",
       " 3rd Qu.:0.4389   3rd Qu.:0.4585   3rd Qu.:0.4450   3rd Qu.:0.4469  \n",
       " Max.   :1.0000   Max.   :1.0000   Max.   :1.0000   Max.   :1.0000  \n",
       " log_answerCount  social_reputation_100\n",
       " Min.   :0.0000   Min.   :0.00000      \n",
       " 1st Qu.:0.2834   1st Qu.:0.06309      \n",
       " Median :0.3863   Median :0.14539      \n",
       " Mean   :0.3857   Mean   :0.18020      \n",
       " 3rd Qu.:0.4813   3rd Qu.:0.26251      \n",
       " Max.   :1.0000   Max.   :1.00000      "
      ]
     },
     "metadata": {},
     "output_type": "display_data"
    }
   ],
   "source": [
    "\n",
    "dat <-\n",
    "data %>%\n",
    "  filter(social_reputation_100>=33.3620129500335) %>%    # top 5%\n",
    "  mutate(log_in_degree = (log_in_degree-min(log_in_degree))/(max(log_in_degree)-min(log_in_degree))) %>%\n",
    "  mutate(log_weak_SD = (log_weak_SD-min(log_weak_SD))/(max(log_weak_SD)-min(log_weak_SD))) %>%\n",
    "  mutate(log_strong_SD = (log_strong_SD-min(log_strong_SD))/(max(log_strong_SD)-min(log_strong_SD))) %>%\n",
    "  mutate(log_sd_kclip_5 = (log_sd_kclip_5-min(log_sd_kclip_5))/(max(log_sd_kclip_5)-min(log_sd_kclip_5))) %>%\n",
    "  mutate(log_answerCount = (log_answerCount-min(log_answerCount))/(max(log_answerCount)-min(log_answerCount))) %>%\n",
    "  mutate(social_reputation_100 = (social_reputation_100-min(social_reputation_100))/(max(social_reputation_100)-min(social_reputation_100))) %>%\n",
    "  select(log_in_degree, log_weak_SD, \n",
    "    log_strong_SD,\n",
    "    log_sd_kclip_5,\n",
    "    log_answerCount,\n",
    "    social_reputation_100)\n",
    "  # %>% summary()\n",
    "\n",
    "dim(dat)\n",
    "summary(dat)\n"
   ]
  },
  {
   "cell_type": "code",
   "execution_count": 18,
   "metadata": {
    "scrolled": false
   },
   "outputs": [
    {
     "data": {
      "text/plain": [
       "\n",
       "Call:\n",
       "lm(formula = social_reputation_100 ~ log_answerCount, data = dat)\n",
       "\n",
       "Residuals:\n",
       "     Min       1Q   Median       3Q      Max \n",
       "-0.24636 -0.10797 -0.03149  0.08045  0.72721 \n",
       "\n",
       "Coefficients:\n",
       "                Estimate Std. Error t value Pr(>|t|)    \n",
       "(Intercept)     0.075592   0.003743   20.19   <2e-16 ***\n",
       "log_answerCount 0.271209   0.009089   29.84   <2e-16 ***\n",
       "---\n",
       "Signif. codes:  0 '***' 0.001 '**' 0.01 '*' 0.05 '.' 0.1 ' ' 1\n",
       "\n",
       "Residual standard error: 0.1422 on 11740 degrees of freedom\n",
       "Multiple R-squared:  0.07049,\tAdjusted R-squared:  0.07041 \n",
       "F-statistic: 890.3 on 1 and 11740 DF,  p-value: < 2.2e-16\n"
      ]
     },
     "metadata": {},
     "output_type": "display_data"
    },
    {
     "data": {
      "text/plain": [
       "\n",
       "Call:\n",
       "lm(formula = social_reputation_100 ~ log_in_degree + log_answerCount, \n",
       "    data = dat)\n",
       "\n",
       "Residuals:\n",
       "     Min       1Q   Median       3Q      Max \n",
       "-0.45437 -0.06059 -0.00212  0.06286  0.35187 \n",
       "\n",
       "Coefficients:\n",
       "                 Estimate Std. Error t value Pr(>|t|)    \n",
       "(Intercept)     -0.176985   0.003243 -54.580   <2e-16 ***\n",
       "log_in_degree    0.905608   0.007447 121.607   <2e-16 ***\n",
       "log_answerCount  0.057685   0.006296   9.162   <2e-16 ***\n",
       "---\n",
       "Signif. codes:  0 '***' 0.001 '**' 0.01 '*' 0.05 '.' 0.1 ' ' 1\n",
       "\n",
       "Residual standard error: 0.09459 on 11739 degrees of freedom\n",
       "Multiple R-squared:  0.5887,\tAdjusted R-squared:  0.5886 \n",
       "F-statistic:  8400 on 2 and 11739 DF,  p-value: < 2.2e-16\n"
      ]
     },
     "metadata": {},
     "output_type": "display_data"
    },
    {
     "data": {
      "text/plain": [
       "\n",
       "Call:\n",
       "lm(formula = social_reputation_100 ~ log_weak_SD + log_answerCount, \n",
       "    data = dat)\n",
       "\n",
       "Residuals:\n",
       "     Min       1Q   Median       3Q      Max \n",
       "-0.46626 -0.05946 -0.00147  0.06131  0.38290 \n",
       "\n",
       "Coefficients:\n",
       "                 Estimate Std. Error t value Pr(>|t|)    \n",
       "(Intercept)     -0.217463   0.003360  -64.72   <2e-16 ***\n",
       "log_weak_SD      0.947050   0.007484  126.55   <2e-16 ***\n",
       "log_answerCount  0.076567   0.006108   12.54   <2e-16 ***\n",
       "---\n",
       "Signif. codes:  0 '***' 0.001 '**' 0.01 '*' 0.05 '.' 0.1 ' ' 1\n",
       "\n",
       "Residual standard error: 0.09248 on 11739 degrees of freedom\n",
       "Multiple R-squared:  0.6069,\tAdjusted R-squared:  0.6068 \n",
       "F-statistic:  9060 on 2 and 11739 DF,  p-value: < 2.2e-16\n"
      ]
     },
     "metadata": {},
     "output_type": "display_data"
    },
    {
     "data": {
      "text/plain": [
       "\n",
       "Call:\n",
       "lm(formula = social_reputation_100 ~ log_strong_SD + log_answerCount, \n",
       "    data = dat)\n",
       "\n",
       "Residuals:\n",
       "     Min       1Q   Median       3Q      Max \n",
       "-0.44705 -0.05959 -0.00173  0.06212  0.35692 \n",
       "\n",
       "Coefficients:\n",
       "                 Estimate Std. Error t value Pr(>|t|)    \n",
       "(Intercept)     -0.183599   0.003223 -56.970   <2e-16 ***\n",
       "log_strong_SD    0.906368   0.007286 124.398   <2e-16 ***\n",
       "log_answerCount  0.060973   0.006204   9.827   <2e-16 ***\n",
       "---\n",
       "Signif. codes:  0 '***' 0.001 '**' 0.01 '*' 0.05 '.' 0.1 ' ' 1\n",
       "\n",
       "Residual standard error: 0.09339 on 11739 degrees of freedom\n",
       "Multiple R-squared:  0.599,\tAdjusted R-squared:  0.599 \n",
       "F-statistic:  8769 on 2 and 11739 DF,  p-value: < 2.2e-16\n"
      ]
     },
     "metadata": {},
     "output_type": "display_data"
    },
    {
     "data": {
      "text/plain": [
       "\n",
       "Call:\n",
       "lm(formula = social_reputation_100 ~ log_sd_kclip_5 + log_answerCount, \n",
       "    data = dat)\n",
       "\n",
       "Residuals:\n",
       "     Min       1Q   Median       3Q      Max \n",
       "-0.45842 -0.05873 -0.00131  0.06118  0.37277 \n",
       "\n",
       "Coefficients:\n",
       "                 Estimate Std. Error t value Pr(>|t|)    \n",
       "(Intercept)     -0.204488   0.003258  -62.76   <2e-16 ***\n",
       "log_sd_kclip_5   0.948273   0.007399  128.17   <2e-16 ***\n",
       "log_answerCount  0.066197   0.006082   10.88   <2e-16 ***\n",
       "---\n",
       "Signif. codes:  0 '***' 0.001 '**' 0.01 '*' 0.05 '.' 0.1 ' ' 1\n",
       "\n",
       "Residual standard error: 0.0918 on 11739 degrees of freedom\n",
       "Multiple R-squared:  0.6126,\tAdjusted R-squared:  0.6125 \n",
       "F-statistic:  9282 on 2 and 11739 DF,  p-value: < 2.2e-16\n"
      ]
     },
     "metadata": {},
     "output_type": "display_data"
    },
    {
     "data": {
      "text/plain": [
       "\n",
       "Call:\n",
       "lm(formula = social_reputation_100 ~ log_in_degree + log_weak_SD + \n",
       "    log_answerCount, data = dat)\n",
       "\n",
       "Residuals:\n",
       "     Min       1Q   Median       3Q      Max \n",
       "-0.46372 -0.05938 -0.00129  0.06119  0.37795 \n",
       "\n",
       "Coefficients:\n",
       "                 Estimate Std. Error t value Pr(>|t|)    \n",
       "(Intercept)     -0.210412   0.003419  -61.54   <2e-16 ***\n",
       "log_in_degree    0.262991   0.026268   10.01   <2e-16 ***\n",
       "log_weak_SD      0.687226   0.027001   25.45   <2e-16 ***\n",
       "log_answerCount  0.067959   0.006143   11.06   <2e-16 ***\n",
       "---\n",
       "Signif. codes:  0 '***' 0.001 '**' 0.01 '*' 0.05 '.' 0.1 ' ' 1\n",
       "\n",
       "Residual standard error: 0.09209 on 11738 degrees of freedom\n",
       "Multiple R-squared:  0.6102,\tAdjusted R-squared:  0.6101 \n",
       "F-statistic:  6125 on 3 and 11738 DF,  p-value: < 2.2e-16\n"
      ]
     },
     "metadata": {},
     "output_type": "display_data"
    },
    {
     "data": {
      "text/plain": [
       "\n",
       "Call:\n",
       "lm(formula = social_reputation_100 ~ log_in_degree + log_strong_SD + \n",
       "    log_answerCount, data = dat)\n",
       "\n",
       "Residuals:\n",
       "     Min       1Q   Median       3Q      Max \n",
       "-0.45208 -0.05954 -0.00136  0.06139  0.36012 \n",
       "\n",
       "Coefficients:\n",
       "                 Estimate Std. Error t value Pr(>|t|)    \n",
       "(Intercept)     -0.188464   0.003224  -58.47   <2e-16 ***\n",
       "log_in_degree   -1.296990   0.101842  -12.73   <2e-16 ***\n",
       "log_strong_SD    2.188333   0.100922   21.68   <2e-16 ***\n",
       "log_answerCount  0.069420   0.006198   11.20   <2e-16 ***\n",
       "---\n",
       "Signif. codes:  0 '***' 0.001 '**' 0.01 '*' 0.05 '.' 0.1 ' ' 1\n",
       "\n",
       "Residual standard error: 0.09275 on 11738 degrees of freedom\n",
       "Multiple R-squared:  0.6045,\tAdjusted R-squared:  0.6044 \n",
       "F-statistic:  5981 on 3 and 11738 DF,  p-value: < 2.2e-16\n"
      ]
     },
     "metadata": {},
     "output_type": "display_data"
    },
    {
     "data": {
      "text/plain": [
       "\n",
       "Call:\n",
       "lm(formula = social_reputation_100 ~ log_in_degree + log_sd_kclip_5 + \n",
       "    log_answerCount, data = dat)\n",
       "\n",
       "Residuals:\n",
       "     Min       1Q   Median       3Q      Max \n",
       "-0.45940 -0.05852 -0.00146  0.06107  0.37416 \n",
       "\n",
       "Coefficients:\n",
       "                 Estimate Std. Error t value Pr(>|t|)    \n",
       "(Intercept)     -0.206513   0.003329 -62.031  < 2e-16 ***\n",
       "log_in_degree   -0.112377   0.038248  -2.938  0.00331 ** \n",
       "log_sd_kclip_5   1.061246   0.039156  27.103  < 2e-16 ***\n",
       "log_answerCount  0.068269   0.006121  11.153  < 2e-16 ***\n",
       "---\n",
       "Signif. codes:  0 '***' 0.001 '**' 0.01 '*' 0.05 '.' 0.1 ' ' 1\n",
       "\n",
       "Residual standard error: 0.09177 on 11738 degrees of freedom\n",
       "Multiple R-squared:  0.6129,\tAdjusted R-squared:  0.6128 \n",
       "F-statistic:  6195 on 3 and 11738 DF,  p-value: < 2.2e-16\n"
      ]
     },
     "metadata": {},
     "output_type": "display_data"
    },
    {
     "data": {
      "text/plain": [
       "\n",
       "Call:\n",
       "lm(formula = social_reputation_100 ~ log_weak_SD + log_sd_kclip_5 + \n",
       "    log_answerCount, data = dat)\n",
       "\n",
       "Residuals:\n",
       "     Min       1Q   Median       3Q      Max \n",
       "-0.45980 -0.05879 -0.00122  0.06118  0.37416 \n",
       "\n",
       "Coefficients:\n",
       "                 Estimate Std. Error t value Pr(>|t|)    \n",
       "(Intercept)     -0.206222   0.003441 -59.939   <2e-16 ***\n",
       "log_weak_SD      0.100466   0.064084   1.568    0.117    \n",
       "log_sd_kclip_5   0.848887   0.063825  13.300   <2e-16 ***\n",
       "log_answerCount  0.067036   0.006105  10.980   <2e-16 ***\n",
       "---\n",
       "Signif. codes:  0 '***' 0.001 '**' 0.01 '*' 0.05 '.' 0.1 ' ' 1\n",
       "\n",
       "Residual standard error: 0.09179 on 11738 degrees of freedom\n",
       "Multiple R-squared:  0.6127,\tAdjusted R-squared:  0.6126 \n",
       "F-statistic:  6190 on 3 and 11738 DF,  p-value: < 2.2e-16\n"
      ]
     },
     "metadata": {},
     "output_type": "display_data"
    },
    {
     "data": {
      "text/plain": [
       "\n",
       "Call:\n",
       "lm(formula = social_reputation_100 ~ log_strong_SD + log_sd_kclip_5 + \n",
       "    log_answerCount, data = dat)\n",
       "\n",
       "Residuals:\n",
       "     Min       1Q   Median       3Q      Max \n",
       "-0.45879 -0.05882 -0.00138  0.06116  0.37364 \n",
       "\n",
       "Coefficients:\n",
       "                 Estimate Std. Error t value Pr(>|t|)    \n",
       "(Intercept)     -0.205719   0.003349 -61.426   <2e-16 ***\n",
       "log_strong_SD   -0.077526   0.048907  -1.585    0.113    \n",
       "log_sd_kclip_5   1.027499   0.050524  20.337   <2e-16 ***\n",
       "log_answerCount  0.067051   0.006106  10.982   <2e-16 ***\n",
       "---\n",
       "Signif. codes:  0 '***' 0.001 '**' 0.01 '*' 0.05 '.' 0.1 ' ' 1\n",
       "\n",
       "Residual standard error: 0.09179 on 11738 degrees of freedom\n",
       "Multiple R-squared:  0.6127,\tAdjusted R-squared:  0.6126 \n",
       "F-statistic:  6190 on 3 and 11738 DF,  p-value: < 2.2e-16\n"
      ]
     },
     "metadata": {},
     "output_type": "display_data"
    }
   ],
   "source": [
    "\n",
    "model0.0 = lm(social_reputation_100 ~  log_answerCount,\n",
    "           data = dat)\n",
    "summary(model0.0)\n",
    "\n",
    "model0 = lm(social_reputation_100 ~  log_in_degree + log_answerCount,\n",
    "           data = dat)\n",
    "summary(model0)\n",
    "\n",
    "model1 = lm(social_reputation_100 ~ log_weak_SD + log_answerCount,\n",
    "           data = dat)\n",
    "summary(model1)\n",
    "\n",
    "model2 = lm(social_reputation_100 ~ log_strong_SD + log_answerCount,\n",
    "           data = dat)\n",
    "summary(model2)\n",
    "\n",
    "model3 = lm(social_reputation_100 ~ log_sd_kclip_5 + log_answerCount,\n",
    "           data = dat)\n",
    "summary(model3)\n",
    "\n",
    "\n",
    "\n",
    "model4 = lm(social_reputation_100 ~ log_in_degree + log_weak_SD + log_answerCount,\n",
    "           data = dat)\n",
    "summary(model4)\n",
    "\n",
    "model5 = lm(social_reputation_100 ~ log_in_degree + log_strong_SD + log_answerCount,\n",
    "           data = dat)\n",
    "summary(model5)\n",
    "\n",
    "model6 = lm(social_reputation_100 ~ log_in_degree + log_sd_kclip_5 + log_answerCount,\n",
    "           data = dat)\n",
    "summary(model6)\n",
    "\n",
    "model7 = lm(social_reputation_100 ~ log_weak_SD + log_sd_kclip_5 + log_answerCount,\n",
    "           data = dat)\n",
    "summary(model7)\n",
    "\n",
    "model8 = lm(social_reputation_100 ~ log_strong_SD + log_sd_kclip_5 + log_answerCount,\n",
    "           data = dat)\n",
    "summary(model8)\n",
    "\n"
   ]
  },
  {
   "cell_type": "code",
   "execution_count": null,
   "metadata": {},
   "outputs": [],
   "source": []
  },
  {
   "cell_type": "markdown",
   "metadata": {},
   "source": [
    "---\n",
    "#### Social bridges"
   ]
  },
  {
   "cell_type": "code",
   "execution_count": null,
   "metadata": {},
   "outputs": [],
   "source": []
  },
  {
   "cell_type": "code",
   "execution_count": 19,
   "metadata": {},
   "outputs": [
    {
     "data": {
      "text/html": [
       "<ol class=list-inline>\n",
       "\t<li>234637</li>\n",
       "\t<li>7</li>\n",
       "</ol>\n"
      ],
      "text/latex": [
       "\\begin{enumerate*}\n",
       "\\item 234637\n",
       "\\item 7\n",
       "\\end{enumerate*}\n"
      ],
      "text/markdown": [
       "1. 234637\n",
       "2. 7\n",
       "\n",
       "\n"
      ],
      "text/plain": [
       "[1] 234637      7"
      ]
     },
     "metadata": {},
     "output_type": "display_data"
    },
    {
     "data": {
      "text/plain": [
       " log_in_degree      log_weak_SD      log_strong_SD     log_sd_kclip_5   \n",
       " Min.   :0.00000   Min.   :0.00000   Min.   :0.00000   Min.   :0.00000  \n",
       " 1st Qu.:0.00000   1st Qu.:0.00000   1st Qu.:0.00000   1st Qu.:0.00000  \n",
       " Median :0.07527   Median :0.07659   Median :0.07605   Median :0.07658  \n",
       " Mean   :0.10299   Mean   :0.09953   Mean   :0.10207   Mean   :0.10007  \n",
       " 3rd Qu.:0.15053   3rd Qu.:0.15318   3rd Qu.:0.15210   3rd Qu.:0.15316  \n",
       " Max.   :1.00000   Max.   :1.00000   Max.   :1.00000   Max.   :1.00000  \n",
       " log_kclip_5_weak_SB_f20 log_answerCount   social_reputation_100\n",
       " Min.   :0.00000         Min.   :0.00000   Min.   :0.00000      \n",
       " 1st Qu.:0.00000         1st Qu.:0.00000   1st Qu.:0.00000      \n",
       " Median :0.07952         Median :0.00000   Median :0.00000      \n",
       " Mean   :0.10081         Mean   :0.09519   Mean   :0.07032      \n",
       " 3rd Qu.:0.15904         3rd Qu.:0.16091   3rd Qu.:0.06200      \n",
       " Max.   :1.00000         Max.   :1.00000   Max.   :1.00000      "
      ]
     },
     "metadata": {},
     "output_type": "display_data"
    }
   ],
   "source": [
    "dat <-\n",
    "data %>%\n",
    "  # ego users with more than 10,000 followers are ommitted as their social bridges are not computed,\n",
    "  # due to the computational complexity\n",
    "  na.omit() %>%  # remove na in social bridge data \n",
    "  # dim()\n",
    "  mutate(log_in_degree = (log_in_degree-min(log_in_degree))/(max(log_in_degree)-min(log_in_degree))) %>%\n",
    "  mutate(log_weak_SD = (log_weak_SD-min(log_weak_SD))/(max(log_weak_SD)-min(log_weak_SD))) %>%\n",
    "  mutate(log_strong_SD = (log_strong_SD-min(log_strong_SD))/(max(log_strong_SD)-min(log_strong_SD))) %>%\n",
    "  mutate(log_sd_kclip_5 = (log_sd_kclip_5-min(log_sd_kclip_5))/(max(log_sd_kclip_5)-min(log_sd_kclip_5))) %>%\n",
    "  mutate(log_kclip_5_weak_SB_f20 = (log_kclip_5_weak_SB_f20-min(log_kclip_5_weak_SB_f20))/(max(log_kclip_5_weak_SB_f20)-min(log_kclip_5_weak_SB_f20))) %>%\n",
    "  mutate(log_answerCount = (log_answerCount-min(log_answerCount))/(max(log_answerCount)-min(log_answerCount))) %>%\n",
    "  mutate(social_reputation_100 = (social_reputation_100-min(social_reputation_100))/(max(social_reputation_100)-min(social_reputation_100))) %>%\n",
    "  select(log_in_degree, log_weak_SD, \n",
    "    log_strong_SD,\n",
    "    log_sd_kclip_5,\n",
    "    log_kclip_5_weak_SB_f20, # diversity measure enabled by social bridges\n",
    "    log_answerCount,\n",
    "    social_reputation_100)\n",
    "  # %>% summary()\n",
    "\n",
    "dim(dat)\n",
    "summary(dat)"
   ]
  },
  {
   "cell_type": "code",
   "execution_count": 20,
   "metadata": {
    "scrolled": false
   },
   "outputs": [
    {
     "data": {
      "text/plain": [
       "\n",
       "Call:\n",
       "lm(formula = social_reputation_100 ~ log_in_degree + log_kclip_5_weak_SB_f20, \n",
       "    data = dat)\n",
       "\n",
       "Residuals:\n",
       "     Min       1Q   Median       3Q      Max \n",
       "-0.73218 -0.05410  0.01359  0.01359  0.55277 \n",
       "\n",
       "Coefficients:\n",
       "                          Estimate Std. Error t value Pr(>|t|)    \n",
       "(Intercept)             -0.0135907  0.0001996  -68.09   <2e-16 ***\n",
       "log_in_degree           -0.2508999  0.0089921  -27.90   <2e-16 ***\n",
       "log_kclip_5_weak_SB_f20  1.0887193  0.0092312  117.94   <2e-16 ***\n",
       "---\n",
       "Signif. codes:  0 '***' 0.001 '**' 0.01 '*' 0.05 '.' 0.1 ' ' 1\n",
       "\n",
       "Residual standard error: 0.07949 on 234634 degrees of freedom\n",
       "Multiple R-squared:    0.7,\tAdjusted R-squared:    0.7 \n",
       "F-statistic: 2.737e+05 on 2 and 234634 DF,  p-value: < 2.2e-16\n"
      ]
     },
     "metadata": {},
     "output_type": "display_data"
    },
    {
     "name": "stdout",
     "output_type": "stream",
     "text": [
      "\n"
     ]
    },
    {
     "data": {
      "text/plain": [
       "\n",
       "Call:\n",
       "lm(formula = social_reputation_100 ~ log_weak_SD + log_kclip_5_weak_SB_f20, \n",
       "    data = dat)\n",
       "\n",
       "Residuals:\n",
       "     Min       1Q   Median       3Q      Max \n",
       "-0.71905 -0.05359  0.01309  0.01309  0.55328 \n",
       "\n",
       "Coefficients:\n",
       "                          Estimate Std. Error t value Pr(>|t|)    \n",
       "(Intercept)             -0.0130855  0.0002005  -65.25   <2e-16 ***\n",
       "log_weak_SD             -0.4549772  0.0157149  -28.95   <2e-16 ***\n",
       "log_kclip_5_weak_SB_f20  1.2765922  0.0153605   83.11   <2e-16 ***\n",
       "---\n",
       "Signif. codes:  0 '***' 0.001 '**' 0.01 '*' 0.05 '.' 0.1 ' ' 1\n",
       "\n",
       "Residual standard error: 0.07948 on 234634 degrees of freedom\n",
       "Multiple R-squared:  0.7001,\tAdjusted R-squared:  0.7001 \n",
       "F-statistic: 2.738e+05 on 2 and 234634 DF,  p-value: < 2.2e-16\n"
      ]
     },
     "metadata": {},
     "output_type": "display_data"
    },
    {
     "name": "stdout",
     "output_type": "stream",
     "text": [
      "\n"
     ]
    },
    {
     "data": {
      "text/plain": [
       "\n",
       "Call:\n",
       "lm(formula = social_reputation_100 ~ log_strong_SD + log_kclip_5_weak_SB_f20, \n",
       "    data = dat)\n",
       "\n",
       "Residuals:\n",
       "     Min       1Q   Median       3Q      Max \n",
       "-0.72988 -0.05335  0.01368  0.01368  0.55352 \n",
       "\n",
       "Coefficients:\n",
       "                          Estimate Std. Error t value Pr(>|t|)    \n",
       "(Intercept)             -0.0136847  0.0001998  -68.48   <2e-16 ***\n",
       "log_strong_SD           -0.1709641  0.0117042  -14.61   <2e-16 ***\n",
       "log_kclip_5_weak_SB_f20  1.0064290  0.0119214   84.42   <2e-16 ***\n",
       "---\n",
       "Signif. codes:  0 '***' 0.001 '**' 0.01 '*' 0.05 '.' 0.1 ' ' 1\n",
       "\n",
       "Residual standard error: 0.07959 on 234634 degrees of freedom\n",
       "Multiple R-squared:  0.6993,\tAdjusted R-squared:  0.6993 \n",
       "F-statistic: 2.728e+05 on 2 and 234634 DF,  p-value: < 2.2e-16\n"
      ]
     },
     "metadata": {},
     "output_type": "display_data"
    },
    {
     "name": "stdout",
     "output_type": "stream",
     "text": [
      "\n"
     ]
    },
    {
     "data": {
      "text/plain": [
       "\n",
       "Call:\n",
       "lm(formula = social_reputation_100 ~ log_sd_kclip_5 + log_kclip_5_weak_SB_f20, \n",
       "    data = dat)\n",
       "\n",
       "Residuals:\n",
       "     Min       1Q   Median       3Q      Max \n",
       "-0.72180 -0.05389  0.01327  0.01327  0.55298 \n",
       "\n",
       "Coefficients:\n",
       "                        Estimate Std. Error t value Pr(>|t|)    \n",
       "(Intercept)             -0.01327    0.00020  -66.37   <2e-16 ***\n",
       "log_sd_kclip_5          -0.51674    0.01765  -29.27   <2e-16 ***\n",
       "log_kclip_5_weak_SB_f20  1.34222    0.01743   77.00   <2e-16 ***\n",
       "---\n",
       "Signif. codes:  0 '***' 0.001 '**' 0.01 '*' 0.05 '.' 0.1 ' ' 1\n",
       "\n",
       "Residual standard error: 0.07948 on 234634 degrees of freedom\n",
       "Multiple R-squared:  0.7001,\tAdjusted R-squared:  0.7001 \n",
       "F-statistic: 2.739e+05 on 2 and 234634 DF,  p-value: < 2.2e-16\n"
      ]
     },
     "metadata": {},
     "output_type": "display_data"
    },
    {
     "name": "stdout",
     "output_type": "stream",
     "text": [
      "\n"
     ]
    },
    {
     "data": {
      "text/plain": [
       "\n",
       "Call:\n",
       "lm(formula = social_reputation_100 ~ log_in_degree + log_kclip_5_weak_SB_f20 + \n",
       "    log_answerCount, data = dat)\n",
       "\n",
       "Residuals:\n",
       "     Min       1Q   Median       3Q      Max \n",
       "-0.45805 -0.03484  0.02637  0.02637  0.55403 \n",
       "\n",
       "Coefficients:\n",
       "                         Estimate Std. Error t value Pr(>|t|)    \n",
       "(Intercept)             -0.026368   0.000170 -155.13   <2e-16 ***\n",
       "log_in_degree           -0.094263   0.007468  -12.62   <2e-16 ***\n",
       "log_kclip_5_weak_SB_f20  0.637460   0.007774   82.00   <2e-16 ***\n",
       "log_answerCount          0.442631   0.001354  327.02   <2e-16 ***\n",
       "---\n",
       "Signif. codes:  0 '***' 0.001 '**' 0.01 '*' 0.05 '.' 0.1 ' ' 1\n",
       "\n",
       "Residual standard error: 0.06588 on 234633 degrees of freedom\n",
       "Multiple R-squared:  0.7939,\tAdjusted R-squared:  0.7939 \n",
       "F-statistic: 3.013e+05 on 3 and 234633 DF,  p-value: < 2.2e-16\n"
      ]
     },
     "metadata": {},
     "output_type": "display_data"
    },
    {
     "name": "stdout",
     "output_type": "stream",
     "text": [
      "\n"
     ]
    },
    {
     "data": {
      "text/plain": [
       "\n",
       "Call:\n",
       "lm(formula = social_reputation_100 ~ log_weak_SD + log_kclip_5_weak_SB_f20 + \n",
       "    log_answerCount, data = dat)\n",
       "\n",
       "Residuals:\n",
       "     Min       1Q   Median       3Q      Max \n",
       "-0.45280 -0.03473  0.02616  0.02616  0.55419 \n",
       "\n",
       "Coefficients:\n",
       "                         Estimate Std. Error t value Pr(>|t|)    \n",
       "(Intercept)             -0.026157   0.000171 -153.01   <2e-16 ***\n",
       "log_weak_SD             -0.185656   0.013051  -14.22   <2e-16 ***\n",
       "log_kclip_5_weak_SB_f20  0.722473   0.012844   56.25   <2e-16 ***\n",
       "log_answerCount          0.442511   0.001353  326.99   <2e-16 ***\n",
       "---\n",
       "Signif. codes:  0 '***' 0.001 '**' 0.01 '*' 0.05 '.' 0.1 ' ' 1\n",
       "\n",
       "Residual standard error: 0.06588 on 234633 degrees of freedom\n",
       "Multiple R-squared:  0.794,\tAdjusted R-squared:  0.794 \n",
       "F-statistic: 3.014e+05 on 3 and 234633 DF,  p-value: < 2.2e-16\n"
      ]
     },
     "metadata": {},
     "output_type": "display_data"
    },
    {
     "name": "stdout",
     "output_type": "stream",
     "text": [
      "\n"
     ]
    },
    {
     "data": {
      "text/plain": [
       "\n",
       "Call:\n",
       "lm(formula = social_reputation_100 ~ log_strong_SD + log_kclip_5_weak_SB_f20 + \n",
       "    log_answerCount, data = dat)\n",
       "\n",
       "Residuals:\n",
       "     Min       1Q   Median       3Q      Max \n",
       "-0.45708 -0.03487  0.02644  0.02644  0.55488 \n",
       "\n",
       "Coefficients:\n",
       "                         Estimate Std. Error  t value Pr(>|t|)    \n",
       "(Intercept)             -0.026435   0.000170 -155.535  < 2e-16 ***\n",
       "log_strong_SD            0.062586   0.009717    6.441 1.19e-10 ***\n",
       "log_kclip_5_weak_SB_f20  0.476810   0.010002   47.670  < 2e-16 ***\n",
       "log_answerCount          0.444366   0.001355  328.015  < 2e-16 ***\n",
       "---\n",
       "Signif. codes:  0 '***' 0.001 '**' 0.01 '*' 0.05 '.' 0.1 ' ' 1\n",
       "\n",
       "Residual standard error: 0.0659 on 234633 degrees of freedom\n",
       "Multiple R-squared:  0.7938,\tAdjusted R-squared:  0.7938 \n",
       "F-statistic: 3.011e+05 on 3 and 234633 DF,  p-value: < 2.2e-16\n"
      ]
     },
     "metadata": {},
     "output_type": "display_data"
    },
    {
     "name": "stdout",
     "output_type": "stream",
     "text": [
      "\n"
     ]
    },
    {
     "data": {
      "text/plain": [
       "\n",
       "Call:\n",
       "lm(formula = social_reputation_100 ~ log_sd_kclip_5 + log_kclip_5_weak_SB_f20 + \n",
       "    log_answerCount, data = dat)\n",
       "\n",
       "Residuals:\n",
       "     Min       1Q   Median       3Q      Max \n",
       "-0.45544 -0.03508  0.02631  0.02631  0.55430 \n",
       "\n",
       "Coefficients:\n",
       "                          Estimate Std. Error  t value Pr(>|t|)    \n",
       "(Intercept)             -0.0263132  0.0001705 -154.288  < 2e-16 ***\n",
       "log_sd_kclip_5          -0.1163758  0.0146883   -7.923 2.33e-15 ***\n",
       "log_kclip_5_weak_SB_f20  0.6559483  0.0146041   44.915  < 2e-16 ***\n",
       "log_answerCount          0.4428299  0.0013557  326.634  < 2e-16 ***\n",
       "---\n",
       "Signif. codes:  0 '***' 0.001 '**' 0.01 '*' 0.05 '.' 0.1 ' ' 1\n",
       "\n",
       "Residual standard error: 0.0659 on 234633 degrees of freedom\n",
       "Multiple R-squared:  0.7938,\tAdjusted R-squared:  0.7938 \n",
       "F-statistic: 3.012e+05 on 3 and 234633 DF,  p-value: < 2.2e-16\n"
      ]
     },
     "metadata": {},
     "output_type": "display_data"
    }
   ],
   "source": [
    "\n",
    "model1 = lm(social_reputation_100 ~ log_in_degree + log_kclip_5_weak_SB_f20,\n",
    "           data = dat)\n",
    "summary(model1)\n",
    "\n",
    "cat('\\n')\n",
    "\n",
    "model2 = lm(social_reputation_100 ~ log_weak_SD + log_kclip_5_weak_SB_f20,\n",
    "           data = dat)\n",
    "summary(model2)\n",
    "cat('\\n')\n",
    "\n",
    "model3 = lm(social_reputation_100 ~ log_strong_SD + log_kclip_5_weak_SB_f20,\n",
    "           data = dat)\n",
    "summary(model3)\n",
    "cat('\\n')\n",
    "\n",
    "model4 = lm(social_reputation_100 ~ log_sd_kclip_5 + log_kclip_5_weak_SB_f20,\n",
    "           data = dat)\n",
    "summary(model4)\n",
    "cat('\\n')\n",
    "\n",
    "\n",
    "model1.1 = lm(social_reputation_100 ~ log_in_degree + log_kclip_5_weak_SB_f20 + log_answerCount,\n",
    "           data = dat)\n",
    "summary(model1.1)\n",
    "cat('\\n')\n",
    "\n",
    "model2.1 = lm(social_reputation_100 ~ log_weak_SD + log_kclip_5_weak_SB_f20 + log_answerCount,\n",
    "           data = dat)\n",
    "summary(model2.1)\n",
    "cat('\\n')\n",
    "\n",
    "model3.1 = lm(social_reputation_100 ~ log_strong_SD + log_kclip_5_weak_SB_f20 + log_answerCount,\n",
    "           data = dat)\n",
    "summary(model3.1)\n",
    "cat('\\n')\n",
    "\n",
    "model4.1 = lm(social_reputation_100 ~ log_sd_kclip_5 + log_kclip_5_weak_SB_f20 + log_answerCount,\n",
    "           data = dat)\n",
    "summary(model4.1)\n",
    "\n"
   ]
  },
  {
   "cell_type": "markdown",
   "metadata": {},
   "source": [
    "---\n",
    "*on top 5% ego users*"
   ]
  },
  {
   "cell_type": "code",
   "execution_count": 21,
   "metadata": {},
   "outputs": [
    {
     "data": {
      "text/html": [
       "<table>\n",
       "<thead><tr><th scope=col>top5_percent</th></tr></thead>\n",
       "<tbody>\n",
       "\t<tr><td>33.13859</td></tr>\n",
       "</tbody>\n",
       "</table>\n"
      ],
      "text/latex": [
       "\\begin{tabular}{r|l}\n",
       " top5\\_percent\\\\\n",
       "\\hline\n",
       "\t 33.13859\\\\\n",
       "\\end{tabular}\n"
      ],
      "text/markdown": [
       "\n",
       "| top5_percent |\n",
       "|---|\n",
       "| 33.13859 |\n",
       "\n"
      ],
      "text/plain": [
       "  top5_percent\n",
       "1 33.13859    "
      ]
     },
     "metadata": {},
     "output_type": "display_data"
    }
   ],
   "source": [
    "data %>%\n",
    "  # ego users with more than 10,000 followers are ommitted as their social bridges are not computed,\n",
    "  # due to the computational complexity\n",
    "  na.omit() %>%  # remove na in social bridge data \n",
    "  summarize(top5_percent=quantile(social_reputation_100, probs=0.95))"
   ]
  },
  {
   "cell_type": "code",
   "execution_count": 22,
   "metadata": {},
   "outputs": [
    {
     "data": {
      "text/html": [
       "<ol class=list-inline>\n",
       "\t<li>11732</li>\n",
       "\t<li>7</li>\n",
       "</ol>\n"
      ],
      "text/latex": [
       "\\begin{enumerate*}\n",
       "\\item 11732\n",
       "\\item 7\n",
       "\\end{enumerate*}\n"
      ],
      "text/markdown": [
       "1. 11732\n",
       "2. 7\n",
       "\n",
       "\n"
      ],
      "text/plain": [
       "[1] 11732     7"
      ]
     },
     "metadata": {},
     "output_type": "display_data"
    },
    {
     "data": {
      "text/plain": [
       " log_in_degree     log_weak_SD     log_strong_SD    log_sd_kclip_5  \n",
       " Min.   :0.0000   Min.   :0.0000   Min.   :0.0000   Min.   :0.0000  \n",
       " 1st Qu.:0.4084   1st Qu.:0.3990   1st Qu.:0.4074   1st Qu.:0.4019  \n",
       " Median :0.5074   Median :0.4896   Median :0.5074   Median :0.4934  \n",
       " Mean   :0.5254   Mean   :0.5037   Mean   :0.5248   Mean   :0.5094  \n",
       " 3rd Qu.:0.6270   3rd Qu.:0.5975   3rd Qu.:0.6265   3rd Qu.:0.6051  \n",
       " Max.   :1.0000   Max.   :1.0000   Max.   :1.0000   Max.   :1.0000  \n",
       " log_kclip_5_weak_SB_f20 log_answerCount  social_reputation_100\n",
       " Min.   :0.0000          Min.   :0.0000   Min.   :0.0000       \n",
       " 1st Qu.:0.4079          1st Qu.:0.2977   1st Qu.:0.0887       \n",
       " Median :0.5013          Median :0.4023   Median :0.2046       \n",
       " Mean   :0.5166          Mean   :0.4021   Mean   :0.2474       \n",
       " 3rd Qu.:0.6140          3rd Qu.:0.5027   3rd Qu.:0.3653       \n",
       " Max.   :1.0000          Max.   :1.0000   Max.   :1.0000       "
      ]
     },
     "metadata": {},
     "output_type": "display_data"
    }
   ],
   "source": [
    "dat <-\n",
    "data %>%\n",
    "  # ego users with more than 10,000 followers are ommitted as their social bridges are not computed,\n",
    "  # due to the computational complexity\n",
    "  na.omit() %>%  # remove na in social bridge data \n",
    "  filter(social_reputation_100>=33.13859) %>%\n",
    "  mutate(log_in_degree = (log_in_degree-min(log_in_degree))/(max(log_in_degree)-min(log_in_degree))) %>%\n",
    "  mutate(log_weak_SD = (log_weak_SD-min(log_weak_SD))/(max(log_weak_SD)-min(log_weak_SD))) %>%\n",
    "  mutate(log_strong_SD = (log_strong_SD-min(log_strong_SD))/(max(log_strong_SD)-min(log_strong_SD))) %>%\n",
    "  mutate(log_sd_kclip_5 = (log_sd_kclip_5-min(log_sd_kclip_5))/(max(log_sd_kclip_5)-min(log_sd_kclip_5))) %>%\n",
    "  mutate(log_kclip_5_weak_SB_f20 = (log_kclip_5_weak_SB_f20-min(log_kclip_5_weak_SB_f20))/(max(log_kclip_5_weak_SB_f20)-min(log_kclip_5_weak_SB_f20))) %>%\n",
    "  mutate(log_answerCount = (log_answerCount-min(log_answerCount))/(max(log_answerCount)-min(log_answerCount))) %>%\n",
    "  mutate(social_reputation_100 = (social_reputation_100-min(social_reputation_100))/(max(social_reputation_100)-min(social_reputation_100))) %>%\n",
    "  select(log_in_degree, log_weak_SD, \n",
    "    log_strong_SD,\n",
    "    log_sd_kclip_5,\n",
    "    log_kclip_5_weak_SB_f20, # diversity measure enabled by social bridges\n",
    "    log_answerCount,\n",
    "    social_reputation_100)\n",
    "  # %>% summary()\n",
    "\n",
    "dim(dat)\n",
    "summary(dat)"
   ]
  },
  {
   "cell_type": "code",
   "execution_count": 23,
   "metadata": {
    "scrolled": false
   },
   "outputs": [
    {
     "data": {
      "text/plain": [
       "\n",
       "Call:\n",
       "lm(formula = social_reputation_100 ~ log_in_degree + log_kclip_5_weak_SB_f20, \n",
       "    data = dat)\n",
       "\n",
       "Residuals:\n",
       "     Min       1Q   Median       3Q      Max \n",
       "-0.53267 -0.08277 -0.00146  0.08420  0.50682 \n",
       "\n",
       "Coefficients:\n",
       "                         Estimate Std. Error t value Pr(>|t|)    \n",
       "(Intercept)             -0.255908   0.004282 -59.769  < 2e-16 ***\n",
       "log_in_degree           -0.245890   0.035501  -6.926 4.55e-12 ***\n",
       "log_kclip_5_weak_SB_f20  1.224291   0.038046  32.179  < 2e-16 ***\n",
       "---\n",
       "Signif. codes:  0 '***' 0.001 '**' 0.01 '*' 0.05 '.' 0.1 ' ' 1\n",
       "\n",
       "Residual standard error: 0.1282 on 11729 degrees of freedom\n",
       "Multiple R-squared:  0.5623,\tAdjusted R-squared:  0.5622 \n",
       "F-statistic:  7535 on 2 and 11729 DF,  p-value: < 2.2e-16\n"
      ]
     },
     "metadata": {},
     "output_type": "display_data"
    },
    {
     "name": "stdout",
     "output_type": "stream",
     "text": [
      "\n"
     ]
    },
    {
     "data": {
      "text/plain": [
       "\n",
       "Call:\n",
       "lm(formula = social_reputation_100 ~ log_weak_SD + log_kclip_5_weak_SB_f20, \n",
       "    data = dat)\n",
       "\n",
       "Residuals:\n",
       "     Min       1Q   Median       3Q      Max \n",
       "-0.54081 -0.08289 -0.00238  0.08486  0.50704 \n",
       "\n",
       "Coefficients:\n",
       "                         Estimate Std. Error t value Pr(>|t|)    \n",
       "(Intercept)             -0.253375   0.004302 -58.898   <2e-16 ***\n",
       "log_weak_SD              0.142774   0.064693   2.207   0.0273 *  \n",
       "log_kclip_5_weak_SB_f20  0.830133   0.062292  13.326   <2e-16 ***\n",
       "---\n",
       "Signif. codes:  0 '***' 0.001 '**' 0.01 '*' 0.05 '.' 0.1 ' ' 1\n",
       "\n",
       "Residual standard error: 0.1285 on 11729 degrees of freedom\n",
       "Multiple R-squared:  0.5607,\tAdjusted R-squared:  0.5606 \n",
       "F-statistic:  7486 on 2 and 11729 DF,  p-value: < 2.2e-16\n"
      ]
     },
     "metadata": {},
     "output_type": "display_data"
    },
    {
     "name": "stdout",
     "output_type": "stream",
     "text": [
      "\n"
     ]
    },
    {
     "data": {
      "text/plain": [
       "\n",
       "Call:\n",
       "lm(formula = social_reputation_100 ~ log_strong_SD + log_kclip_5_weak_SB_f20, \n",
       "    data = dat)\n",
       "\n",
       "Residuals:\n",
       "     Min       1Q   Median       3Q      Max \n",
       "-0.53023 -0.08359 -0.00147  0.08449  0.50686 \n",
       "\n",
       "Coefficients:\n",
       "                         Estimate Std. Error t value Pr(>|t|)    \n",
       "(Intercept)             -0.256636   0.004316 -59.460  < 2e-16 ***\n",
       "log_strong_SD           -0.271517   0.044940  -6.042 1.57e-09 ***\n",
       "log_kclip_5_weak_SB_f20  1.251436   0.047817  26.171  < 2e-16 ***\n",
       "---\n",
       "Signif. codes:  0 '***' 0.001 '**' 0.01 '*' 0.05 '.' 0.1 ' ' 1\n",
       "\n",
       "Residual standard error: 0.1283 on 11729 degrees of freedom\n",
       "Multiple R-squared:  0.5619,\tAdjusted R-squared:  0.5618 \n",
       "F-statistic:  7522 on 2 and 11729 DF,  p-value: < 2.2e-16\n"
      ]
     },
     "metadata": {},
     "output_type": "display_data"
    },
    {
     "name": "stdout",
     "output_type": "stream",
     "text": [
      "\n"
     ]
    },
    {
     "data": {
      "text/plain": [
       "\n",
       "Call:\n",
       "lm(formula = social_reputation_100 ~ log_sd_kclip_5 + log_kclip_5_weak_SB_f20, \n",
       "    data = dat)\n",
       "\n",
       "Residuals:\n",
       "     Min       1Q   Median       3Q      Max \n",
       "-0.52224 -0.08369 -0.00219  0.08410  0.50973 \n",
       "\n",
       "Coefficients:\n",
       "                         Estimate Std. Error t value Pr(>|t|)    \n",
       "(Intercept)             -0.252540   0.004252 -59.388  < 2e-16 ***\n",
       "log_sd_kclip_5          -0.368102   0.101067  -3.642 0.000272 ***\n",
       "log_kclip_5_weak_SB_f20  1.330695   0.100307  13.266  < 2e-16 ***\n",
       "---\n",
       "Signif. codes:  0 '***' 0.001 '**' 0.01 '*' 0.05 '.' 0.1 ' ' 1\n",
       "\n",
       "Residual standard error: 0.1284 on 11729 degrees of freedom\n",
       "Multiple R-squared:  0.561,\tAdjusted R-squared:  0.561 \n",
       "F-statistic:  7495 on 2 and 11729 DF,  p-value: < 2.2e-16\n"
      ]
     },
     "metadata": {},
     "output_type": "display_data"
    },
    {
     "name": "stdout",
     "output_type": "stream",
     "text": [
      "\n"
     ]
    },
    {
     "data": {
      "text/plain": [
       "\n",
       "Call:\n",
       "lm(formula = social_reputation_100 ~ log_in_degree + log_kclip_5_weak_SB_f20 + \n",
       "    log_answerCount, data = dat)\n",
       "\n",
       "Residuals:\n",
       "     Min       1Q   Median       3Q      Max \n",
       "-0.52408 -0.08389 -0.00282  0.08457  0.52162 \n",
       "\n",
       "Coefficients:\n",
       "                         Estimate Std. Error t value Pr(>|t|)    \n",
       "(Intercept)             -0.277686   0.004859 -57.150  < 2e-16 ***\n",
       "log_in_degree           -0.274783   0.035505  -7.739 1.08e-14 ***\n",
       "log_kclip_5_weak_SB_f20  1.236479   0.037928  32.600  < 2e-16 ***\n",
       "log_answerCount          0.076260   0.008145   9.362  < 2e-16 ***\n",
       "---\n",
       "Signif. codes:  0 '***' 0.001 '**' 0.01 '*' 0.05 '.' 0.1 ' ' 1\n",
       "\n",
       "Residual standard error: 0.1278 on 11728 degrees of freedom\n",
       "Multiple R-squared:  0.5656,\tAdjusted R-squared:  0.5655 \n",
       "F-statistic:  5089 on 3 and 11728 DF,  p-value: < 2.2e-16\n"
      ]
     },
     "metadata": {},
     "output_type": "display_data"
    },
    {
     "name": "stdout",
     "output_type": "stream",
     "text": [
      "\n"
     ]
    },
    {
     "data": {
      "text/plain": [
       "\n",
       "Call:\n",
       "lm(formula = social_reputation_100 ~ log_weak_SD + log_kclip_5_weak_SB_f20 + \n",
       "    log_answerCount, data = dat)\n",
       "\n",
       "Residuals:\n",
       "     Min       1Q   Median       3Q      Max \n",
       "-0.53539 -0.08388 -0.00299  0.08540  0.52060 \n",
       "\n",
       "Coefficients:\n",
       "                         Estimate Std. Error t value Pr(>|t|)    \n",
       "(Intercept)             -0.274380   0.004887 -56.142  < 2e-16 ***\n",
       "log_weak_SD              0.197844   0.064769   3.055  0.00226 ** \n",
       "log_kclip_5_weak_SB_f20  0.760171   0.062572  12.149  < 2e-16 ***\n",
       "log_answerCount          0.073150   0.008169   8.955  < 2e-16 ***\n",
       "---\n",
       "Signif. codes:  0 '***' 0.001 '**' 0.01 '*' 0.05 '.' 0.1 ' ' 1\n",
       "\n",
       "Residual standard error: 0.128 on 11728 degrees of freedom\n",
       "Multiple R-squared:  0.5637,\tAdjusted R-squared:  0.5636 \n",
       "F-statistic:  5051 on 3 and 11728 DF,  p-value: < 2.2e-16\n"
      ]
     },
     "metadata": {},
     "output_type": "display_data"
    },
    {
     "name": "stdout",
     "output_type": "stream",
     "text": [
      "\n"
     ]
    },
    {
     "data": {
      "text/plain": [
       "\n",
       "Call:\n",
       "lm(formula = social_reputation_100 ~ log_strong_SD + log_kclip_5_weak_SB_f20 + \n",
       "    log_answerCount, data = dat)\n",
       "\n",
       "Residuals:\n",
       "     Min       1Q   Median       3Q      Max \n",
       "-0.52177 -0.08397 -0.00298  0.08485  0.52176 \n",
       "\n",
       "Coefficients:\n",
       "                         Estimate Std. Error t value Pr(>|t|)    \n",
       "(Intercept)             -0.277625   0.004885 -56.833  < 2e-16 ***\n",
       "log_strong_SD           -0.293944   0.044854  -6.553 5.86e-11 ***\n",
       "log_kclip_5_weak_SB_f20  1.257472   0.047657  26.386  < 2e-16 ***\n",
       "log_answerCount          0.073721   0.008133   9.065  < 2e-16 ***\n",
       "---\n",
       "Signif. codes:  0 '***' 0.001 '**' 0.01 '*' 0.05 '.' 0.1 ' ' 1\n",
       "\n",
       "Residual standard error: 0.1278 on 11728 degrees of freedom\n",
       "Multiple R-squared:  0.5649,\tAdjusted R-squared:  0.5648 \n",
       "F-statistic:  5076 on 3 and 11728 DF,  p-value: < 2.2e-16\n"
      ]
     },
     "metadata": {},
     "output_type": "display_data"
    },
    {
     "name": "stdout",
     "output_type": "stream",
     "text": [
      "\n"
     ]
    },
    {
     "data": {
      "text/plain": [
       "\n",
       "Call:\n",
       "lm(formula = social_reputation_100 ~ log_sd_kclip_5 + log_kclip_5_weak_SB_f20 + \n",
       "    log_answerCount, data = dat)\n",
       "\n",
       "Residuals:\n",
       "     Min       1Q   Median       3Q      Max \n",
       "-0.51568 -0.08389 -0.00274  0.08509  0.51781 \n",
       "\n",
       "Coefficients:\n",
       "                         Estimate Std. Error t value Pr(>|t|)    \n",
       "(Intercept)             -0.271940   0.004807 -56.568   <2e-16 ***\n",
       "log_sd_kclip_5          -0.331809   0.100846  -3.290    0.001 ** \n",
       "log_kclip_5_weak_SB_f20  1.278253   0.100187  12.759   <2e-16 ***\n",
       "log_answerCount          0.069655   0.008139   8.558   <2e-16 ***\n",
       "---\n",
       "Signif. codes:  0 '***' 0.001 '**' 0.01 '*' 0.05 '.' 0.1 ' ' 1\n",
       "\n",
       "Residual standard error: 0.128 on 11728 degrees of freedom\n",
       "Multiple R-squared:  0.5638,\tAdjusted R-squared:  0.5636 \n",
       "F-statistic:  5052 on 3 and 11728 DF,  p-value: < 2.2e-16\n"
      ]
     },
     "metadata": {},
     "output_type": "display_data"
    }
   ],
   "source": [
    "\n",
    "model1 = lm(social_reputation_100 ~ log_in_degree + log_kclip_5_weak_SB_f20,\n",
    "           data = dat)\n",
    "summary(model1)\n",
    "\n",
    "cat('\\n')\n",
    "\n",
    "model2 = lm(social_reputation_100 ~ log_weak_SD + log_kclip_5_weak_SB_f20,\n",
    "           data = dat)\n",
    "summary(model2)\n",
    "cat('\\n')\n",
    "\n",
    "model3 = lm(social_reputation_100 ~ log_strong_SD + log_kclip_5_weak_SB_f20,\n",
    "           data = dat)\n",
    "summary(model3)\n",
    "cat('\\n')\n",
    "\n",
    "model4 = lm(social_reputation_100 ~ log_sd_kclip_5 + log_kclip_5_weak_SB_f20,\n",
    "           data = dat)\n",
    "summary(model4)\n",
    "cat('\\n')\n",
    "\n",
    "\n",
    "model1.1 = lm(social_reputation_100 ~ log_in_degree + log_kclip_5_weak_SB_f20 + log_answerCount,\n",
    "           data = dat)\n",
    "summary(model1.1)\n",
    "cat('\\n')\n",
    "\n",
    "model2.1 = lm(social_reputation_100 ~ log_weak_SD + log_kclip_5_weak_SB_f20 + log_answerCount,\n",
    "           data = dat)\n",
    "summary(model2.1)\n",
    "cat('\\n')\n",
    "\n",
    "model3.1 = lm(social_reputation_100 ~ log_strong_SD + log_kclip_5_weak_SB_f20 + log_answerCount,\n",
    "           data = dat)\n",
    "summary(model3.1)\n",
    "cat('\\n')\n",
    "\n",
    "model4.1 = lm(social_reputation_100 ~ log_sd_kclip_5 + log_kclip_5_weak_SB_f20 + log_answerCount,\n",
    "           data = dat)\n",
    "summary(model4.1)\n",
    "\n"
   ]
  },
  {
   "cell_type": "code",
   "execution_count": null,
   "metadata": {},
   "outputs": [],
   "source": []
  },
  {
   "cell_type": "code",
   "execution_count": null,
   "metadata": {},
   "outputs": [],
   "source": []
  },
  {
   "cell_type": "code",
   "execution_count": null,
   "metadata": {},
   "outputs": [],
   "source": []
  },
  {
   "cell_type": "code",
   "execution_count": null,
   "metadata": {},
   "outputs": [],
   "source": []
  },
  {
   "cell_type": "code",
   "execution_count": null,
   "metadata": {},
   "outputs": [],
   "source": []
  }
 ],
 "metadata": {
  "kernelspec": {
   "display_name": "R",
   "language": "R",
   "name": "ir"
  },
  "language_info": {
   "codemirror_mode": "r",
   "file_extension": ".r",
   "mimetype": "text/x-r-source",
   "name": "R",
   "pygments_lexer": "r",
   "version": "3.5.1"
  }
 },
 "nbformat": 4,
 "nbformat_minor": 2
}
