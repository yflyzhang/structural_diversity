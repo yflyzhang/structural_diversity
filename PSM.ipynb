{
 "cells": [
  {
   "cell_type": "code",
   "execution_count": 16,
   "metadata": {},
   "outputs": [],
   "source": [
    "library(MatchIt)\n",
    "library(dplyr)\n",
    "library(reshape2)\n",
    "# library(ggplot2)\n",
    "\n",
    "library(tableone)\n",
    "\n",
    "options(tibble.width = Inf)"
   ]
  },
  {
   "cell_type": "code",
   "execution_count": 37,
   "metadata": {},
   "outputs": [],
   "source": [
    "options(warn=-1)"
   ]
  },
  {
   "cell_type": "markdown",
   "metadata": {},
   "source": [
    "#### load data"
   ]
  },
  {
   "cell_type": "code",
   "execution_count": 8,
   "metadata": {},
   "outputs": [],
   "source": [
    "data <- read.csv('data_others/ego_features.csv')"
   ]
  },
  {
   "cell_type": "code",
   "execution_count": 9,
   "metadata": {},
   "outputs": [
    {
     "data": {
      "text/plain": [
       "\n",
       "    0     1 \n",
       "31513 54175 "
      ]
     },
     "metadata": {},
     "output_type": "display_data"
    }
   ],
   "source": [
    "\n",
    "dat <-\n",
    "  data %>%\n",
    "    filter(in_degree>=2) %>%\n",
    "    mutate(treatment = ifelse( weak_SD == in_degree, '1', '0'))\n",
    "\n",
    "# Note: 'kclip diversity measure == in_degree' is equivalent to 'weak diversity measure == in_degree'\n",
    "\n",
    "table(dat$treatment)"
   ]
  },
  {
   "cell_type": "code",
   "execution_count": 10,
   "metadata": {},
   "outputs": [],
   "source": [
    "\n",
    "# covariates accounted for in PSM\n",
    "\n",
    "covs <-\n",
    "c('gender_male', 'gender_na', \n",
    "  'log_in_degree',\n",
    "\n",
    "  'log_answerCount', 'log_questionCount', 'log_articlesCount', \n",
    "  'log_columnsCount', 'log_pinsCount', 'log_favoriteCount', \n",
    "\n",
    "  'log_followingColumnsCount', 'log_followingFavlistsCount', \n",
    "  'log_followingQuestionCount', 'log_followingTopicCount')\n",
    "\n",
    "\n",
    "# Executing a matching algorithm\n",
    "data_nomiss <- dat %>%  # MatchIt does not allow missing values\n",
    "  select(social_reputation_100, treatment, one_of(covs)) %>%\n",
    "  na.omit()\n"
   ]
  },
  {
   "cell_type": "code",
   "execution_count": 11,
   "metadata": {},
   "outputs": [
    {
     "data": {
      "text/html": [
       "<ol class=list-inline>\n",
       "\t<li>85688</li>\n",
       "\t<li>15</li>\n",
       "</ol>\n"
      ],
      "text/latex": [
       "\\begin{enumerate*}\n",
       "\\item 85688\n",
       "\\item 15\n",
       "\\end{enumerate*}\n"
      ],
      "text/markdown": [
       "1. 85688\n",
       "2. 15\n",
       "\n",
       "\n"
      ],
      "text/plain": [
       "[1] 85688    15"
      ]
     },
     "metadata": {},
     "output_type": "display_data"
    }
   ],
   "source": [
    "dim(data_nomiss)"
   ]
  },
  {
   "cell_type": "code",
   "execution_count": 12,
   "metadata": {},
   "outputs": [
    {
     "name": "stderr",
     "output_type": "stream",
     "text": [
      "Warning message in matchit2nearest(structure(c(`1` = 2L, `2` = 1L, `3` = 2L, `4` = 1L, :\n",
      "\"Fewer control than treated units and matching without replacement.  Not all treated units will receive a match.  Treated units will be matched in the order specified by m.order: largest\""
     ]
    }
   ],
   "source": [
    "\n",
    "# set seed for replication purpose\n",
    "set.seed(1234)\n",
    "\n",
    "# works\n",
    "mod_match <- matchit(treatment ~ log_in_degree + log_answerCount + log_questionCount + \n",
    "             log_articlesCount + log_columnsCount + log_pinsCount + log_favoriteCount +\n",
    "             log_followingColumnsCount + log_followingFavlistsCount + \n",
    "             log_followingQuestionCount + log_followingTopicCount +\n",
    "             gender_na + gender_male,\n",
    "             method = \"nearest\", \n",
    "             data = data_nomiss,  \n",
    "             caliper = .001)"
   ]
  },
  {
   "cell_type": "code",
   "execution_count": null,
   "metadata": {},
   "outputs": [],
   "source": []
  },
  {
   "cell_type": "markdown",
   "metadata": {},
   "source": [
    "---\n",
    "#### 1. get matched pairs"
   ]
  },
  {
   "cell_type": "code",
   "execution_count": 17,
   "metadata": {},
   "outputs": [],
   "source": [
    "\n",
    "# the matched matrix\n",
    "# mod_match$match.matrix\n",
    "\n",
    "\n",
    "# data_nomiss[mod_match$match.matrix]\n",
    "x <- cbind(data_nomiss[row.names(mod_match$match.matrix),'social_reputation_100'], data_nomiss[mod_match$match.matrix,'social_reputation_100'])\n",
    "x <- as.data.frame(x)\n",
    "xx <- x[!is.na(x$V2),]\n",
    "\n",
    "# t.test(xx$V1, xx$V2)\n",
    "# t.test(xx$V1, xx$V2, paired=TRUE)\n",
    "\n",
    "# datafile of matches\n",
    "matched_pairs<-as.data.frame(mod_match$match.matrix)\n",
    "colnames(matched_pairs)<-c(\"matched_unit\")\n",
    "\n",
    "matched_pairs$matched_unit<-as.numeric(as.character(matched_pairs$matched_unit))\n",
    "matched_pairs$treated_unit<-as.numeric(rownames(matched_pairs))\n",
    "\n",
    "#now delete matches=na\n",
    "matched_pairs <- matched_pairs[!is.na(matched_pairs$matched_unit),]\n",
    "matched_pairs$match_num <- 1:dim(matched_pairs)[1]\n",
    "\n",
    "# melt(data = x, id.vars = \"id\", measure.vars = c(\"blue\", \"red\"))\n",
    "\n",
    "matched_ids <- \n",
    "melt(data = matched_pairs, id.vars = \"match_num\", \n",
    "  measure.vars = c(\"matched_unit\", \"treated_unit\"),\n",
    "  variable.name = \"matched_type\", \n",
    "  value.name = \"id\"\n",
    "  )\n"
   ]
  },
  {
   "cell_type": "code",
   "execution_count": 18,
   "metadata": {},
   "outputs": [
    {
     "data": {
      "text/html": [
       "<table>\n",
       "<thead><tr><th scope=col>match_num</th><th scope=col>matched_type</th><th scope=col>id</th></tr></thead>\n",
       "<tbody>\n",
       "\t<tr><td>1           </td><td>matched_unit</td><td>  159       </td></tr>\n",
       "\t<tr><td>2           </td><td>matched_unit</td><td>37374       </td></tr>\n",
       "\t<tr><td>3           </td><td>matched_unit</td><td> 1849       </td></tr>\n",
       "\t<tr><td>4           </td><td>matched_unit</td><td>72170       </td></tr>\n",
       "\t<tr><td>5           </td><td>matched_unit</td><td>13000       </td></tr>\n",
       "\t<tr><td>6           </td><td>matched_unit</td><td>56478       </td></tr>\n",
       "</tbody>\n",
       "</table>\n"
      ],
      "text/latex": [
       "\\begin{tabular}{r|lll}\n",
       " match\\_num & matched\\_type & id\\\\\n",
       "\\hline\n",
       "\t 1              & matched\\_unit &   159         \\\\\n",
       "\t 2              & matched\\_unit & 37374         \\\\\n",
       "\t 3              & matched\\_unit &  1849         \\\\\n",
       "\t 4              & matched\\_unit & 72170         \\\\\n",
       "\t 5              & matched\\_unit & 13000         \\\\\n",
       "\t 6              & matched\\_unit & 56478         \\\\\n",
       "\\end{tabular}\n"
      ],
      "text/markdown": [
       "\n",
       "| match_num | matched_type | id |\n",
       "|---|---|---|\n",
       "| 1            | matched_unit |   159        |\n",
       "| 2            | matched_unit | 37374        |\n",
       "| 3            | matched_unit |  1849        |\n",
       "| 4            | matched_unit | 72170        |\n",
       "| 5            | matched_unit | 13000        |\n",
       "| 6            | matched_unit | 56478        |\n",
       "\n"
      ],
      "text/plain": [
       "  match_num matched_type id   \n",
       "1 1         matched_unit   159\n",
       "2 2         matched_unit 37374\n",
       "3 3         matched_unit  1849\n",
       "4 4         matched_unit 72170\n",
       "5 5         matched_unit 13000\n",
       "6 6         matched_unit 56478"
      ]
     },
     "metadata": {},
     "output_type": "display_data"
    }
   ],
   "source": [
    "head(matched_ids)"
   ]
  },
  {
   "cell_type": "markdown",
   "metadata": {},
   "source": [
    "---\n",
    "#### 2. get matched data"
   ]
  },
  {
   "cell_type": "code",
   "execution_count": 20,
   "metadata": {},
   "outputs": [],
   "source": [
    "\n",
    "data_matched <- match.data(mod_match)\n",
    "\n",
    "data_matched$id<-as.numeric(rownames(data_matched))\n",
    "\n",
    "data_matched <- merge(subset(matched_ids, select=c(match_num, id)), \n",
    "                      data_matched, by = c('id'))"
   ]
  },
  {
   "cell_type": "code",
   "execution_count": 23,
   "metadata": {},
   "outputs": [
    {
     "data": {
      "text/html": [
       "<ol class=list-inline>\n",
       "\t<li>31726</li>\n",
       "\t<li>19</li>\n",
       "</ol>\n"
      ],
      "text/latex": [
       "\\begin{enumerate*}\n",
       "\\item 31726\n",
       "\\item 19\n",
       "\\end{enumerate*}\n"
      ],
      "text/markdown": [
       "1. 31726\n",
       "2. 19\n",
       "\n",
       "\n"
      ],
      "text/plain": [
       "[1] 31726    19"
      ]
     },
     "metadata": {},
     "output_type": "display_data"
    }
   ],
   "source": [
    "dim(data_matched)"
   ]
  },
  {
   "cell_type": "markdown",
   "metadata": {},
   "source": [
    "---\n",
    "#### 3. look at a table 1"
   ]
  },
  {
   "cell_type": "code",
   "execution_count": 25,
   "metadata": {},
   "outputs": [
    {
     "name": "stdout",
     "output_type": "stream",
     "text": [
      "                                        Stratified by treatment\n",
      "                                         0            1            p      test\n",
      "  n                                      15863        15863                   \n",
      "  gender_male (mean (sd))                 0.45 (0.50)  0.45 (0.50)  0.874     \n",
      "  gender_na (mean (sd))                   0.17 (0.38)  0.17 (0.38)  0.700     \n",
      "  log_in_degree (mean (sd))               1.01 (0.36)  1.01 (0.36)  0.892     \n",
      "  log_answerCount (mean (sd))             0.72 (0.60)  0.74 (0.58)  0.017     \n",
      "  log_questionCount (mean (sd))           0.22 (0.31)  0.23 (0.31)  0.137     \n",
      "  log_articlesCount (mean (sd))           0.03 (0.16)  0.03 (0.16)  0.906     \n",
      "  log_columnsCount (mean (sd))            0.01 (0.04)  0.01 (0.04)  0.960     \n",
      "  log_pinsCount (mean (sd))               0.08 (0.23)  0.08 (0.22)  0.187     \n",
      "  log_favoriteCount (mean (sd))           0.60 (0.44)  0.62 (0.45) <0.001     \n",
      "  log_followingColumnsCount (mean (sd))   0.69 (0.53)  0.72 (0.54) <0.001     \n",
      "  log_followingFavlistsCount (mean (sd))  0.44 (0.52)  0.46 (0.55) <0.001     \n",
      "  log_followingQuestionCount (mean (sd))  1.70 (0.72)  1.77 (0.69) <0.001     \n",
      "  log_followingTopicCount (mean (sd))     1.38 (0.54)  1.42 (0.55) <0.001     \n",
      "                                        Stratified by treatment\n",
      "                                         SMD   \n",
      "  n                                            \n",
      "  gender_male (mean (sd))                 0.002\n",
      "  gender_na (mean (sd))                   0.004\n",
      "  log_in_degree (mean (sd))               0.002\n",
      "  log_answerCount (mean (sd))             0.027\n",
      "  log_questionCount (mean (sd))           0.017\n",
      "  log_articlesCount (mean (sd))           0.001\n",
      "  log_columnsCount (mean (sd))            0.001\n",
      "  log_pinsCount (mean (sd))               0.015\n",
      "  log_favoriteCount (mean (sd))           0.057\n",
      "  log_followingColumnsCount (mean (sd))   0.061\n",
      "  log_followingFavlistsCount (mean (sd))  0.045\n",
      "  log_followingQuestionCount (mean (sd))  0.094\n",
      "  log_followingTopicCount (mean (sd))     0.079\n"
     ]
    }
   ],
   "source": [
    "\n",
    "table1<- CreateTableOne(vars=covs, strata=\"treatment\", data=data_matched)\n",
    "\n",
    "## include standardized mean difference (SMD)\n",
    "print(table1,smd=TRUE)"
   ]
  },
  {
   "cell_type": "markdown",
   "metadata": {},
   "source": [
    "---\n",
    "#### 4. estimating treatment effects"
   ]
  },
  {
   "cell_type": "code",
   "execution_count": 54,
   "metadata": {},
   "outputs": [],
   "source": [
    "y0 <- \n",
    "data_matched %>%\n",
    "    arrange((match_num)) %>%\n",
    "    filter(treatment==0)\n",
    "\n",
    "y1 <- \n",
    "data_matched %>%\n",
    "    arrange((match_num)) %>%\n",
    "    filter(treatment==1)"
   ]
  },
  {
   "cell_type": "code",
   "execution_count": 61,
   "metadata": {},
   "outputs": [
    {
     "data": {
      "text/plain": [
       "\n",
       "\tPaired t-test\n",
       "\n",
       "data:  y1$social_reputation_100 and y0$social_reputation_100\n",
       "t = 22.106, df = 15862, p-value < 2.2e-16\n",
       "alternative hypothesis: true difference in means is not equal to 0\n",
       "95 percent confidence interval:\n",
       " 2.474083 2.955509\n",
       "sample estimates:\n",
       "mean of the differences \n",
       "               2.714796 \n"
      ]
     },
     "metadata": {},
     "output_type": "display_data"
    }
   ],
   "source": [
    "# paired t-test\n",
    "t.test(y1$social_reputation_100, y0$social_reputation_100, paired=TRUE)"
   ]
  },
  {
   "cell_type": "code",
   "execution_count": null,
   "metadata": {},
   "outputs": [],
   "source": []
  },
  {
   "cell_type": "code",
   "execution_count": null,
   "metadata": {},
   "outputs": [],
   "source": []
  },
  {
   "cell_type": "code",
   "execution_count": null,
   "metadata": {},
   "outputs": [],
   "source": []
  },
  {
   "cell_type": "code",
   "execution_count": null,
   "metadata": {},
   "outputs": [],
   "source": []
  }
 ],
 "metadata": {
  "kernelspec": {
   "display_name": "R",
   "language": "R",
   "name": "ir"
  },
  "language_info": {
   "codemirror_mode": "r",
   "file_extension": ".r",
   "mimetype": "text/x-r-source",
   "name": "R",
   "pygments_lexer": "r",
   "version": "3.5.1"
  }
 },
 "nbformat": 4,
 "nbformat_minor": 2
}
