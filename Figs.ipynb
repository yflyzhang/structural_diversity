{
 "cells": [
  {
   "cell_type": "code",
   "execution_count": 7,
   "metadata": {},
   "outputs": [],
   "source": [
    "options(warn=-1)"
   ]
  },
  {
   "cell_type": "code",
   "execution_count": 8,
   "metadata": {},
   "outputs": [],
   "source": [
    "library(dplyr)\n",
    "library(ggplot2)\n",
    "library(scales)"
   ]
  },
  {
   "cell_type": "code",
   "execution_count": null,
   "metadata": {},
   "outputs": [],
   "source": []
  },
  {
   "cell_type": "markdown",
   "metadata": {},
   "source": [
    "---\n",
    "#### outcome distribution"
   ]
  },
  {
   "cell_type": "code",
   "execution_count": 324,
   "metadata": {},
   "outputs": [],
   "source": [
    "dist_data <- read.csv('data/voteup-thank-favotite_dist.csv')"
   ]
  },
  {
   "cell_type": "code",
   "execution_count": 325,
   "metadata": {},
   "outputs": [
    {
     "data": {
      "text/html": [
       "<table>\n",
       "<thead><tr><th scope=col>index</th><th scope=col>cnt</th><th scope=col>frac</th><th scope=col>type</th></tr></thead>\n",
       "<tbody>\n",
       "\t<tr><td>0          </td><td>161337     </td><td>0.68702573 </td><td>voteupCount</td></tr>\n",
       "\t<tr><td>1          </td><td> 10867     </td><td>0.04627524 </td><td>voteupCount</td></tr>\n",
       "\t<tr><td>2          </td><td>  6252     </td><td>0.02662306 </td><td>voteupCount</td></tr>\n",
       "\t<tr><td>3          </td><td>  4347     </td><td>0.01851095 </td><td>voteupCount</td></tr>\n",
       "\t<tr><td>4          </td><td>  3137     </td><td>0.01335837 </td><td>voteupCount</td></tr>\n",
       "\t<tr><td>5          </td><td>  2443     </td><td>0.01040309 </td><td>voteupCount</td></tr>\n",
       "</tbody>\n",
       "</table>\n"
      ],
      "text/latex": [
       "\\begin{tabular}{r|llll}\n",
       " index & cnt & frac & type\\\\\n",
       "\\hline\n",
       "\t 0           & 161337      & 0.68702573  & voteupCount\\\\\n",
       "\t 1           &  10867      & 0.04627524  & voteupCount\\\\\n",
       "\t 2           &   6252      & 0.02662306  & voteupCount\\\\\n",
       "\t 3           &   4347      & 0.01851095  & voteupCount\\\\\n",
       "\t 4           &   3137      & 0.01335837  & voteupCount\\\\\n",
       "\t 5           &   2443      & 0.01040309  & voteupCount\\\\\n",
       "\\end{tabular}\n"
      ],
      "text/markdown": [
       "\n",
       "| index | cnt | frac | type |\n",
       "|---|---|---|---|\n",
       "| 0           | 161337      | 0.68702573  | voteupCount |\n",
       "| 1           |  10867      | 0.04627524  | voteupCount |\n",
       "| 2           |   6252      | 0.02662306  | voteupCount |\n",
       "| 3           |   4347      | 0.01851095  | voteupCount |\n",
       "| 4           |   3137      | 0.01335837  | voteupCount |\n",
       "| 5           |   2443      | 0.01040309  | voteupCount |\n",
       "\n"
      ],
      "text/plain": [
       "  index cnt    frac       type       \n",
       "1 0     161337 0.68702573 voteupCount\n",
       "2 1      10867 0.04627524 voteupCount\n",
       "3 2       6252 0.02662306 voteupCount\n",
       "4 3       4347 0.01851095 voteupCount\n",
       "5 4       3137 0.01335837 voteupCount\n",
       "6 5       2443 0.01040309 voteupCount"
      ]
     },
     "metadata": {},
     "output_type": "display_data"
    }
   ],
   "source": [
    "head(dist_data)"
   ]
  },
  {
   "cell_type": "code",
   "execution_count": 329,
   "metadata": {},
   "outputs": [],
   "source": [
    "options(repr.plot.width = 4, repr.plot.height = 4)\n",
    "\n",
    "xlimits = c(1e0, 1e6)\n",
    "ylimits = c(1e-6, 1e-1)\n",
    "\n",
    "\n",
    "# dist_data %>%\n",
    "#   filter(index>0) %>%\n",
    "#   # filter(type=='voteupCount') %>%\n",
    "#   # select(log_in_degree, log_voteup_cnt) %>%\n",
    "#   ggplot(aes(x=index, y=frac, color=type)) +\n",
    "#   geom_point(aes(shape=type), alpha=.5, size=2) +\n",
    "#   scale_x_log10(breaks = scales::trans_breaks(\"log10\", function(x) 10^x),\n",
    "#                 limits=xlimits,\n",
    "#                 labels = scales::trans_format(\"log10\", scales::math_format(10^.x))) +\n",
    "#   scale_y_log10(breaks = scales::trans_breaks(\"log10\", function(x) 10^x),\n",
    "#                 limits=ylimits,\n",
    "#                 labels = scales::trans_format(\"log10\", scales::math_format(10^.x))) +\n",
    "#   scale_colour_manual(values=c('#ef3b2c', '#386cb0', '#984ea3')) +\n",
    "#   scale_shape_manual(values=c(15,16,17)) +\n",
    "#   theme_classic() +\n",
    "#   theme(legend.position=c(0.8, 0.8))"
   ]
  },
  {
   "cell_type": "code",
   "execution_count": 330,
   "metadata": {},
   "outputs": [
    {
     "data": {
      "image/png": "[encoded data removed]",
      "text/plain": [
       "plot without title"
      ]
     },
     "metadata": {},
     "output_type": "display_data"
    }
   ],
   "source": [
    "# voteupCount\n",
    "dist_data %>%\n",
    "  filter(index>0) %>%\n",
    "  filter(type=='voteupCount') %>%\n",
    "  # select(log_in_degree, log_voteup_cnt) %>%\n",
    "  ggplot(aes(x=index, y=frac)) +\n",
    "  geom_point(alpha=.3, size=1.5, shape=21, , fill='#ef3b2c', color='#ef3b2c') +\n",
    "  scale_x_log10(breaks = scales::trans_breaks(\"log10\", function(x) 10^x),\n",
    "                limits=xlimits,\n",
    "                labels = scales::trans_format(\"log10\", scales::math_format(10^.x))) +\n",
    "  scale_y_log10(breaks = scales::trans_breaks(\"log10\", function(x) 10^x),\n",
    "                limits=ylimits,\n",
    "                labels = scales::trans_format(\"log10\", scales::math_format(10^.x))) +\n",
    "  theme_classic() +\n",
    "  labs(title=\"\",x=\"#Upvotes\", y = \"P\")"
   ]
  },
  {
   "cell_type": "code",
   "execution_count": 331,
   "metadata": {},
   "outputs": [
    {
     "data": {
      "image/png": "[encoded data removed]",
      "text/plain": [
       "plot without title"
      ]
     },
     "metadata": {},
     "output_type": "display_data"
    }
   ],
   "source": [
    "# thankedCount\n",
    "\n",
    "dist_data %>%\n",
    "  filter(index>0) %>%\n",
    "  filter(type=='thankedCount') %>%\n",
    "  # select(log_in_degree, log_voteup_cnt) %>%\n",
    "  ggplot(aes(x=index, y=frac)) +\n",
    "  geom_point(alpha=.3, size=1.5, shape=24, fill='#386cb0', color='#386cb0') +\n",
    "  scale_x_log10(breaks = scales::trans_breaks(\"log10\", function(x) 10^x),\n",
    "                limits=xlimits,\n",
    "                labels = scales::trans_format(\"log10\", scales::math_format(10^.x))) +\n",
    "  scale_y_log10(breaks = scales::trans_breaks(\"log10\", function(x) 10^x),\n",
    "                limits=ylimits,\n",
    "                labels = scales::trans_format(\"log10\", scales::math_format(10^.x))) +\n",
    "  theme_classic() +\n",
    "  labs(title=\"\",x=\"#Thanks\", y = \"P\")"
   ]
  },
  {
   "cell_type": "code",
   "execution_count": 332,
   "metadata": {},
   "outputs": [
    {
     "data": {
      "image/png": "[encoded data removed]",
      "text/plain": [
       "plot without title"
      ]
     },
     "metadata": {},
     "output_type": "display_data"
    }
   ],
   "source": [
    "# favoritedCount\n",
    "\n",
    "dist_data %>%\n",
    "  filter(index>0) %>%\n",
    "  filter(type=='favoritedCount') %>%\n",
    "  # select(log_in_degree, log_voteup_cnt) %>%\n",
    "  ggplot(aes(x=index, y=frac)) +\n",
    "  geom_point(alpha=.3, size=1.5, shape=25, fill='#984ea3', color='#984ea3') +\n",
    "  scale_x_log10(breaks = scales::trans_breaks(\"log10\", function(x) 10^x),\n",
    "                limits=xlimits,\n",
    "                labels = scales::trans_format(\"log10\", scales::math_format(10^.x))) +\n",
    "  scale_y_log10(breaks = scales::trans_breaks(\"log10\", function(x) 10^x),\n",
    "                limits=ylimits,\n",
    "                labels = scales::trans_format(\"log10\", scales::math_format(10^.x))) +\n",
    "  theme_classic() +\n",
    "  labs(title=\"\",x=\"#Favorites\", y = \"P\")"
   ]
  },
  {
   "cell_type": "code",
   "execution_count": null,
   "metadata": {},
   "outputs": [],
   "source": []
  },
  {
   "cell_type": "markdown",
   "metadata": {},
   "source": [
    "---\n",
    "#### social reputation index vs weak and strong diversity measures"
   ]
  },
  {
   "cell_type": "code",
   "execution_count": 102,
   "metadata": {},
   "outputs": [
    {
     "data": {
      "image/png": "[encoded data removed]",
      "text/plain": [
       "plot without title"
      ]
     },
     "metadata": {},
     "output_type": "display_data"
    },
    {
     "data": {
      "image/png": "[encoded data removed]",
      "text/plain": [
       "plot without title"
      ]
     },
     "metadata": {},
     "output_type": "display_data"
    }
   ],
   "source": [
    "data <- read.csv('data/indegree_weak_SD.csv')\n",
    "\n",
    "\n",
    "options(repr.plot.width = 10, repr.plot.height = 5)\n",
    "levels_ <- c(\"Indegree=2\", \"Indegree=3\", \"Indegree=4\", \"Indegree=5\", \"Indegree=6\")\n",
    "data %>%\n",
    "  filter(in_degree %in% c(2,3,4,5,6)) %>%\n",
    "  mutate(group=paste0(\"Indegree=\", in_degree)) %>%\n",
    "  mutate(group=factor(group, levels=levels_)) %>%\n",
    "  ggplot(aes(x=weak_SD, y=mean)) +\n",
    "    geom_errorbar(aes(ymin=ci_lower, ymax=ci_upper), size=0.5, width=.15) +\n",
    "    geom_point(size=1.5, color='black') +\n",
    "    scale_x_continuous(breaks=seq(1, 10, 1)) +\n",
    "    scale_y_continuous(breaks=seq(-5, 20, 5), limits=c(-1.5, 17)) +\n",
    "    xlab(\"Weak diversity measure\") + ylab(\"Social reputation index\") +\n",
    "    facet_grid(cols=vars(group), scales='free_x', space='free_x') +\n",
    "    theme_bw() +\n",
    "    theme(panel.grid.minor.x = element_blank(),\n",
    "         strip.text.x = element_text(size=10), )\n",
    "\n",
    "\n",
    "\n",
    "options(repr.plot.width = 10, repr.plot.height = 5)\n",
    "levels_ <- c(\"Indegree=7\", \"Indegree=8\", \"Indegree=9\", \"Indegree=10\")\n",
    "data %>%\n",
    "  filter(in_degree %in% c(7,8,9,10)) %>%\n",
    "  mutate(group=paste0(\"Indegree=\", in_degree)) %>%\n",
    "  mutate(group=factor(group, levels=levels_)) %>%\n",
    "  ggplot(aes(x=weak_SD, y=mean)) +\n",
    "    geom_errorbar(aes(ymin=ci_lower, ymax=ci_upper), size=0.5, width=.25) +\n",
    "    geom_point(size=1.5, color='black') +\n",
    "    scale_x_continuous(breaks=seq(1, 10, 1)) +\n",
    "    scale_y_continuous(breaks=seq(-5, 20, 5), limits=c(-1.5, 17)) +\n",
    "    xlab(\"Weak diversity measure\") + ylab(\"Social reputation index\") +\n",
    "    facet_grid(cols=vars(group), scales='free_x', space='free_x') +\n",
    "    theme_bw() +\n",
    "    theme(panel.grid.minor.x = element_blank(),\n",
    "         strip.text.x = element_text(size=10), )"
   ]
  },
  {
   "cell_type": "code",
   "execution_count": null,
   "metadata": {},
   "outputs": [],
   "source": []
  },
  {
   "cell_type": "code",
   "execution_count": 103,
   "metadata": {},
   "outputs": [
    {
     "data": {
      "image/png": "[encoded data removed]",
      "text/plain": [
       "plot without title"
      ]
     },
     "metadata": {},
     "output_type": "display_data"
    },
    {
     "data": {
      "image/png": "[encoded data removed]",
      "text/plain": [
       "plot without title"
      ]
     },
     "metadata": {},
     "output_type": "display_data"
    }
   ],
   "source": [
    "data <- read.csv('data/indegree_strong_SD.csv')\n",
    "\n",
    "\n",
    "options(repr.plot.width = 10, repr.plot.height = 5)\n",
    "levels_ <- c(\"Indegree=2\", \"Indegree=3\", \"Indegree=4\", \"Indegree=5\", \"Indegree=6\")\n",
    "data %>%\n",
    "  filter(in_degree %in% c(2,3,4,5,6)) %>%\n",
    "  mutate(group=paste0(\"Indegree=\", in_degree)) %>%\n",
    "  mutate(group=factor(group, levels=levels_)) %>%\n",
    "  ggplot(aes(x=strong_SD, y=mean)) +\n",
    "    geom_errorbar(aes(ymin=ci_lower, ymax=ci_upper), size=0.5, width=.15) +\n",
    "    geom_point(size=1.5, color='black') +\n",
    "    scale_x_continuous(breaks=seq(1, 10, 1)) +\n",
    "    scale_y_continuous(breaks=seq(-5, 20, 5), limits=c(-1.5, 17)) +\n",
    "    xlab(\"Strong diversity measure\") + ylab(\"Social reputation index\") +\n",
    "    facet_grid(cols=vars(group), scales='free_x', space='free_x') +\n",
    "    theme_bw() +\n",
    "    theme(panel.grid.minor.x = element_blank(),\n",
    "         strip.text.x = element_text(size=10), )\n",
    "\n",
    "\n",
    "options(repr.plot.width = 10, repr.plot.height = 5)\n",
    "levels_ <- c(\"Indegree=7\", \"Indegree=8\", \"Indegree=9\", \"Indegree=10\")\n",
    "data %>%\n",
    "  filter(in_degree %in% c(7,8,9,10)) %>%\n",
    "  mutate(group=paste0(\"Indegree=\", in_degree)) %>%\n",
    "  mutate(group=factor(group, levels=levels_)) %>%\n",
    "  ggplot(aes(x=strong_SD, y=mean)) +\n",
    "    geom_errorbar(aes(ymin=ci_lower, ymax=ci_upper), size=0.5, width=.25) +\n",
    "    geom_point(size=1.5, color='black') +\n",
    "    scale_x_continuous(breaks=seq(1, 10, 1)) +\n",
    "    scale_y_continuous(breaks=seq(-5, 20, 5), limits=c(-1.5, 17)) +\n",
    "    xlab(\"Strong diversity measure\") + ylab(\"Social reputation index\") +\n",
    "    facet_grid(cols=vars(group), scales='free_x', space='free_x') +\n",
    "    theme_bw() +\n",
    "    theme(panel.grid.minor.x = element_blank(),\n",
    "         strip.text.x = element_text(size=10), )"
   ]
  },
  {
   "cell_type": "code",
   "execution_count": null,
   "metadata": {},
   "outputs": [],
   "source": []
  },
  {
   "cell_type": "markdown",
   "metadata": {},
   "source": [
    "---\n",
    "#### Regression analyses of weak and strong diversity measures"
   ]
  },
  {
   "cell_type": "code",
   "execution_count": 251,
   "metadata": {},
   "outputs": [
    {
     "data": {
      "image/png": "[encoded data removed]",
      "text/plain": [
       "plot without title"
      ]
     },
     "metadata": {},
     "output_type": "display_data"
    }
   ],
   "source": [
    "data <- read.csv('data/regression_singles.csv')\n",
    "\n",
    "options(repr.plot.width = 3, repr.plot.height = 2.4)\n",
    "\n",
    "\n",
    "data %>%\n",
    "  filter(!index %in% c('Intercept')) %>%\n",
    "  filter(index %in% c(\"log_in_degree\", \"log_weak_SD\", \"log_strong_SD\")) %>%\n",
    "  mutate(index = factor(index, levels = c(\"log_in_degree\", \"log_weak_SD\", \"log_strong_SD\"))) %>%\n",
    "  ggplot(aes(x=index, y=coeff, fill=iv)) +\n",
    "    geom_bar(position=position_dodge(), stat=\"identity\",\n",
    "             colour=\"black\", # Use black outlines,\n",
    "             alpha=.8,\n",
    "             size=.3, width=.31) +      # Thinner lines\n",
    "    geom_errorbar(aes(ymin=ci_lower, ymax=ci_upper),\n",
    "                  # size=.8, width=.05,\n",
    "                  size=.5, width=.06,\n",
    "                  position=position_dodge(.9)) +\n",
    "    # xlab('Diversity') +\n",
    "    ylab('Coefficients') +\n",
    "    scale_x_discrete(labels=c('Indegree', 'Weak diversity \\n measure', 'Strong diversity \\n measure')) +\n",
    "    scale_y_continuous(limits=c(-1,2)) +\n",
    "    # scale_fill_manual(values = c('#ef3b2c', '#7fc97f', '#386cb0')) +\n",
    "    scale_fill_manual(values = c('#ef3b2c', '#63589f', '#386cb0')) + \n",
    "    theme_classic() +\n",
    "    theme(\n",
    "         legend.position=\"none\",\n",
    "         plot.background = element_blank(), \n",
    "\n",
    "         axis.ticks.x = element_blank(),\n",
    "         axis.title.x=element_blank(),\n",
    "#          axis.text.x=element_blank(),\n",
    "         axis.text.x=element_text(size=6.5, face=\"bold\"),\n",
    "\n",
    "         axis.title.y=element_text(size=7, face=\"bold\"),\n",
    "#          # axis.text.y=element_blank(),\n",
    "\n",
    "         axis.line.x = element_blank(),\n",
    "#          axis.line.y = element_line(color=\"black\", size=.7),\n",
    "         )+\n",
    "    geom_hline(yintercept=0, size=.5) +\n",
    "    geom_segment(aes(x = 1.5, y = -.8, xend = 1.5, yend = 1.8), linetype = \"dashed\", color='grey') +\n",
    "    geom_segment(aes(x = 2.5, y = -.8, xend = 2.5, yend = 1.8), linetype = \"dashed\", color='grey')\n",
    "\n"
   ]
  },
  {
   "cell_type": "code",
   "execution_count": null,
   "metadata": {},
   "outputs": [],
   "source": []
  },
  {
   "cell_type": "code",
   "execution_count": 253,
   "metadata": {},
   "outputs": [],
   "source": [
    "data <- read.csv('data/regression_combined.csv')"
   ]
  },
  {
   "cell_type": "code",
   "execution_count": 260,
   "metadata": {},
   "outputs": [
    {
     "data": {
      "image/png": "[encoded data removed]",
      "text/plain": [
       "plot without title"
      ]
     },
     "metadata": {},
     "output_type": "display_data"
    }
   ],
   "source": [
    "options(repr.plot.width = 2.1, repr.plot.height = 2.4)\n",
    "\n",
    "data %>%\n",
    "  filter(!index %in% c('Intercept')) %>%\n",
    "  filter(ivs %in% c('log_in_degree+log_weak_SD')) %>%\n",
    "  mutate(index = factor(index, levels = c(\"log_in_degree\", \"log_weak_SD\", \"log_strong_SD\"))) %>%\n",
    "  ggplot(aes(x=index, y=coeff, fill=index)) +\n",
    "    geom_bar(position=position_dodge(), stat=\"identity\",\n",
    "             colour=\"black\", # Use black outlines,\n",
    "             alpha=0.8,\n",
    "             size=.3, width=.31) +      # Thinner lines\n",
    "    geom_errorbar(aes(ymin=ci_lower, ymax=ci_upper),\n",
    "                  size=.5, width=.06,\n",
    "                  position=position_dodge(.9)) +\n",
    "    # xlab('Diversity') +\n",
    "    ylab('Coefficients') +\n",
    "    scale_x_discrete(labels=c('Indegree', 'Weak diversity \\n measure', 'Strong diversity \\n measure')) +\n",
    "    scale_y_continuous(limits=c(-1,2)) +\n",
    "    # scale_fill_manual(values = c('#ef3b2c', '#386cb0', '#7fc97f')) +\n",
    "    scale_fill_manual(values = c('#ef3b2c', '#386cb0')) +\n",
    "    # scale_fill_manual(values = c('#ef3b2c', '#63589f')) +\n",
    "    # scale_fill_manual(values = c('#386cb0', '#63589f')) +\n",
    "    # scale_fill_manual(values = c('#ef3b2c', '#91D1C2B2')) +\n",
    "    # scale_fill_manual(values = c('#ef3b2c', '#7bbcb0')) +\n",
    "#     scale_fill_manual(values = c('#ef3b2c', '#386cb0', '#63589f')) +\n",
    "    theme_classic() +\n",
    "    theme(\n",
    "         legend.position=\"none\",\n",
    "         plot.background = element_blank(), \n",
    "\n",
    "         axis.ticks.x = element_blank(),\n",
    "         axis.title.x=element_blank(),\n",
    "#          axis.text.x=element_blank(),\n",
    "         axis.text.x=element_text(size=6.5, face=\"bold\"),\n",
    "\n",
    "         axis.title.y=element_text(size=7, face=\"bold\"),\n",
    "#          # axis.text.y=element_blank(),\n",
    "\n",
    "         axis.line.x = element_blank(),\n",
    "#          axis.line.y = element_line(color=\"black\", size=.7),\n",
    "         )+\n",
    "    geom_hline(yintercept=0, size=.5)"
   ]
  },
  {
   "cell_type": "code",
   "execution_count": 261,
   "metadata": {},
   "outputs": [
    {
     "data": {
      "image/png": "[encoded data removed]",
      "text/plain": [
       "plot without title"
      ]
     },
     "metadata": {},
     "output_type": "display_data"
    }
   ],
   "source": [
    "options(repr.plot.width = 2.1, repr.plot.height = 2.4)\n",
    "\n",
    "data %>%\n",
    "  filter(!index %in% c('Intercept')) %>%\n",
    "  filter(ivs %in% c('log_in_degree+log_strong_SD')) %>%\n",
    "  mutate(index = factor(index, levels = c(\"log_in_degree\", \"log_weak_SD\", \"log_strong_SD\"))) %>%\n",
    "  ggplot(aes(x=index, y=coeff, fill=index)) +\n",
    "    geom_bar(position=position_dodge(), stat=\"identity\",\n",
    "             colour=\"black\", # Use black outlines,\n",
    "             alpha=0.8,\n",
    "             size=.3, width=.31) +      # Thinner lines\n",
    "    geom_errorbar(aes(ymin=ci_lower, ymax=ci_upper),\n",
    "                  size=.5, width=.06,\n",
    "                  position=position_dodge(.9)) +\n",
    "    # xlab('Diversity') +\n",
    "    ylab('Coefficients') +\n",
    "    scale_x_discrete(labels=c('Indegree', 'Strong diversity \\n measure')) +\n",
    "    scale_y_continuous(limits=c(-1,2)) +\n",
    "    # scale_fill_manual(values = c('#ef3b2c', '#386cb0', '#7fc97f')) +\n",
    "    scale_fill_manual(values = c('#ef3b2c', '#63589f')) +\n",
    "    # scale_fill_manual(values = c('#386cb0', '#63589f')) +\n",
    "    # scale_fill_manual(values = c('#ef3b2c', '#91D1C2B2')) +\n",
    "    # scale_fill_manual(values = c('#ef3b2c', '#7bbcb0')) +\n",
    "#     scale_fill_manual(values = c('#ef3b2c', '#386cb0', '#63589f')) +\n",
    "    theme_classic() +\n",
    "    theme(\n",
    "         legend.position=\"none\",\n",
    "         plot.background = element_blank(), \n",
    "\n",
    "         axis.ticks.x = element_blank(),\n",
    "         axis.title.x=element_blank(),\n",
    "#          axis.text.x=element_blank(),\n",
    "         axis.text.x=element_text(size=6.5, face=\"bold\"),\n",
    "\n",
    "         axis.title.y=element_text(size=7, face=\"bold\"),\n",
    "#          # axis.text.y=element_blank(),\n",
    "\n",
    "         axis.line.x = element_blank(),\n",
    "#          axis.line.y = element_line(color=\"black\", size=.7),\n",
    "         )+\n",
    "    geom_hline(yintercept=0, size=.5)"
   ]
  },
  {
   "cell_type": "code",
   "execution_count": 263,
   "metadata": {},
   "outputs": [
    {
     "data": {
      "image/png": "[encoded data removed]",
      "text/plain": [
       "plot without title"
      ]
     },
     "metadata": {},
     "output_type": "display_data"
    }
   ],
   "source": [
    "options(repr.plot.width = 3, repr.plot.height = 2.4)\n",
    "\n",
    "data %>%\n",
    "  filter(!index %in% c('Intercept')) %>%\n",
    "  filter(ivs %in% c('log_in_degree+log_weak_SD+log_strong_SD')) %>%\n",
    "  mutate(index = factor(index, levels = c(\"log_in_degree\", \"log_weak_SD\", \"log_strong_SD\"))) %>%\n",
    "  ggplot(aes(x=index, y=coeff, fill=index)) +\n",
    "    geom_bar(position=position_dodge(), stat=\"identity\",\n",
    "             colour=\"black\", # Use black outlines,\n",
    "             alpha=0.8,\n",
    "             size=.3, width=.31) +      # Thinner lines\n",
    "    geom_errorbar(aes(ymin=ci_lower, ymax=ci_upper),\n",
    "                  size=.5, width=.06,\n",
    "                  position=position_dodge(.9)) +\n",
    "    # xlab('Diversity') +\n",
    "    ylab('Coefficients') +\n",
    "    scale_x_discrete(labels=c('Indegree', 'Weak diversity \\n measure', 'Strong diversity \\n measure')) +\n",
    "    scale_y_continuous(limits=c(-1,2)) +\n",
    "    # scale_fill_manual(values = c('#ef3b2c', '#386cb0', '#7fc97f')) +\n",
    "#     scale_fill_manual(values = c('#ef3b2c', '#386cb0')) +\n",
    "    # scale_fill_manual(values = c('#ef3b2c', '#63589f')) +\n",
    "    # scale_fill_manual(values = c('#386cb0', '#63589f')) +\n",
    "    # scale_fill_manual(values = c('#ef3b2c', '#91D1C2B2')) +\n",
    "    # scale_fill_manual(values = c('#ef3b2c', '#7bbcb0')) +\n",
    "    scale_fill_manual(values = c('#ef3b2c', '#386cb0', '#63589f')) +\n",
    "    theme_classic() +\n",
    "    theme(\n",
    "         legend.position=\"none\",\n",
    "         plot.background = element_blank(), \n",
    "\n",
    "         axis.ticks.x = element_blank(),\n",
    "         axis.title.x=element_blank(),\n",
    "#          axis.text.x=element_blank(),\n",
    "         axis.text.x=element_text(size=6.5, face=\"bold\"),\n",
    "\n",
    "         axis.title.y=element_text(size=7, face=\"bold\"),\n",
    "#          # axis.text.y=element_blank(),\n",
    "\n",
    "         axis.line.x = element_blank(),\n",
    "#          axis.line.y = element_line(color=\"black\", size=.7),\n",
    "         )+\n",
    "    geom_hline(yintercept=0, size=.5)"
   ]
  },
  {
   "cell_type": "code",
   "execution_count": null,
   "metadata": {},
   "outputs": [],
   "source": []
  },
  {
   "cell_type": "markdown",
   "metadata": {},
   "source": [
    "---\n",
    "#### Regression analyses: advantages of k-clip diversity measure over indegree, weak and strong diversity measures"
   ]
  },
  {
   "cell_type": "code",
   "execution_count": 265,
   "metadata": {},
   "outputs": [],
   "source": [
    "data <- read.csv('data/kclip_SD_regression.csv')"
   ]
  },
  {
   "cell_type": "code",
   "execution_count": 294,
   "metadata": {},
   "outputs": [
    {
     "data": {
      "image/png": "[encoded data removed]",
      "text/plain": [
       "plot without title"
      ]
     },
     "metadata": {},
     "output_type": "display_data"
    }
   ],
   "source": [
    "options(repr.plot.width = 2.4, repr.plot.height = 2.4)\n",
    "\n",
    "\n",
    "data %>%\n",
    "  filter(!index %in% c('Intercept')) %>%\n",
    "  filter(ivs %in% c('log_in_degree+log_sd_kclip_5')) %>%\n",
    "  # filter(ivs %in% c('log_weak_SD+log_sd_kclip_5')) %>%\n",
    "#   filter(ivs %in% c('log_strong_SD+log_sd_kclip_5')) %>%\n",
    "  # filter(ivs %in% c('log_sd_kclip_5+log_kclip_5_weak_SB_f20')) %>%\n",
    "  mutate(index = factor(index, levels = c(\"log_in_degree\", \"log_weak_SD\", \n",
    "        \"log_strong_SD\", \"log_sd_kclip_5\"))) %>%\n",
    "  ggplot(aes(x=index, y=coeff, fill=index)) +\n",
    "    geom_bar(position=position_dodge(), stat=\"identity\",\n",
    "             colour=\"black\", # Use black outlines,\n",
    "             alpha=0.7,\n",
    "             size=.3, width=.35) +      # Thinner lines\n",
    "    geom_errorbar(aes(ymin=ci_lower, ymax=ci_upper),\n",
    "                  # position=position_dodge(.9),\n",
    "                  size=.5, width=.06) +\n",
    "    # xlab('Diversity') +\n",
    "    ylab('Coefficients') +\n",
    "    scale_x_discrete(labels=c('Indegree', 'k-clip diversity \\n measure')) +\n",
    "    scale_y_continuous(breaks=seq(-2,3,.5), limits=c(-.5, 1.5)) +\n",
    "    # scale_fill_manual(values = c('#ef3b2c', '#386cb0', '#7fc97f')) +\n",
    "    scale_fill_manual(values = c('#ef3b2c', '#7bbcb0')) +\n",
    "    # scale_fill_manual(values = c('#386cb0', '#7bbcb0')) +\n",
    "#     scale_fill_manual(values = c('#63589f', '#7bbcb0')) +\n",
    "    # scale_fill_manual(values = c('#7bbcb0', '#fdb462')) +\n",
    "    theme_classic() +\n",
    "    theme(\n",
    "         legend.position=\"none\",\n",
    "         plot.background = element_blank(), \n",
    "\n",
    "         axis.ticks.x = element_blank(),\n",
    "         axis.title.x=element_blank(),\n",
    "#          axis.text.x=element_blank(),\n",
    "         axis.text.x=element_text(size=6.5, face=\"bold\"),\n",
    "\n",
    "         axis.title.y=element_text(size=7, face=\"bold\"),\n",
    "#          # axis.text.y=element_blank(),\n",
    "\n",
    "         axis.line.x = element_blank(),\n",
    "#          axis.line.y = element_line(color=\"black\", size=.7),\n",
    "         )+\n",
    "    geom_hline(yintercept=0, size=.5)"
   ]
  },
  {
   "cell_type": "code",
   "execution_count": 296,
   "metadata": {},
   "outputs": [
    {
     "data": {
      "image/png": "[encoded data removed]",
      "text/plain": [
       "plot without title"
      ]
     },
     "metadata": {},
     "output_type": "display_data"
    }
   ],
   "source": [
    "options(repr.plot.width = 2.4, repr.plot.height = 2.4)\n",
    "\n",
    "data %>%\n",
    "  filter(!index %in% c('Intercept')) %>%\n",
    "#   filter(ivs %in% c('log_in_degree+log_sd_kclip_5')) %>%\n",
    "  filter(ivs %in% c('log_weak_SD+log_sd_kclip_5')) %>%\n",
    "#   filter(ivs %in% c('log_strong_SD+log_sd_kclip_5')) %>%\n",
    "  # filter(ivs %in% c('log_sd_kclip_5+log_kclip_5_weak_SB_f20')) %>%\n",
    "  mutate(index = factor(index, levels = c(\"log_in_degree\", \"log_weak_SD\", \n",
    "        \"log_strong_SD\", \"log_sd_kclip_5\"))) %>%\n",
    "  ggplot(aes(x=index, y=coeff, fill=index)) +\n",
    "    geom_bar(position=position_dodge(), stat=\"identity\",\n",
    "             colour=\"black\", # Use black outlines,\n",
    "             alpha=0.7,\n",
    "             size=.3, width=.35) +      # Thinner lines\n",
    "    geom_errorbar(aes(ymin=ci_lower, ymax=ci_upper),\n",
    "                  # position=position_dodge(.9),\n",
    "                  size=.5, width=.06) +\n",
    "    # xlab('Diversity') +\n",
    "    ylab('Coefficients') +\n",
    "    scale_x_discrete(labels=c('Weak diversity \\n measure', 'k-clip diversity \\n measure')) +\n",
    "    scale_y_continuous(breaks=seq(-2,3,.5), limits=c(-.5, 1.5)) +\n",
    "    # scale_fill_manual(values = c('#ef3b2c', '#386cb0', '#7fc97f')) +\n",
    "#     scale_fill_manual(values = c('#ef3b2c', '#7bbcb0')) +\n",
    "    scale_fill_manual(values = c('#386cb0', '#7bbcb0')) +\n",
    "#     scale_fill_manual(values = c('#63589f', '#7bbcb0')) +\n",
    "    # scale_fill_manual(values = c('#7bbcb0', '#fdb462')) +\n",
    "    theme_classic() +\n",
    "    theme(\n",
    "         legend.position=\"none\",\n",
    "         plot.background = element_blank(), \n",
    "\n",
    "         axis.ticks.x = element_blank(),\n",
    "         axis.title.x=element_blank(),\n",
    "#          axis.text.x=element_blank(),\n",
    "         axis.text.x=element_text(size=6.5, face=\"bold\"),\n",
    "\n",
    "         axis.title.y=element_text(size=7, face=\"bold\"),\n",
    "#          # axis.text.y=element_blank(),\n",
    "\n",
    "         axis.line.x = element_blank(),\n",
    "#          axis.line.y = element_line(color=\"black\", size=.7),\n",
    "         )+\n",
    "    geom_hline(yintercept=0, size=.5)"
   ]
  },
  {
   "cell_type": "code",
   "execution_count": 297,
   "metadata": {},
   "outputs": [
    {
     "data": {
      "image/png": "[encoded data removed]",
      "text/plain": [
       "plot without title"
      ]
     },
     "metadata": {},
     "output_type": "display_data"
    }
   ],
   "source": [
    "options(repr.plot.width = 2.4, repr.plot.height = 2.4)\n",
    "\n",
    "data %>%\n",
    "  filter(!index %in% c('Intercept')) %>%\n",
    "#   filter(ivs %in% c('log_in_degree+log_sd_kclip_5')) %>%\n",
    "#   filter(ivs %in% c('log_weak_SD+log_sd_kclip_5')) %>%\n",
    "  filter(ivs %in% c('log_strong_SD+log_sd_kclip_5')) %>%\n",
    "  # filter(ivs %in% c('log_sd_kclip_5+log_kclip_5_weak_SB_f20')) %>%\n",
    "  mutate(index = factor(index, levels = c(\"log_in_degree\", \"log_weak_SD\", \n",
    "        \"log_strong_SD\", \"log_sd_kclip_5\"))) %>%\n",
    "  ggplot(aes(x=index, y=coeff, fill=index)) +\n",
    "    geom_bar(position=position_dodge(), stat=\"identity\",\n",
    "             colour=\"black\", # Use black outlines,\n",
    "             alpha=0.7,\n",
    "             size=.3, width=.35) +      # Thinner lines\n",
    "    geom_errorbar(aes(ymin=ci_lower, ymax=ci_upper),\n",
    "                  # position=position_dodge(.9),\n",
    "                  size=.5, width=.06) +\n",
    "    # xlab('Diversity') +\n",
    "    ylab('Coefficients') +\n",
    "    scale_x_discrete(labels=c('Strong diversity \\n measure', 'k-clip diversity \\n measure')) +\n",
    "    scale_y_continuous(breaks=seq(-2,3,.5), limits=c(-.5, 1.5)) +\n",
    "    # scale_fill_manual(values = c('#ef3b2c', '#386cb0', '#7fc97f')) +\n",
    "#     scale_fill_manual(values = c('#ef3b2c', '#7bbcb0')) +\n",
    "#     scale_fill_manual(values = c('#386cb0', '#7bbcb0')) +\n",
    "    scale_fill_manual(values = c('#63589f', '#7bbcb0')) +\n",
    "    # scale_fill_manual(values = c('#7bbcb0', '#fdb462')) +\n",
    "    theme_classic() +\n",
    "    theme(\n",
    "         legend.position=\"none\",\n",
    "         plot.background = element_blank(), \n",
    "\n",
    "         axis.ticks.x = element_blank(),\n",
    "         axis.title.x=element_blank(),\n",
    "#          axis.text.x=element_blank(),\n",
    "         axis.text.x=element_text(size=6.5, face=\"bold\"),\n",
    "\n",
    "         axis.title.y=element_text(size=7, face=\"bold\"),\n",
    "#          # axis.text.y=element_blank(),\n",
    "\n",
    "         axis.line.x = element_blank(),\n",
    "#          axis.line.y = element_line(color=\"black\", size=.7),\n",
    "         )+\n",
    "    geom_hline(yintercept=0, size=.5)"
   ]
  },
  {
   "cell_type": "code",
   "execution_count": null,
   "metadata": {},
   "outputs": [],
   "source": []
  },
  {
   "cell_type": "markdown",
   "metadata": {},
   "source": [
    "---\n",
    "#### gender differences"
   ]
  },
  {
   "cell_type": "code",
   "execution_count": 298,
   "metadata": {},
   "outputs": [],
   "source": [
    "data <- read.csv('data/gender_social_reputation.csv')"
   ]
  },
  {
   "cell_type": "code",
   "execution_count": 323,
   "metadata": {},
   "outputs": [
    {
     "data": {
      "image/png": "[encoded data removed]",
      "text/plain": [
       "plot without title"
      ]
     },
     "metadata": {},
     "output_type": "display_data"
    }
   ],
   "source": [
    "options(repr.plot.width = 2.4, repr.plot.height = 2.4)\n",
    "\n",
    "data %>%\n",
    "  # mutate(index = factor(index, levels = c(\"NA\", \"Female\", \"Male\"))) %>%\n",
    "  mutate(gender = factor(gender, levels = c(-1, 0, 1))) %>%\n",
    "  # ggplot(aes(x=gender, y=coeff, fill=iv)) +\n",
    "  ggplot(aes(x=gender, y=mean, fill=gender)) +\n",
    "    geom_bar(position=position_dodge(), stat=\"identity\",\n",
    "             colour=\"black\", # Use black outlines,\n",
    "             size=.3, width=.45) +      # Thinner lines\n",
    "    geom_errorbar(aes(ymin=ci_lower, ymax=ci_upper),\n",
    "                  size=.5, width=.1) +\n",
    "    xlab('Gender') +\n",
    "    ylab('Social reputation index') +\n",
    "    # scale_x_discrete(expand=c(0, 0)) +\n",
    "    scale_x_discrete(labels=c('NA', 'Female', 'Male')) +\n",
    "    scale_y_continuous(expand = c(0, 0),breaks=seq(0,10,2), labels=seq(0,10,2), limits=c(0,10)) +\n",
    "    # scale_x_discrete(expand = c(0.5, 0)) +\n",
    "    scale_fill_manual(values = c(\"#d1eeea\", \"#96d0d1\", \"#68abb8\", \"#45829b\", \"#2a5674\")) +\n",
    "    theme_classic() +\n",
    "    theme(\n",
    "         legend.position=\"none\",\n",
    "         # axis.ticks.length = unit(0.1, \"cm\"),\n",
    "#          axis.title.x=element_blank(),\n",
    "#          axis.text.x=element_blank(),\n",
    "         axis.text.x=element_text(size=6, face=\"bold\"),\n",
    "        \n",
    "         axis.title=element_text(size=7, face=\"bold\"),\n",
    "\n",
    "#          axis.title.y=element_blank(),\n",
    "#          axis.text.y=element_blank(),\n",
    "\n",
    "         axis.ticks.x = element_blank(),\n",
    "        )\n"
   ]
  },
  {
   "cell_type": "code",
   "execution_count": null,
   "metadata": {},
   "outputs": [],
   "source": []
  },
  {
   "cell_type": "markdown",
   "metadata": {},
   "source": [
    "---\n",
    "#### Matching result (PSM)"
   ]
  },
  {
   "cell_type": "code",
   "execution_count": 333,
   "metadata": {},
   "outputs": [],
   "source": [
    "data <- read.csv('data/PSM-result.csv')"
   ]
  },
  {
   "cell_type": "code",
   "execution_count": 334,
   "metadata": {},
   "outputs": [
    {
     "data": {
      "text/html": [
       "<table>\n",
       "<thead><tr><th scope=col>treatment</th><th scope=col>cnt</th><th scope=col>mean</th><th scope=col>ci_lower</th><th scope=col>ci_upper</th></tr></thead>\n",
       "<tbody>\n",
       "\t<tr><td>0       </td><td>15863   </td><td>11.98985</td><td>11.78884</td><td>12.18510</td></tr>\n",
       "\t<tr><td>1       </td><td>15863   </td><td>14.70465</td><td>14.48453</td><td>14.92034</td></tr>\n",
       "</tbody>\n",
       "</table>\n"
      ],
      "text/latex": [
       "\\begin{tabular}{r|lllll}\n",
       " treatment & cnt & mean & ci\\_lower & ci\\_upper\\\\\n",
       "\\hline\n",
       "\t 0        & 15863    & 11.98985 & 11.78884 & 12.18510\\\\\n",
       "\t 1        & 15863    & 14.70465 & 14.48453 & 14.92034\\\\\n",
       "\\end{tabular}\n"
      ],
      "text/markdown": [
       "\n",
       "| treatment | cnt | mean | ci_lower | ci_upper |\n",
       "|---|---|---|---|---|\n",
       "| 0        | 15863    | 11.98985 | 11.78884 | 12.18510 |\n",
       "| 1        | 15863    | 14.70465 | 14.48453 | 14.92034 |\n",
       "\n"
      ],
      "text/plain": [
       "  treatment cnt   mean     ci_lower ci_upper\n",
       "1 0         15863 11.98985 11.78884 12.18510\n",
       "2 1         15863 14.70465 14.48453 14.92034"
      ]
     },
     "metadata": {},
     "output_type": "display_data"
    }
   ],
   "source": [
    "data"
   ]
  },
  {
   "cell_type": "code",
   "execution_count": 349,
   "metadata": {},
   "outputs": [
    {
     "data": {
      "image/png": "[encoded data removed]",
      "text/plain": [
       "plot without title"
      ]
     },
     "metadata": {},
     "output_type": "display_data"
    }
   ],
   "source": [
    "options(repr.plot.width = 1.8, repr.plot.height = 2.4)\n",
    "\n",
    "data %>%\n",
    "  mutate(treatment = ifelse(treatment == '0', 1,2)) %>%\n",
    "  ggplot(aes(x=treatment, y=mean)) +\n",
    "    geom_rect(aes(xmin=1.5, xmax=Inf, ymin=-Inf, ymax=Inf), fill='#DADAEB', alpha =0.2) +\n",
    "    geom_errorbar(aes(ymin=ci_lower, ymax=ci_upper), size=.6, width=.12) +\n",
    "    geom_point(size=1.5, color='black') +\n",
    "    scale_x_continuous(expand=c(0, 0), breaks=c(1,2), limits=c(.5, 2.5), labels=c('Other', 'Max')) +\n",
    "    scale_y_continuous(breaks=seq(1, 15, 1), limits=c(11, 15)) +  #weak, also equivalent to ensmeble\n",
    "    # scale_y_continuous(breaks=seq(1, 20, 1), limits=c(15, 20)) +  #strong\n",
    "    # scale_y_continuous(breaks=seq(0, 20, 5), limits=c(5, 20)) +\n",
    "    xlab('k-clip diversity measure') +\n",
    "    ylab('Social reputation index') +\n",
    "    theme_bw() +\n",
    "    theme(\n",
    "       legend.position=\"none\",\n",
    "       plot.background = element_blank(),\n",
    "       panel.grid.major = element_blank(),\n",
    "       panel.grid.minor = element_blank(),\n",
    "       panel.background = element_blank(),\n",
    "\n",
    "       axis.ticks.length = unit(0.3, \"cm\"),\n",
    "       axis.text.x=element_text(size=6, face=\"bold\"),\n",
    "       axis.title=element_text(size=7, face=\"bold\"),\n",
    "\n",
    "       panel.border = element_rect(color='black', size=1),\n",
    "         ) +\n",
    "    geom_vline(xintercept=1.5, linetype='dotted', colour='black')"
   ]
  },
  {
   "cell_type": "code",
   "execution_count": null,
   "metadata": {},
   "outputs": [],
   "source": []
  },
  {
   "cell_type": "markdown",
   "metadata": {},
   "source": [
    "---\n",
    "#### Scoial bridges"
   ]
  },
  {
   "cell_type": "code",
   "execution_count": 355,
   "metadata": {},
   "outputs": [
    {
     "data": {
      "image/png": "[encoded data removed]",
      "text/plain": [
       "plot without title"
      ]
     },
     "metadata": {},
     "output_type": "display_data"
    },
    {
     "data": {
      "image/png": "[encoded data removed]",
      "text/plain": [
       "plot without title"
      ]
     },
     "metadata": {},
     "output_type": "display_data"
    }
   ],
   "source": [
    "data <- read.csv('data/kclip_bridge_SD.csv')\n",
    "\n",
    "options(repr.plot.width = 10, repr.plot.height = 5)\n",
    "\n",
    "levels_ <- c(\"kclip_div=2\", \"kclip_div=3\", \"kclip_div=4\", \"kclip_div=5\", \"kclip_div=6\")\n",
    "data %>%\n",
    "  filter(sd_kclip_5 %in% c(2,3,4,5,6)) %>%\n",
    "  mutate(group=paste0(\"kclip_div=\", sd_kclip_5)) %>%\n",
    "  mutate(group=factor(group, levels=levels_)) %>%\n",
    "  ggplot(aes(x=kclip_5_weak_SB_f20, y=mean)) +\n",
    "    geom_errorbar(aes(ymin=ci_lower, ymax=ci_upper), size=0.5, width=.15) +\n",
    "    geom_point(size=1.5, color='black') +\n",
    "    scale_x_continuous(breaks=seq(1, 10, 1)) +\n",
    "    scale_y_continuous(breaks=seq(-5, 20, 5), limits=c(-1.5, 17)) +\n",
    "    xlab(\"Strong diversity measure\") + ylab(\"Social reputation index\") +\n",
    "    facet_grid(cols=vars(group), scales='free_x', space='free_x') +\n",
    "    theme_bw() +\n",
    "    theme(panel.grid.minor.x = element_blank(),\n",
    "         strip.text.x = element_text(size=10), )\n",
    "\n",
    "\n",
    "options(repr.plot.width = 10, repr.plot.height = 5)\n",
    "\n",
    "levels_ <- c(\"kclip_div=7\", \"kclip_div=8\", \"kclip_div=9\", \"kclip_div=10\")\n",
    "data %>%\n",
    "  filter(sd_kclip_5 %in% c(7,8,9,10)) %>%\n",
    "  mutate(group=paste0(\"kclip_div=\", sd_kclip_5)) %>%\n",
    "  mutate(group=factor(group, levels=levels_)) %>%\n",
    "  ggplot(aes(x=kclip_5_weak_SB_f20, y=mean)) +\n",
    "    geom_errorbar(aes(ymin=ci_lower, ymax=ci_upper), size=0.5, width=.15) +\n",
    "    geom_point(size=1.5, color='black') +\n",
    "    scale_x_continuous(breaks=seq(1, 10, 1)) +\n",
    "    scale_y_continuous(breaks=seq(-5, 20, 5), limits=c(-1.5, 17)) +\n",
    "    xlab(\"Strong diversity measure\") + ylab(\"Social reputation index\") +\n",
    "    facet_grid(cols=vars(group), scales='free_x', space='free_x') +\n",
    "    theme_bw() +\n",
    "    theme(panel.grid.minor.x = element_blank(),\n",
    "         strip.text.x = element_text(size=10), )\n",
    "\n"
   ]
  },
  {
   "cell_type": "code",
   "execution_count": null,
   "metadata": {},
   "outputs": [],
   "source": []
  },
  {
   "cell_type": "code",
   "execution_count": null,
   "metadata": {},
   "outputs": [],
   "source": [
    "options(repr.plot.width = 2.4, repr.plot.height = 2.4)\n",
    "\n",
    "data %>%\n",
    "  filter(!index %in% c('Intercept')) %>%\n",
    "#   filter(ivs %in% c('log_in_degree+log_sd_kclip_5')) %>%\n",
    "#   filter(ivs %in% c('log_weak_SD+log_sd_kclip_5')) %>%\n",
    "  filter(ivs %in% c('log_strong_SD+log_sd_kclip_5')) %>%\n",
    "  # filter(ivs %in% c('log_sd_kclip_5+log_kclip_5_weak_SB_f20')) %>%\n",
    "  mutate(index = factor(index, levels = c(\"log_in_degree\", \"log_weak_SD\", \n",
    "        \"log_strong_SD\", \"log_sd_kclip_5\"))) %>%\n",
    "  ggplot(aes(x=index, y=coeff, fill=index)) +\n",
    "    geom_bar(position=position_dodge(), stat=\"identity\",\n",
    "             colour=\"black\", # Use black outlines,\n",
    "             alpha=0.7,\n",
    "             size=.3, width=.35) +      # Thinner lines\n",
    "    geom_errorbar(aes(ymin=ci_lower, ymax=ci_upper),\n",
    "                  # position=position_dodge(.9),\n",
    "                  size=.5, width=.06) +\n",
    "    # xlab('Diversity') +\n",
    "    ylab('Coefficients') +\n",
    "    scale_x_discrete(labels=c('Strong diversity \\n measure', 'k-clip diversity \\n measure')) +\n",
    "    scale_y_continuous(breaks=seq(-2,3,.5), limits=c(-.5, 1.5)) +\n",
    "    # scale_fill_manual(values = c('#ef3b2c', '#386cb0', '#7fc97f')) +\n",
    "#     scale_fill_manual(values = c('#ef3b2c', '#7bbcb0')) +\n",
    "#     scale_fill_manual(values = c('#386cb0', '#7bbcb0')) +\n",
    "    scale_fill_manual(values = c('#63589f', '#7bbcb0')) +\n",
    "    # scale_fill_manual(values = c('#7bbcb0', '#fdb462')) +\n",
    "    theme_classic() +\n",
    "    theme(\n",
    "         legend.position=\"none\",\n",
    "         plot.background = element_blank(), \n",
    "\n",
    "         axis.ticks.x = element_blank(),\n",
    "         axis.title.x=element_blank(),\n",
    "#          axis.text.x=element_blank(),\n",
    "         axis.text.x=element_text(size=6.5, face=\"bold\"),\n",
    "\n",
    "         axis.title.y=element_text(size=7, face=\"bold\"),\n",
    "#          # axis.text.y=element_blank(),\n",
    "\n",
    "         axis.line.x = element_blank(),\n",
    "#          axis.line.y = element_line(color=\"black\", size=.7),\n",
    "         )+\n",
    "    geom_hline(yintercept=0, size=.5)"
   ]
  },
  {
   "cell_type": "code",
   "execution_count": 356,
   "metadata": {},
   "outputs": [],
   "source": [
    "data <- read.csv('data/kclip_BSD_regression.csv')"
   ]
  },
  {
   "cell_type": "code",
   "execution_count": 361,
   "metadata": {},
   "outputs": [
    {
     "data": {
      "image/png": "[encoded data removed]",
      "text/plain": [
       "plot without title"
      ]
     },
     "metadata": {},
     "output_type": "display_data"
    }
   ],
   "source": [
    "options(repr.plot.width = 2.4, repr.plot.height = 2.4)\n",
    "\n",
    "\n",
    "data %>%\n",
    "  filter(!index %in% c('Intercept')) %>%\n",
    "  filter(ivs %in% c('log_sd_kclip_5+log_kclip_5_weak_SB_f20')) %>%\n",
    "  mutate(index = factor(index, levels = c(\"log_sd_kclip_5\", \n",
    "                        \"log_kclip_5_weak_SB_f20\"))) %>%\n",
    "  ggplot(aes(x=index, y=coeff, fill=index)) +\n",
    "    geom_bar(position=position_dodge(), stat=\"identity\",\n",
    "             colour=\"black\", # Use black outlines,\n",
    "             alpha=0.8,\n",
    "             size=.3, width=.31) +      # Thinner lines\n",
    "    geom_errorbar(aes(ymin=ci_lower, ymax=ci_upper),\n",
    "                  size=.5, width=.06,\n",
    "                  position=position_dodge(.9)) +\n",
    "    ylab('Coefficients') +\n",
    "    scale_x_discrete(labels=c( 'k-clip diversity \\n measure', 'Bridged k-clip \\n diversity measure')) +\n",
    "    scale_y_continuous(breaks=seq(-2,3,1), limits=c(-1, 2)) +\n",
    "    scale_fill_manual(values = c('#7bbcb0', '#fdb462')) +\n",
    "    theme_classic() +\n",
    "    theme(\n",
    "         legend.position=\"none\",\n",
    "         plot.background = element_blank(), \n",
    "\n",
    "         axis.ticks.x = element_blank(),\n",
    "         axis.title.x=element_blank(),\n",
    "#          axis.text.x=element_blank(),\n",
    "         axis.text.x=element_text(size=6.5, face=\"bold\"),\n",
    "\n",
    "         axis.title.y=element_text(size=7, face=\"bold\"),\n",
    "#          # axis.text.y=element_blank(),\n",
    "\n",
    "         axis.line.x = element_blank(),\n",
    "#          axis.line.y = element_line(color=\"black\", size=.7),\n",
    "         )+\n",
    "    geom_hline(yintercept=0, size=.5)"
   ]
  },
  {
   "cell_type": "code",
   "execution_count": null,
   "metadata": {},
   "outputs": [],
   "source": []
  },
  {
   "cell_type": "code",
   "execution_count": null,
   "metadata": {},
   "outputs": [],
   "source": []
  },
  {
   "cell_type": "code",
   "execution_count": null,
   "metadata": {},
   "outputs": [],
   "source": []
  },
  {
   "cell_type": "code",
   "execution_count": null,
   "metadata": {},
   "outputs": [],
   "source": []
  },
  {
   "cell_type": "code",
   "execution_count": null,
   "metadata": {},
   "outputs": [],
   "source": []
  },
  {
   "cell_type": "code",
   "execution_count": null,
   "metadata": {},
   "outputs": [],
   "source": []
  },
  {
   "cell_type": "code",
   "execution_count": null,
   "metadata": {},
   "outputs": [],
   "source": []
  },
  {
   "cell_type": "markdown",
   "metadata": {},
   "source": [
    "---\n",
    "#### Social reputation as a function of indegree, when SD is controlled"
   ]
  },
  {
   "cell_type": "code",
   "execution_count": 149,
   "metadata": {},
   "outputs": [
    {
     "data": {
      "image/png": "[encoded data removed]",
      "text/plain": [
       "plot without title"
      ]
     },
     "metadata": {},
     "output_type": "display_data"
    }
   ],
   "source": [
    "data <- read.csv('data/indegree_weak_SD.csv')\n",
    "\n",
    "options(repr.plot.width = 10, repr.plot.height = 5)\n",
    "\n",
    "data %>%\n",
    "  filter(weak_SD %in% c(1,2,3,4,5,6,7,8,9)) %>%\n",
    "#   mutate(group=paste0(\"Indegree=\", in_degree)) %>%\n",
    "  mutate(group=paste0(\"Weak_SD=\", weak_SD)) %>%\n",
    "#   mutate(group=factor(group, levels=levels_)) %>%\n",
    "  ggplot(aes(x=in_degree, y=mean)) +\n",
    "    geom_errorbar(aes(ymin=ci_lower, ymax=ci_upper), size=0.5, width=.15) +\n",
    "    geom_point(size=1.5, color='black') +\n",
    "    scale_x_continuous(breaks=seq(1, 10, 1)) +\n",
    "    scale_y_continuous(breaks=seq(-5, 20, 5), limits=c(-1.5, 17)) +\n",
    "    xlab(\"Indegree\") + ylab(\"Social reputation index\") +\n",
    "#     facet_grid(cols=vars(group), scales='free_x', space='free_x') +\n",
    "    facet_grid(cols=vars(group)) +\n",
    "    theme_bw() +\n",
    "    theme(panel.grid.minor.x = element_blank(),\n",
    "         strip.text.x = element_text(size=10), )"
   ]
  },
  {
   "cell_type": "code",
   "execution_count": 144,
   "metadata": {},
   "outputs": [
    {
     "data": {
      "image/png": "[encoded data removed]",
      "text/plain": [
       "plot without title"
      ]
     },
     "metadata": {},
     "output_type": "display_data"
    }
   ],
   "source": [
    "data <- read.csv('data/indegree_strong_SD.csv')\n",
    "\n",
    "options(repr.plot.width = 10, repr.plot.height = 5)\n",
    "\n",
    "data %>%\n",
    "  filter(strong_SD %in% c(1,2,3,4,5,6,7,8,9)) %>%\n",
    "#   mutate(group=paste0(\"Indegree=\", in_degree)) %>%\n",
    "  mutate(group=paste0(\"Stong_SD=\", strong_SD)) %>%\n",
    "#   mutate(group=factor(group, levels=levels_)) %>%\n",
    "  ggplot(aes(x=in_degree, y=mean)) +\n",
    "    geom_errorbar(aes(ymin=ci_lower, ymax=ci_upper), size=0.5, width=.15) +\n",
    "    geom_point(size=1.5, color='black') +\n",
    "    scale_x_continuous(breaks=seq(1, 10, 1)) +\n",
    "    scale_y_continuous(breaks=seq(-5, 20, 5), limits=c(-1.5, 17)) +\n",
    "    xlab(\"Indegree\") + ylab(\"Social reputation index\") +\n",
    "#     facet_grid(cols=vars(group), scales='free_x', space='free_x') +\n",
    "    facet_grid(cols=vars(group)) +\n",
    "    theme_bw() +\n",
    "    theme(panel.grid.minor.x = element_blank(),\n",
    "         strip.text.x = element_text(size=10), )"
   ]
  },
  {
   "cell_type": "code",
   "execution_count": 150,
   "metadata": {},
   "outputs": [
    {
     "data": {
      "image/png": "[encoded data removed]",
      "text/plain": [
       "plot without title"
      ]
     },
     "metadata": {},
     "output_type": "display_data"
    }
   ],
   "source": [
    "data <- read.csv('data/indegree_kclip_SD.csv')\n",
    "\n",
    "options(repr.plot.width = 10, repr.plot.height = 5)\n",
    "\n",
    "data %>%\n",
    "  filter(sd_kclip_5 %in% c(1,2,3,4,5,6,7,8,9)) %>%\n",
    "#   mutate(group=paste0(\"Indegree=\", in_degree)) %>%\n",
    "  mutate(group=paste0(\"kclip_SD=\", sd_kclip_5)) %>%\n",
    "#   mutate(group=factor(group, levels=levels_)) %>%\n",
    "  ggplot(aes(x=in_degree, y=mean)) +\n",
    "    geom_errorbar(aes(ymin=ci_lower, ymax=ci_upper), size=0.5, width=.15) +\n",
    "    geom_point(size=1.5, color='black') +\n",
    "    scale_x_continuous(breaks=seq(1, 10, 1)) +\n",
    "    scale_y_continuous(breaks=seq(-5, 20, 5), limits=c(-1.5, 17)) +\n",
    "    xlab(\"Indegree\") + ylab(\"Social reputation index\") +\n",
    "#     facet_grid(cols=vars(group), scales='free_x', space='free_x') +\n",
    "    facet_grid(cols=vars(group)) +\n",
    "    theme_bw() +\n",
    "    theme(panel.grid.minor.x = element_blank(),\n",
    "         strip.text.x = element_text(size=10), )"
   ]
  },
  {
   "cell_type": "code",
   "execution_count": null,
   "metadata": {},
   "outputs": [],
   "source": []
  },
  {
   "cell_type": "code",
   "execution_count": 153,
   "metadata": {},
   "outputs": [
    {
     "data": {
      "image/png": "[encoded data removed]",
      "text/plain": [
       "plot without title"
      ]
     },
     "metadata": {},
     "output_type": "display_data"
    }
   ],
   "source": [
    "data <- read.csv('data/indegree_bridge_SD.csv')\n",
    "\n",
    "options(repr.plot.width = 10, repr.plot.height = 5)\n",
    "\n",
    "data %>%\n",
    "  filter(kclip_5_weak_SB_f20 %in% c(1,2,3,4,5,6,7,8,9)) %>%\n",
    "#   mutate(group=paste0(\"Indegree=\", in_degree)) %>%\n",
    "  mutate(group=paste0(\"B_kclip_SD=\", kclip_5_weak_SB_f20)) %>%\n",
    "#   mutate(group=factor(group, levels=levels_)) %>%\n",
    "  ggplot(aes(x=in_degree, y=mean)) +\n",
    "    geom_errorbar(aes(ymin=ci_lower, ymax=ci_upper), size=0.5, width=.15) +\n",
    "    geom_point(size=1.5, color='black') +\n",
    "    scale_x_continuous(breaks=seq(1, 10, 1)) +\n",
    "    scale_y_continuous(breaks=seq(-5, 20, 5), limits=c(-1.5, 17)) +\n",
    "    xlab(\"Indegree\") + ylab(\"Social reputation index\") +\n",
    "#     facet_grid(cols=vars(group), scales='free_x', space='free_x') +\n",
    "    facet_grid(cols=vars(group)) +\n",
    "    theme_bw() +\n",
    "    theme(panel.grid.minor.x = element_blank(),\n",
    "         strip.text.x = element_text(size=10), )"
   ]
  },
  {
   "cell_type": "code",
   "execution_count": null,
   "metadata": {},
   "outputs": [],
   "source": []
  },
  {
   "cell_type": "code",
   "execution_count": null,
   "metadata": {},
   "outputs": [],
   "source": []
  },
  {
   "cell_type": "code",
   "execution_count": 155,
   "metadata": {},
   "outputs": [
    {
     "data": {
      "image/png": "[encoded data removed]",
      "text/plain": [
       "plot without title"
      ]
     },
     "metadata": {},
     "output_type": "display_data"
    }
   ],
   "source": [
    "data <- read.csv('data/kclip_bridge_SD.csv')\n",
    "\n",
    "options(repr.plot.width = 10, repr.plot.height = 5)\n",
    "\n",
    "data %>%\n",
    "  filter(kclip_5_weak_SB_f20 %in% c(1,2,3,4,5,6,7,8,9)) %>%\n",
    "#   mutate(group=paste0(\"Indegree=\", in_degree)) %>%\n",
    "  mutate(group=paste0(\"B_kclip_SD=\", kclip_5_weak_SB_f20)) %>%\n",
    "#   mutate(group=factor(group, levels=levels_)) %>%\n",
    "  ggplot(aes(x=sd_kclip_5, y=mean)) +\n",
    "    geom_errorbar(aes(ymin=ci_lower, ymax=ci_upper), size=0.5, width=.15) +\n",
    "    geom_point(size=1.5, color='black') +\n",
    "    scale_x_continuous(breaks=seq(1, 10, 1)) +\n",
    "    scale_y_continuous(breaks=seq(-5, 20, 5), limits=c(-1.5, 17)) +\n",
    "    xlab(\"kclip_SD\") + ylab(\"Social reputation index\") +\n",
    "#     facet_grid(cols=vars(group), scales='free_x', space='free_x') +\n",
    "    facet_grid(cols=vars(group)) +\n",
    "    theme_bw() +\n",
    "    theme(panel.grid.minor.x = element_blank(),\n",
    "         strip.text.x = element_text(size=10), )"
   ]
  },
  {
   "cell_type": "code",
   "execution_count": null,
   "metadata": {},
   "outputs": [],
   "source": []
  },
  {
   "cell_type": "code",
   "execution_count": null,
   "metadata": {},
   "outputs": [],
   "source": []
  },
  {
   "cell_type": "code",
   "execution_count": null,
   "metadata": {},
   "outputs": [],
   "source": []
  },
  {
   "cell_type": "code",
   "execution_count": null,
   "metadata": {},
   "outputs": [],
   "source": []
  },
  {
   "cell_type": "code",
   "execution_count": null,
   "metadata": {},
   "outputs": [],
   "source": []
  },
  {
   "cell_type": "code",
   "execution_count": null,
   "metadata": {},
   "outputs": [],
   "source": []
  },
  {
   "cell_type": "code",
   "execution_count": null,
   "metadata": {},
   "outputs": [],
   "source": []
  }
 ],
 "metadata": {
  "kernelspec": {
   "display_name": "R",
   "language": "R",
   "name": "ir"
  },
  "language_info": {
   "codemirror_mode": "r",
   "file_extension": ".r",
   "mimetype": "text/x-r-source",
   "name": "R",
   "pygments_lexer": "r",
   "version": "3.5.1"
  }
 },
 "nbformat": 4,
 "nbformat_minor": 2
}
